{
  "nbformat": 4,
  "nbformat_minor": 0,
  "metadata": {
    "colab": {
      "name": "A_Bhuiyan_Quiz1.ipynb",
      "provenance": [],
      "collapsed_sections": []
    },
    "kernelspec": {
      "name": "python3",
      "display_name": "Python 3"
    },
    "language_info": {
      "name": "python"
    }
  },
  "cells": [
    {
      "cell_type": "markdown",
      "source": [
        "# Akil Bhuiyan\n",
        "# Quiz Assignment 1\n",
        "[Quiz_Assignment.pdf](https://drive.google.com/open?id=1cKw5Ta-0QJSxZ3wdo2ZbMVw6-ANOECr2)  \n",
        "[Diamond.csv](https://drive.google.com/open?id=1mhCi0BDw_jdgGViu4orx2a06ncDGC6Ki)\n",
        "\n",
        "[https://ggplot2.tidyverse.org/reference/diamonds.html](https://ggplot2.tidyverse.org/reference/diamonds.html)\n",
        "\n"
      ],
      "metadata": {
        "id": "-36_U7aoJNkQ"
      }
    },
    {
      "cell_type": "markdown",
      "source": [
        "## All Imports "
      ],
      "metadata": {
        "id": "tONqJyOr5zkA"
      }
    },
    {
      "cell_type": "code",
      "source": [
        "import ssl\n",
        "ssl._create_default_https_context = ssl._create_unverified_context\n",
        "import numpy as np\n",
        "import pandas as pd\n",
        "import matplotlib.pylab as plt\n",
        "import seaborn as sns"
      ],
      "metadata": {
        "id": "AHA4GI-Q5-Di"
      },
      "execution_count": 45,
      "outputs": []
    },
    {
      "cell_type": "markdown",
      "source": [
        "## **Part 1: Data Summary**"
      ],
      "metadata": {
        "id": "FuIXK12F6wSw"
      }
    },
    {
      "cell_type": "markdown",
      "source": [
        "### Prices of over 50,000 round cut diamonds\n",
        "\n",
        "About Data Set:\n",
        "\n",
        "This dataset containing the prices and other attributes of almost 54,000 diamonds. A data frame is with 53940 rows and 10 variables.\n",
        "\n",
        "About Attributes: \n",
        "\n",
        "* price:\n",
        "      price in US dollars (\\$326--\\$18,823)\n",
        "\n",
        "* carat:\n",
        "      weight of the diamond (0.2--5.01)\n",
        "\n",
        "* cut:\n",
        "      quality of the cut (Fair, Good, Very Good, Premium, Ideal)\n",
        "\n",
        "* color:\n",
        "      diamond colour, from D (best) to J (worst)\n",
        "\n",
        "* clarity:\n",
        "      a measurement of how clear the diamond is (I1 (worst), SI2, SI1, VS2, VS1, VVS2, VVS1, IF (best))\n",
        "\n",
        "* x:\n",
        "      length in mm (0--10.74)\n",
        "\n",
        "* y:\n",
        "      width in mm (0--58.9)\n",
        "\n",
        "* z:\n",
        "      depth in mm (0--31.8)\n",
        "\n",
        "* depth:\n",
        "      total depth percentage = z / mean(x, y) = 2 * z / (x + y) (43--79)\n",
        "\n",
        "* table:\n",
        "      width of top of diamond relative to widest point (43--95)"
      ],
      "metadata": {
        "id": "yHh541QoHwRQ"
      }
    },
    {
      "cell_type": "markdown",
      "source": [
        "### Read the csv file and retrieve the data and print them in a data table using pandas head method. "
      ],
      "metadata": {
        "id": "EDBkibLS6IzT"
      }
    },
    {
      "cell_type": "code",
      "execution_count": 20,
      "metadata": {
        "id": "jJI5Eks_3x70",
        "colab": {
          "base_uri": "https://localhost:8080/",
          "height": 215
        },
        "outputId": "7cc1a8eb-01b5-42fa-b072-0ed15b0b7488"
      },
      "outputs": [
        {
          "output_type": "execute_result",
          "data": {
            "text/plain": [
              "   Unnamed: 0  carat      cut color clarity  depth  table  price     x     y  \\\n",
              "0           1   0.23    Ideal     E     SI2   61.5   55.0    326  3.95  3.98   \n",
              "1           2   0.21  Premium     E     SI1   59.8   61.0    326  3.89  3.84   \n",
              "2           3   0.23     Good     E     VS1   56.9   65.0    327  4.05  4.07   \n",
              "3           4   0.29  Premium     I     VS2   62.4   58.0    334  4.20  4.23   \n",
              "4           5   0.31     Good     J     SI2   63.3   58.0    335  4.34  4.35   \n",
              "\n",
              "      z  \n",
              "0  2.43  \n",
              "1  2.31  \n",
              "2  2.31  \n",
              "3  2.63  \n",
              "4  2.75  "
            ],
            "text/html": [
              "\n",
              "  <div id=\"df-f7f17893-113e-42c4-8c89-9343938f35d1\">\n",
              "    <div class=\"colab-df-container\">\n",
              "      <div>\n",
              "<style scoped>\n",
              "    .dataframe tbody tr th:only-of-type {\n",
              "        vertical-align: middle;\n",
              "    }\n",
              "\n",
              "    .dataframe tbody tr th {\n",
              "        vertical-align: top;\n",
              "    }\n",
              "\n",
              "    .dataframe thead th {\n",
              "        text-align: right;\n",
              "    }\n",
              "</style>\n",
              "<table border=\"1\" class=\"dataframe\">\n",
              "  <thead>\n",
              "    <tr style=\"text-align: right;\">\n",
              "      <th></th>\n",
              "      <th>Unnamed: 0</th>\n",
              "      <th>carat</th>\n",
              "      <th>cut</th>\n",
              "      <th>color</th>\n",
              "      <th>clarity</th>\n",
              "      <th>depth</th>\n",
              "      <th>table</th>\n",
              "      <th>price</th>\n",
              "      <th>x</th>\n",
              "      <th>y</th>\n",
              "      <th>z</th>\n",
              "    </tr>\n",
              "  </thead>\n",
              "  <tbody>\n",
              "    <tr>\n",
              "      <th>0</th>\n",
              "      <td>1</td>\n",
              "      <td>0.23</td>\n",
              "      <td>Ideal</td>\n",
              "      <td>E</td>\n",
              "      <td>SI2</td>\n",
              "      <td>61.5</td>\n",
              "      <td>55.0</td>\n",
              "      <td>326</td>\n",
              "      <td>3.95</td>\n",
              "      <td>3.98</td>\n",
              "      <td>2.43</td>\n",
              "    </tr>\n",
              "    <tr>\n",
              "      <th>1</th>\n",
              "      <td>2</td>\n",
              "      <td>0.21</td>\n",
              "      <td>Premium</td>\n",
              "      <td>E</td>\n",
              "      <td>SI1</td>\n",
              "      <td>59.8</td>\n",
              "      <td>61.0</td>\n",
              "      <td>326</td>\n",
              "      <td>3.89</td>\n",
              "      <td>3.84</td>\n",
              "      <td>2.31</td>\n",
              "    </tr>\n",
              "    <tr>\n",
              "      <th>2</th>\n",
              "      <td>3</td>\n",
              "      <td>0.23</td>\n",
              "      <td>Good</td>\n",
              "      <td>E</td>\n",
              "      <td>VS1</td>\n",
              "      <td>56.9</td>\n",
              "      <td>65.0</td>\n",
              "      <td>327</td>\n",
              "      <td>4.05</td>\n",
              "      <td>4.07</td>\n",
              "      <td>2.31</td>\n",
              "    </tr>\n",
              "    <tr>\n",
              "      <th>3</th>\n",
              "      <td>4</td>\n",
              "      <td>0.29</td>\n",
              "      <td>Premium</td>\n",
              "      <td>I</td>\n",
              "      <td>VS2</td>\n",
              "      <td>62.4</td>\n",
              "      <td>58.0</td>\n",
              "      <td>334</td>\n",
              "      <td>4.20</td>\n",
              "      <td>4.23</td>\n",
              "      <td>2.63</td>\n",
              "    </tr>\n",
              "    <tr>\n",
              "      <th>4</th>\n",
              "      <td>5</td>\n",
              "      <td>0.31</td>\n",
              "      <td>Good</td>\n",
              "      <td>J</td>\n",
              "      <td>SI2</td>\n",
              "      <td>63.3</td>\n",
              "      <td>58.0</td>\n",
              "      <td>335</td>\n",
              "      <td>4.34</td>\n",
              "      <td>4.35</td>\n",
              "      <td>2.75</td>\n",
              "    </tr>\n",
              "  </tbody>\n",
              "</table>\n",
              "</div>\n",
              "      <button class=\"colab-df-convert\" onclick=\"convertToInteractive('df-f7f17893-113e-42c4-8c89-9343938f35d1')\"\n",
              "              title=\"Convert this dataframe to an interactive table.\"\n",
              "              style=\"display:none;\">\n",
              "        \n",
              "  <svg xmlns=\"http://www.w3.org/2000/svg\" height=\"24px\"viewBox=\"0 0 24 24\"\n",
              "       width=\"24px\">\n",
              "    <path d=\"M0 0h24v24H0V0z\" fill=\"none\"/>\n",
              "    <path d=\"M18.56 5.44l.94 2.06.94-2.06 2.06-.94-2.06-.94-.94-2.06-.94 2.06-2.06.94zm-11 1L8.5 8.5l.94-2.06 2.06-.94-2.06-.94L8.5 2.5l-.94 2.06-2.06.94zm10 10l.94 2.06.94-2.06 2.06-.94-2.06-.94-.94-2.06-.94 2.06-2.06.94z\"/><path d=\"M17.41 7.96l-1.37-1.37c-.4-.4-.92-.59-1.43-.59-.52 0-1.04.2-1.43.59L10.3 9.45l-7.72 7.72c-.78.78-.78 2.05 0 2.83L4 21.41c.39.39.9.59 1.41.59.51 0 1.02-.2 1.41-.59l7.78-7.78 2.81-2.81c.8-.78.8-2.07 0-2.86zM5.41 20L4 18.59l7.72-7.72 1.47 1.35L5.41 20z\"/>\n",
              "  </svg>\n",
              "      </button>\n",
              "      \n",
              "  <style>\n",
              "    .colab-df-container {\n",
              "      display:flex;\n",
              "      flex-wrap:wrap;\n",
              "      gap: 12px;\n",
              "    }\n",
              "\n",
              "    .colab-df-convert {\n",
              "      background-color: #E8F0FE;\n",
              "      border: none;\n",
              "      border-radius: 50%;\n",
              "      cursor: pointer;\n",
              "      display: none;\n",
              "      fill: #1967D2;\n",
              "      height: 32px;\n",
              "      padding: 0 0 0 0;\n",
              "      width: 32px;\n",
              "    }\n",
              "\n",
              "    .colab-df-convert:hover {\n",
              "      background-color: #E2EBFA;\n",
              "      box-shadow: 0px 1px 2px rgba(60, 64, 67, 0.3), 0px 1px 3px 1px rgba(60, 64, 67, 0.15);\n",
              "      fill: #174EA6;\n",
              "    }\n",
              "\n",
              "    [theme=dark] .colab-df-convert {\n",
              "      background-color: #3B4455;\n",
              "      fill: #D2E3FC;\n",
              "    }\n",
              "\n",
              "    [theme=dark] .colab-df-convert:hover {\n",
              "      background-color: #434B5C;\n",
              "      box-shadow: 0px 1px 3px 1px rgba(0, 0, 0, 0.15);\n",
              "      filter: drop-shadow(0px 1px 2px rgba(0, 0, 0, 0.3));\n",
              "      fill: #FFFFFF;\n",
              "    }\n",
              "  </style>\n",
              "\n",
              "      <script>\n",
              "        const buttonEl =\n",
              "          document.querySelector('#df-f7f17893-113e-42c4-8c89-9343938f35d1 button.colab-df-convert');\n",
              "        buttonEl.style.display =\n",
              "          google.colab.kernel.accessAllowed ? 'block' : 'none';\n",
              "\n",
              "        async function convertToInteractive(key) {\n",
              "          const element = document.querySelector('#df-f7f17893-113e-42c4-8c89-9343938f35d1');\n",
              "          const dataTable =\n",
              "            await google.colab.kernel.invokeFunction('convertToInteractive',\n",
              "                                                     [key], {});\n",
              "          if (!dataTable) return;\n",
              "\n",
              "          const docLinkHtml = 'Like what you see? Visit the ' +\n",
              "            '<a target=\"_blank\" href=https://colab.research.google.com/notebooks/data_table.ipynb>data table notebook</a>'\n",
              "            + ' to learn more about interactive tables.';\n",
              "          element.innerHTML = '';\n",
              "          dataTable['output_type'] = 'display_data';\n",
              "          await google.colab.output.renderOutput(dataTable, element);\n",
              "          const docLink = document.createElement('div');\n",
              "          docLink.innerHTML = docLinkHtml;\n",
              "          element.appendChild(docLink);\n",
              "        }\n",
              "      </script>\n",
              "    </div>\n",
              "  </div>\n",
              "  "
            ]
          },
          "metadata": {},
          "execution_count": 20
        }
      ],
      "source": [
        "csvv = 'https://docs.google.com/spreadsheets/d/e/2PACX-1vRWhjqpntnS_SgnD41aHPS8thyPIO_t_AT1vf4SiHghvauBs_7Wj6ZrSDZzW9bSFOxpwI20RpsiNlez/pub?gid=539073258&single=true&output=csv'\n",
        "csvv = 'https://raw.githubusercontent.com/iakil/CSCI381_DataScience/main/Quiz/Quiz1/diamonds.csv'\n",
        "df = pd.read_csv(csvv)\n",
        "df.head()\n"
      ]
    },
    {
      "cell_type": "markdown",
      "source": [
        "### Getting All the attributes data types"
      ],
      "metadata": {
        "id": "QsL5KaBQ0BtN"
      }
    },
    {
      "cell_type": "code",
      "source": [
        "df.dtypes"
      ],
      "metadata": {
        "colab": {
          "base_uri": "https://localhost:8080/"
        },
        "id": "Ej70465TzbNt",
        "outputId": "8a177dbe-91d4-4e9b-fa67-b62947225535"
      },
      "execution_count": 21,
      "outputs": [
        {
          "output_type": "execute_result",
          "data": {
            "text/plain": [
              "Unnamed: 0      int64\n",
              "carat         float64\n",
              "cut            object\n",
              "color          object\n",
              "clarity        object\n",
              "depth         float64\n",
              "table         float64\n",
              "price           int64\n",
              "x             float64\n",
              "y             float64\n",
              "z             float64\n",
              "dtype: object"
            ]
          },
          "metadata": {},
          "execution_count": 21
        }
      ]
    },
    {
      "cell_type": "code",
      "source": [
        "df.count()"
      ],
      "metadata": {
        "colab": {
          "base_uri": "https://localhost:8080/"
        },
        "id": "Gw32AhPK4FTT",
        "outputId": "e7719294-d3e8-44cf-f91f-9ab2ecfc400e"
      },
      "execution_count": 22,
      "outputs": [
        {
          "output_type": "execute_result",
          "data": {
            "text/plain": [
              "Unnamed: 0    53940\n",
              "carat         53940\n",
              "cut           53940\n",
              "color         53940\n",
              "clarity       53940\n",
              "depth         53940\n",
              "table         53940\n",
              "price         53940\n",
              "x             53940\n",
              "y             53940\n",
              "z             53940\n",
              "dtype: int64"
            ]
          },
          "metadata": {},
          "execution_count": 22
        }
      ]
    },
    {
      "cell_type": "code",
      "source": [
        "df.describe()"
      ],
      "metadata": {
        "colab": {
          "base_uri": "https://localhost:8080/",
          "height": 279
        },
        "id": "siP6eE1f4PZ8",
        "outputId": "78cd48c3-8f89-43ba-e72b-73db6e09f571"
      },
      "execution_count": 25,
      "outputs": [
        {
          "output_type": "execute_result",
          "data": {
            "text/plain": [
              "         Unnamed: 0         carat         depth         table         price  \\\n",
              "count  53940.000000  53940.000000  53940.000000  53940.000000  53940.000000   \n",
              "mean   26970.500000      0.797940     61.749405     57.457184   3932.799722   \n",
              "std    15571.281097      0.474011      1.432621      2.234491   3989.439738   \n",
              "min        1.000000      0.200000     43.000000     43.000000    326.000000   \n",
              "25%    13485.750000      0.400000     61.000000     56.000000    950.000000   \n",
              "50%    26970.500000      0.700000     61.800000     57.000000   2401.000000   \n",
              "75%    40455.250000      1.040000     62.500000     59.000000   5324.250000   \n",
              "max    53940.000000      5.010000     79.000000     95.000000  18823.000000   \n",
              "\n",
              "                  x             y             z  \n",
              "count  53940.000000  53940.000000  53940.000000  \n",
              "mean       5.731157      5.734526      3.538734  \n",
              "std        1.121761      1.142135      0.705699  \n",
              "min        0.000000      0.000000      0.000000  \n",
              "25%        4.710000      4.720000      2.910000  \n",
              "50%        5.700000      5.710000      3.530000  \n",
              "75%        6.540000      6.540000      4.040000  \n",
              "max       10.740000     58.900000     31.800000  "
            ],
            "text/html": [
              "\n",
              "  <div id=\"df-c4cb89b9-de6c-4ce2-8de0-f9d94b564138\">\n",
              "    <div class=\"colab-df-container\">\n",
              "      <div>\n",
              "<style scoped>\n",
              "    .dataframe tbody tr th:only-of-type {\n",
              "        vertical-align: middle;\n",
              "    }\n",
              "\n",
              "    .dataframe tbody tr th {\n",
              "        vertical-align: top;\n",
              "    }\n",
              "\n",
              "    .dataframe thead th {\n",
              "        text-align: right;\n",
              "    }\n",
              "</style>\n",
              "<table border=\"1\" class=\"dataframe\">\n",
              "  <thead>\n",
              "    <tr style=\"text-align: right;\">\n",
              "      <th></th>\n",
              "      <th>Unnamed: 0</th>\n",
              "      <th>carat</th>\n",
              "      <th>depth</th>\n",
              "      <th>table</th>\n",
              "      <th>price</th>\n",
              "      <th>x</th>\n",
              "      <th>y</th>\n",
              "      <th>z</th>\n",
              "    </tr>\n",
              "  </thead>\n",
              "  <tbody>\n",
              "    <tr>\n",
              "      <th>count</th>\n",
              "      <td>53940.000000</td>\n",
              "      <td>53940.000000</td>\n",
              "      <td>53940.000000</td>\n",
              "      <td>53940.000000</td>\n",
              "      <td>53940.000000</td>\n",
              "      <td>53940.000000</td>\n",
              "      <td>53940.000000</td>\n",
              "      <td>53940.000000</td>\n",
              "    </tr>\n",
              "    <tr>\n",
              "      <th>mean</th>\n",
              "      <td>26970.500000</td>\n",
              "      <td>0.797940</td>\n",
              "      <td>61.749405</td>\n",
              "      <td>57.457184</td>\n",
              "      <td>3932.799722</td>\n",
              "      <td>5.731157</td>\n",
              "      <td>5.734526</td>\n",
              "      <td>3.538734</td>\n",
              "    </tr>\n",
              "    <tr>\n",
              "      <th>std</th>\n",
              "      <td>15571.281097</td>\n",
              "      <td>0.474011</td>\n",
              "      <td>1.432621</td>\n",
              "      <td>2.234491</td>\n",
              "      <td>3989.439738</td>\n",
              "      <td>1.121761</td>\n",
              "      <td>1.142135</td>\n",
              "      <td>0.705699</td>\n",
              "    </tr>\n",
              "    <tr>\n",
              "      <th>min</th>\n",
              "      <td>1.000000</td>\n",
              "      <td>0.200000</td>\n",
              "      <td>43.000000</td>\n",
              "      <td>43.000000</td>\n",
              "      <td>326.000000</td>\n",
              "      <td>0.000000</td>\n",
              "      <td>0.000000</td>\n",
              "      <td>0.000000</td>\n",
              "    </tr>\n",
              "    <tr>\n",
              "      <th>25%</th>\n",
              "      <td>13485.750000</td>\n",
              "      <td>0.400000</td>\n",
              "      <td>61.000000</td>\n",
              "      <td>56.000000</td>\n",
              "      <td>950.000000</td>\n",
              "      <td>4.710000</td>\n",
              "      <td>4.720000</td>\n",
              "      <td>2.910000</td>\n",
              "    </tr>\n",
              "    <tr>\n",
              "      <th>50%</th>\n",
              "      <td>26970.500000</td>\n",
              "      <td>0.700000</td>\n",
              "      <td>61.800000</td>\n",
              "      <td>57.000000</td>\n",
              "      <td>2401.000000</td>\n",
              "      <td>5.700000</td>\n",
              "      <td>5.710000</td>\n",
              "      <td>3.530000</td>\n",
              "    </tr>\n",
              "    <tr>\n",
              "      <th>75%</th>\n",
              "      <td>40455.250000</td>\n",
              "      <td>1.040000</td>\n",
              "      <td>62.500000</td>\n",
              "      <td>59.000000</td>\n",
              "      <td>5324.250000</td>\n",
              "      <td>6.540000</td>\n",
              "      <td>6.540000</td>\n",
              "      <td>4.040000</td>\n",
              "    </tr>\n",
              "    <tr>\n",
              "      <th>max</th>\n",
              "      <td>53940.000000</td>\n",
              "      <td>5.010000</td>\n",
              "      <td>79.000000</td>\n",
              "      <td>95.000000</td>\n",
              "      <td>18823.000000</td>\n",
              "      <td>10.740000</td>\n",
              "      <td>58.900000</td>\n",
              "      <td>31.800000</td>\n",
              "    </tr>\n",
              "  </tbody>\n",
              "</table>\n",
              "</div>\n",
              "      <button class=\"colab-df-convert\" onclick=\"convertToInteractive('df-c4cb89b9-de6c-4ce2-8de0-f9d94b564138')\"\n",
              "              title=\"Convert this dataframe to an interactive table.\"\n",
              "              style=\"display:none;\">\n",
              "        \n",
              "  <svg xmlns=\"http://www.w3.org/2000/svg\" height=\"24px\"viewBox=\"0 0 24 24\"\n",
              "       width=\"24px\">\n",
              "    <path d=\"M0 0h24v24H0V0z\" fill=\"none\"/>\n",
              "    <path d=\"M18.56 5.44l.94 2.06.94-2.06 2.06-.94-2.06-.94-.94-2.06-.94 2.06-2.06.94zm-11 1L8.5 8.5l.94-2.06 2.06-.94-2.06-.94L8.5 2.5l-.94 2.06-2.06.94zm10 10l.94 2.06.94-2.06 2.06-.94-2.06-.94-.94-2.06-.94 2.06-2.06.94z\"/><path d=\"M17.41 7.96l-1.37-1.37c-.4-.4-.92-.59-1.43-.59-.52 0-1.04.2-1.43.59L10.3 9.45l-7.72 7.72c-.78.78-.78 2.05 0 2.83L4 21.41c.39.39.9.59 1.41.59.51 0 1.02-.2 1.41-.59l7.78-7.78 2.81-2.81c.8-.78.8-2.07 0-2.86zM5.41 20L4 18.59l7.72-7.72 1.47 1.35L5.41 20z\"/>\n",
              "  </svg>\n",
              "      </button>\n",
              "      \n",
              "  <style>\n",
              "    .colab-df-container {\n",
              "      display:flex;\n",
              "      flex-wrap:wrap;\n",
              "      gap: 12px;\n",
              "    }\n",
              "\n",
              "    .colab-df-convert {\n",
              "      background-color: #E8F0FE;\n",
              "      border: none;\n",
              "      border-radius: 50%;\n",
              "      cursor: pointer;\n",
              "      display: none;\n",
              "      fill: #1967D2;\n",
              "      height: 32px;\n",
              "      padding: 0 0 0 0;\n",
              "      width: 32px;\n",
              "    }\n",
              "\n",
              "    .colab-df-convert:hover {\n",
              "      background-color: #E2EBFA;\n",
              "      box-shadow: 0px 1px 2px rgba(60, 64, 67, 0.3), 0px 1px 3px 1px rgba(60, 64, 67, 0.15);\n",
              "      fill: #174EA6;\n",
              "    }\n",
              "\n",
              "    [theme=dark] .colab-df-convert {\n",
              "      background-color: #3B4455;\n",
              "      fill: #D2E3FC;\n",
              "    }\n",
              "\n",
              "    [theme=dark] .colab-df-convert:hover {\n",
              "      background-color: #434B5C;\n",
              "      box-shadow: 0px 1px 3px 1px rgba(0, 0, 0, 0.15);\n",
              "      filter: drop-shadow(0px 1px 2px rgba(0, 0, 0, 0.3));\n",
              "      fill: #FFFFFF;\n",
              "    }\n",
              "  </style>\n",
              "\n",
              "      <script>\n",
              "        const buttonEl =\n",
              "          document.querySelector('#df-c4cb89b9-de6c-4ce2-8de0-f9d94b564138 button.colab-df-convert');\n",
              "        buttonEl.style.display =\n",
              "          google.colab.kernel.accessAllowed ? 'block' : 'none';\n",
              "\n",
              "        async function convertToInteractive(key) {\n",
              "          const element = document.querySelector('#df-c4cb89b9-de6c-4ce2-8de0-f9d94b564138');\n",
              "          const dataTable =\n",
              "            await google.colab.kernel.invokeFunction('convertToInteractive',\n",
              "                                                     [key], {});\n",
              "          if (!dataTable) return;\n",
              "\n",
              "          const docLinkHtml = 'Like what you see? Visit the ' +\n",
              "            '<a target=\"_blank\" href=https://colab.research.google.com/notebooks/data_table.ipynb>data table notebook</a>'\n",
              "            + ' to learn more about interactive tables.';\n",
              "          element.innerHTML = '';\n",
              "          dataTable['output_type'] = 'display_data';\n",
              "          await google.colab.output.renderOutput(dataTable, element);\n",
              "          const docLink = document.createElement('div');\n",
              "          docLink.innerHTML = docLinkHtml;\n",
              "          element.appendChild(docLink);\n",
              "        }\n",
              "      </script>\n",
              "    </div>\n",
              "  </div>\n",
              "  "
            ]
          },
          "metadata": {},
          "execution_count": 25
        }
      ]
    },
    {
      "cell_type": "code",
      "source": [
        "# figsize (50,50)\n",
        "\n",
        "# mathplotlib, seaborn, numpy, pandas\n",
        "\n",
        "#print (df.isnull().any())"
      ],
      "metadata": {
        "id": "iYpnNhLeQ2KX"
      },
      "execution_count": 16,
      "outputs": []
    },
    {
      "cell_type": "markdown",
      "source": [
        "## Part 2: Exploratory Data Analysis (EDA)"
      ],
      "metadata": {
        "id": "u5jgMyk0Ho9v"
      }
    },
    {
      "cell_type": "code",
      "source": [
        "df.isna().sum()"
      ],
      "metadata": {
        "colab": {
          "base_uri": "https://localhost:8080/"
        },
        "id": "9zNvEPq2CL38",
        "outputId": "b48a54ba-b3bb-4ad2-dfdc-0e30b872b675"
      },
      "execution_count": 32,
      "outputs": [
        {
          "output_type": "execute_result",
          "data": {
            "text/plain": [
              "Unnamed: 0    0\n",
              "carat         0\n",
              "cut           0\n",
              "color         0\n",
              "clarity       0\n",
              "depth         0\n",
              "table         0\n",
              "price         0\n",
              "x             0\n",
              "y             0\n",
              "z             0\n",
              "dtype: int64"
            ]
          },
          "metadata": {},
          "execution_count": 32
        }
      ]
    },
    {
      "cell_type": "code",
      "source": [
        "plt.hist(df.price) # Histogram\n",
        "plt.grid (True)\n",
        "plt.show()"
      ],
      "metadata": {
        "colab": {
          "base_uri": "https://localhost:8080/",
          "height": 265
        },
        "id": "MHnxkR0SCkwK",
        "outputId": "8f00966d-32a5-4ef3-dfdb-a50be057143b"
      },
      "execution_count": 40,
      "outputs": [
        {
          "output_type": "display_data",
          "data": {
            "text/plain": [
              "<Figure size 432x288 with 1 Axes>"
            ],
            "image/png": "[encoded data removed]"
          },
          "metadata": {
            "needs_background": "light"
          }
        }
      ]
    },
    {
      "cell_type": "code",
      "source": [
        "plt.boxplot(df.depth) # Box Plot\n",
        "plt.grid (True)\n",
        "plt.show()"
      ],
      "metadata": {
        "colab": {
          "base_uri": "https://localhost:8080/",
          "height": 265
        },
        "id": "EoppzupYDhKX",
        "outputId": "23de0483-888d-4fc0-fbd5-01c8b08dcea1"
      },
      "execution_count": 43,
      "outputs": [
        {
          "output_type": "display_data",
          "data": {
            "text/plain": [
              "<Figure size 432x288 with 1 Axes>"
            ],
            "image/png": "[encoded data removed]"
          },
          "metadata": {
            "needs_background": "light"
          }
        }
      ]
    },
    {
      "cell_type": "code",
      "source": [
        "x = df.iloc[:,0]\n",
        "y = df['carat'].tolist()\n",
        "plt.plot(x,y)\n",
        "plt.grid()"
      ],
      "metadata": {
        "colab": {
          "base_uri": "https://localhost:8080/",
          "height": 265
        },
        "id": "hoSdmWAk4yOY",
        "outputId": "7ae8d2de-973c-4171-9cdb-8d0ae530c719"
      },
      "execution_count": 38,
      "outputs": [
        {
          "output_type": "display_data",
          "data": {
            "text/plain": [
              "<Figure size 432x288 with 1 Axes>"
            ],
            "image/png": "[encoded data removed]"
          },
          "metadata": {
            "needs_background": "light"
          }
        }
      ]
    },
    {
      "cell_type": "code",
      "source": [
        "sns.countplot(df.color)\n",
        "plt.show()"
      ],
      "metadata": {
        "colab": {
          "base_uri": "https://localhost:8080/",
          "height": 334
        },
        "id": "9zS9YlQnF7ny",
        "outputId": "055e66f8-b4ee-4afc-8d41-180e7896a711"
      },
      "execution_count": 46,
      "outputs": [
        {
          "output_type": "stream",
          "name": "stderr",
          "text": [
            "/usr/local/lib/python3.7/dist-packages/seaborn/_decorators.py:43: FutureWarning: Pass the following variable as a keyword arg: x. From version 0.12, the only valid positional argument will be `data`, and passing other arguments without an explicit keyword will result in an error or misinterpretation.\n",
            "  FutureWarning\n"
          ]
        },
        {
          "output_type": "display_data",
          "data": {
            "text/plain": [
              "<Figure size 432x288 with 1 Axes>"
            ],
            "image/png": "[encoded data removed]"
          },
          "metadata": {
            "needs_background": "light"
          }
        }
      ]
    },
    {
      "cell_type": "code",
      "source": [
        "df.groupby('')"
      ],
      "metadata": {
        "id": "wyq0_gSBGNJD"
      },
      "execution_count": null,
      "outputs": []
    },
    {
      "cell_type": "markdown",
      "source": [
        "## Part 3: Inferences"
      ],
      "metadata": {
        "id": "cVyjtvbCHyt3"
      }
    },
    {
      "cell_type": "code",
      "source": [
        "carat = df['carat']\n",
        "x = df['x']\n",
        "y = df['y']\n",
        "cut = df['cut']\n",
        "price = df[\"price\"]"
      ],
      "metadata": {
        "id": "gIJduLWuUPjh"
      },
      "execution_count": 97,
      "outputs": []
    },
    {
      "cell_type": "markdown",
      "source": [
        "### Question 1:\n",
        "\n",
        "What proportion of diamonds are between .30 and 1.08 carats?"
      ],
      "metadata": {
        "id": "9veN_ckASLH_"
      }
    },
    {
      "cell_type": "code",
      "source": [
        "res = [i for i in carat.tolist() if i >= 0.30 and i <=1.08]\n",
        "res = ((len(res)/len(carat.tolist()))*100)\n",
        "res\n"
      ],
      "metadata": {
        "colab": {
          "base_uri": "https://localhost:8080/"
        },
        "id": "UkUVegvjGRAX",
        "outputId": "5c2bfeaf-2770-4a9f-9851-db7f899b02fd"
      },
      "execution_count": 81,
      "outputs": [
        {
          "output_type": "execute_result",
          "data": {
            "text/plain": [
              "74.68298109010011"
            ]
          },
          "metadata": {},
          "execution_count": 81
        }
      ]
    },
    {
      "cell_type": "markdown",
      "source": [
        "### Question 2: \n",
        "\n",
        "How many of the diamonds have equal x and y dimensions?"
      ],
      "metadata": {
        "id": "xi6sTZSHT5er"
      }
    },
    {
      "cell_type": "code",
      "source": [
        "res = [i for i in x if i in y]\n",
        "res = len (res)\n",
        "res"
      ],
      "metadata": {
        "colab": {
          "base_uri": "https://localhost:8080/"
        },
        "id": "jPYTKT7kT51E",
        "outputId": "6785950b-ffb7-46a1-d747-95ecdb0101ea"
      },
      "execution_count": 94,
      "outputs": [
        {
          "output_type": "execute_result",
          "data": {
            "text/plain": [
              "259"
            ]
          },
          "metadata": {},
          "execution_count": 94
        }
      ]
    },
    {
      "cell_type": "markdown",
      "source": [
        "### Question 3:\n",
        "\n",
        "How many of the diamonds have a carat value that is less than the mean carat value?"
      ],
      "metadata": {
        "id": "Tk8DD7F4XWHR"
      }
    },
    {
      "cell_type": "code",
      "source": [
        "res = [i for i in carat if i < carat.mean()]\n",
        "res = len(res)\n",
        "res"
      ],
      "metadata": {
        "colab": {
          "base_uri": "https://localhost:8080/"
        },
        "id": "c8x-TwHWXaJc",
        "outputId": "a0490388-53ca-4f18-ccc3-b8d376d86971"
      },
      "execution_count": 85,
      "outputs": [
        {
          "output_type": "execute_result",
          "data": {
            "text/plain": [
              "31127"
            ]
          },
          "metadata": {},
          "execution_count": 85
        }
      ]
    },
    {
      "cell_type": "markdown",
      "source": [
        "### Question 4:\n",
        "\n",
        "How many diamonds have a Premium cut or better? Note that the possible values for the quality of a\n",
        "cut are ranked in ascending order as follows: Fair / Good / Very Good / Premium / Ideal"
      ],
      "metadata": {
        "id": "uZsG1HTMcjb8"
      }
    },
    {
      "cell_type": "code",
      "source": [
        "res = [i for i in cut.tolist() if i is not 'Ideal']\n",
        "res = len(res)\n",
        "res"
      ],
      "metadata": {
        "colab": {
          "base_uri": "https://localhost:8080/"
        },
        "id": "peUlh6tTcmpl",
        "outputId": "2358cdd6-05c4-44bf-ce19-50827966211e"
      },
      "execution_count": 92,
      "outputs": [
        {
          "output_type": "execute_result",
          "data": {
            "text/plain": [
              "53940"
            ]
          },
          "metadata": {},
          "execution_count": 92
        }
      ]
    },
    {
      "cell_type": "markdown",
      "source": [
        "### Question 5:\n",
        "\n",
        "Which diamond has the highest price per carat? What is its value?"
      ],
      "metadata": {
        "id": "Byognj2Odu_C"
      }
    },
    {
      "cell_type": "code",
      "source": [
        "p = price.tolist()\n"
      ],
      "metadata": {
        "id": "OY5UEZGbfU4M"
      },
      "execution_count": 100,
      "outputs": []
    },
    {
      "cell_type": "markdown",
      "source": [
        "### Question 6:\n",
        "\n",
        "Using both Matplolib and Seaborn, make boxplots of the diamond price for each distinct cut value and\n",
        "discuss any conclusions you can draw from the appearance of the boxplots."
      ],
      "metadata": {
        "id": "zxSzpSOZdvax"
      }
    },
    {
      "cell_type": "markdown",
      "source": [
        "### Question 7:\n",
        "\n",
        "Using both Matplolib and Seaborn, make a scatter plot of price vs. carat. What can we say about the\n",
        "relationship between those two attributes?"
      ],
      "metadata": {
        "id": "zVkjdpHEdwBz"
      }
    },
    {
      "cell_type": "markdown",
      "source": [
        "## Part 4: Conclusion"
      ],
      "metadata": {
        "id": "fQOge8NhH22c"
      }
    },
    {
      "cell_type": "markdown",
      "source": [
        "## References"
      ],
      "metadata": {
        "id": "SlAZ1YCZH65w"
      }
    }
  ]
}