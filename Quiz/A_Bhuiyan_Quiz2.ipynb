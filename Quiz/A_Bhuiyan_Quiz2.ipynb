{
  "nbformat": 4,
  "nbformat_minor": 0,
  "metadata": {
    "colab": {
      "name": "A_Bhuiyan_Quiz2.ipynb",
      "provenance": []
    },
    "kernelspec": {
      "name": "python3",
      "display_name": "Python 3"
    },
    "language_info": {
      "name": "python"
    }
  },
  "cells": [
    {
      "cell_type": "markdown",
      "source": [
        "# Akil Bhuiyan\n",
        "## Quiz 2"
      ],
      "metadata": {
        "id": "2mztYZ2n8jgq"
      }
    },
    {
      "cell_type": "code",
      "execution_count": null,
      "metadata": {
        "id": "UwmCXYXM8duP"
      },
      "outputs": [],
      "source": [
        ""
      ]
    }
  ]
}