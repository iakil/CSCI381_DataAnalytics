{
  "nbformat": 4,
  "nbformat_minor": 0,
  "metadata": {
    "colab": {
      "name": "FinalProjectProposal.ipynb",
      "provenance": []
    },
    "kernelspec": {
      "name": "python3",
      "display_name": "Python 3"
    },
    "language_info": {
      "name": "python"
    }
  },
  "cells": [
    {
      "cell_type": "markdown",
      "source": [
        "# How does HIV impact certain groups/races or areas?\n",
        "\n",
        "> Is it safe to live in an area where people are infected with HIV, or maybe if more people who are the same race as me are infected, is there any possibility that, I will be infected with HIV? Using ML algorithms, our goal is to analyze our data and predict the output values within an acceptable range.\n",
        "\n",
        "> For instance, when we move to a different place, we definitely check our neighborhood, so it is a better idea to analyze HIV factors in that area. Depending on the attributes, we determine if the area is safe to go to a barber shop or not.\n",
        "\n",
        ">I am planning to source my data from [NYC OpenData](https://data.cityofnewyork.us/Health/HIV-AIDS-Diagnoses-by-Neighborhood-Sex-and-Race-Et/ykvb-493p) where we have around 3000 rows with 10 attributes. Attributes can be found [here](https://data.cityofnewyork.us/Health/HIV-AIDS-Diagnoses-by-Neighborhood-Sex-and-Race-Et/ykvb-493p#:~:text=Columns%20in%20this%20Dataset)."
      ],
      "metadata": {
        "id": "4t2AeC7F0Kdm"
      }
    }
  ]
}