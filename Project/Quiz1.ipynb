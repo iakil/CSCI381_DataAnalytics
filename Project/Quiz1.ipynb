{
  "cells": [
    {
      "cell_type": "markdown",
      "metadata": {
        "id": "-36_U7aoJNkQ"
      },
      "source": [
        "# Akil Bhuiyan\n",
        "# Quiz Assignment 1\n",
        "\n",
        "# Repository Name changed!\n",
        "\n",
        "[Click here To Go To Actual repository](https://github.com/iakil/CSCI381_DataScience/tree/main/Quiz/Quiz1/A_Bhuiyan_Quiz1.ipynb)\n",
        "\n"
      ]
    }
  ],
  "metadata": {
    "colab": {
      "name": "Quiz1.ipynb",
      "provenance": []
    },
    "kernelspec": {
      "display_name": "Python 3",
      "name": "python3"
    },
    "language_info": {
      "name": "python"
    }
  },
  "nbformat": 4,
  "nbformat_minor": 0
}
