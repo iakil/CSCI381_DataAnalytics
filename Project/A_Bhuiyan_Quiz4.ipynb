{
  "cells": [
    {
      "cell_type": "markdown",
      "metadata": {
        "id": "NGH15p9c5HXp"
      },
      "source": [
        "Akil Bhuiyan <br>\n",
        "Professor Matthew Fried <br>\n",
        "CSCI 381 (Data Analytics) <br>\n",
        "Quiz 4"
      ]
    },
    {
      "cell_type": "markdown",
      "metadata": {
        "id": "NmJfcoDLD7e8"
      },
      "source": [
        "## **Introduction**"
      ]
    },
    {
      "cell_type": "markdown",
      "metadata": {
        "id": "2huX6t_vBhA8"
      },
      "source": [
        "Data Sets:\n",
        "\n",
        "The data set comprises 2,381 observations of 1 response/dependent variable (which indicates whether or not a mortgage application was denied) and 12 explanatory/independent variables. There are integers, floats and object data types. \n",
        "\n",
        "<br>\n",
        "\n",
        "Data Attributes:\n",
        "\n",
        "dir - debt payment to total income ratio\n",
        "\n",
        "hir - house expense to income ratio\n",
        "\n",
        "lvr - ratio of size of loan to assessed value of property\n",
        "\n",
        "ccs - consumer credit score from 1 to 6 (a low value being a good score)\n",
        "\n",
        "\n",
        "mcs - mortgage credit score from 1 to 4 (a low value being a good score)\n",
        "\n",
        "pbcr - public bad credit score\n",
        "\n",
        "dmi - denied mortagage insurance\n",
        "\n",
        "self - self employed\n",
        "\n",
        "single - is the applicant single\n",
        "\n",
        "uria - 1989 Massachusetts unemployment rate in the applicant's industry\n",
        "\n",
        "condominium - is unit a condominium\n",
        "\n",
        "black - is the applicant black\n",
        "\n",
        "deny - mortgage application denied\n",
        "\n",
        "<br>\n",
        "\n",
        "The dataset provides detailed information about the lender, the borrower, the loan, and the property. It contains the borrowers’ income, sex, race and ethnicity, among other characteristics. It details whether the mortgage was secured through conventional means or insured by the government, the reason the mortgage is being sought, the size of the loan, etc. It lists information about the property that’s being purchased, like the number of units and its general location "
      ]
    },
    {
      "cell_type": "code",
      "execution_count": 2,
      "metadata": {
        "id": "KG5o9wWC4IGH"
      },
      "outputs": [],
      "source": [
        "# All Imports\n",
        "import ssl\n",
        "ssl._create_default_https_context = ssl._create_unverified_context\n",
        "import pandas as pd\n",
        "import numpy as np\n",
        "import matplotlib.pyplot as plt\n",
        "import seaborn as sns\n",
        "%matplotlib inline\n",
        "from sklearn.feature_selection import chi2\n",
        "from sklearn.linear_model import LinearRegression\n",
        "from sklearn.feature_selection import SelectKBest\n",
        "from sklearn.feature_selection import f_regression\n",
        "from sklearn.feature_selection import RFE"
      ]
    },
    {
      "cell_type": "code",
      "execution_count": 3,
      "metadata": {
        "colab": {
          "base_uri": "https://localhost:8080/",
          "height": 215
        },
        "id": "AGUHO13X4CQE",
        "outputId": "834d5264-96c4-4f9f-e0c0-029364798aad"
      },
      "outputs": [
        {
          "data": {
            "text/html": [
              "<div>\n",
              "<style scoped>\n",
              "    .dataframe tbody tr th:only-of-type {\n",
              "        vertical-align: middle;\n",
              "    }\n",
              "\n",
              "    .dataframe tbody tr th {\n",
              "        vertical-align: top;\n",
              "    }\n",
              "\n",
              "    .dataframe thead th {\n",
              "        text-align: right;\n",
              "    }\n",
              "</style>\n",
              "<table border=\"1\" class=\"dataframe\">\n",
              "  <thead>\n",
              "    <tr style=\"text-align: right;\">\n",
              "      <th></th>\n",
              "      <th>Unnamed: 0</th>\n",
              "      <th>dir</th>\n",
              "      <th>hir</th>\n",
              "      <th>lvr</th>\n",
              "      <th>ccs</th>\n",
              "      <th>mcs</th>\n",
              "      <th>pbcr</th>\n",
              "      <th>dmi</th>\n",
              "      <th>self</th>\n",
              "      <th>single</th>\n",
              "      <th>uria</th>\n",
              "      <th>comdominiom</th>\n",
              "      <th>black</th>\n",
              "      <th>deny</th>\n",
              "    </tr>\n",
              "  </thead>\n",
              "  <tbody>\n",
              "    <tr>\n",
              "      <th>0</th>\n",
              "      <td>1</td>\n",
              "      <td>0.221</td>\n",
              "      <td>0.221</td>\n",
              "      <td>0.800000</td>\n",
              "      <td>5.0</td>\n",
              "      <td>2.0</td>\n",
              "      <td>no</td>\n",
              "      <td>no</td>\n",
              "      <td>no</td>\n",
              "      <td>no</td>\n",
              "      <td>3.9</td>\n",
              "      <td>0</td>\n",
              "      <td>no</td>\n",
              "      <td>no</td>\n",
              "    </tr>\n",
              "    <tr>\n",
              "      <th>1</th>\n",
              "      <td>2</td>\n",
              "      <td>0.265</td>\n",
              "      <td>0.265</td>\n",
              "      <td>0.921875</td>\n",
              "      <td>2.0</td>\n",
              "      <td>2.0</td>\n",
              "      <td>no</td>\n",
              "      <td>no</td>\n",
              "      <td>no</td>\n",
              "      <td>yes</td>\n",
              "      <td>3.2</td>\n",
              "      <td>0</td>\n",
              "      <td>no</td>\n",
              "      <td>no</td>\n",
              "    </tr>\n",
              "    <tr>\n",
              "      <th>2</th>\n",
              "      <td>3</td>\n",
              "      <td>0.372</td>\n",
              "      <td>0.248</td>\n",
              "      <td>0.920398</td>\n",
              "      <td>1.0</td>\n",
              "      <td>2.0</td>\n",
              "      <td>no</td>\n",
              "      <td>no</td>\n",
              "      <td>no</td>\n",
              "      <td>no</td>\n",
              "      <td>3.2</td>\n",
              "      <td>0</td>\n",
              "      <td>no</td>\n",
              "      <td>no</td>\n",
              "    </tr>\n",
              "    <tr>\n",
              "      <th>3</th>\n",
              "      <td>4</td>\n",
              "      <td>0.320</td>\n",
              "      <td>0.250</td>\n",
              "      <td>0.860465</td>\n",
              "      <td>1.0</td>\n",
              "      <td>2.0</td>\n",
              "      <td>no</td>\n",
              "      <td>no</td>\n",
              "      <td>no</td>\n",
              "      <td>no</td>\n",
              "      <td>4.3</td>\n",
              "      <td>0</td>\n",
              "      <td>no</td>\n",
              "      <td>no</td>\n",
              "    </tr>\n",
              "    <tr>\n",
              "      <th>4</th>\n",
              "      <td>5</td>\n",
              "      <td>0.360</td>\n",
              "      <td>0.350</td>\n",
              "      <td>0.600000</td>\n",
              "      <td>1.0</td>\n",
              "      <td>1.0</td>\n",
              "      <td>no</td>\n",
              "      <td>no</td>\n",
              "      <td>no</td>\n",
              "      <td>no</td>\n",
              "      <td>3.2</td>\n",
              "      <td>0</td>\n",
              "      <td>no</td>\n",
              "      <td>no</td>\n",
              "    </tr>\n",
              "  </tbody>\n",
              "</table>\n",
              "</div>"
            ],
            "text/plain": [
              "   Unnamed: 0    dir    hir       lvr  ccs  mcs pbcr dmi self single  uria  \\\n",
              "0           1  0.221  0.221  0.800000  5.0  2.0   no  no   no     no   3.9   \n",
              "1           2  0.265  0.265  0.921875  2.0  2.0   no  no   no    yes   3.2   \n",
              "2           3  0.372  0.248  0.920398  1.0  2.0   no  no   no     no   3.2   \n",
              "3           4  0.320  0.250  0.860465  1.0  2.0   no  no   no     no   4.3   \n",
              "4           5  0.360  0.350  0.600000  1.0  1.0   no  no   no     no   3.2   \n",
              "\n",
              "   comdominiom black deny  \n",
              "0            0    no   no  \n",
              "1            0    no   no  \n",
              "2            0    no   no  \n",
              "3            0    no   no  \n",
              "4            0    no   no  "
            ]
          },
          "execution_count": 3,
          "metadata": {},
          "output_type": "execute_result"
        }
      ],
      "source": [
        "csvv = 'https://raw.githubusercontent.com/iakil/CSCI381_DataAnalytics/main/Data/HDMABostonHousingData.csv'\n",
        "df = pd.read_csv (csvv)\n",
        "df.head()"
      ]
    },
    {
      "cell_type": "code",
      "execution_count": 39,
      "metadata": {
        "colab": {
          "base_uri": "https://localhost:8080/"
        },
        "id": "qhI507rxCBx9",
        "outputId": "a5c3b378-5961-4a1a-dce4-df9ebfd39f43"
      },
      "outputs": [
        {
          "data": {
            "text/plain": [
              "(2381, 14)"
            ]
          },
          "execution_count": 39,
          "metadata": {},
          "output_type": "execute_result"
        }
      ],
      "source": [
        "df.shape"
      ]
    },
    {
      "cell_type": "code",
      "execution_count": 40,
      "metadata": {
        "colab": {
          "base_uri": "https://localhost:8080/"
        },
        "id": "pWHwgsx8CTFI",
        "outputId": "52200161-72cf-45be-c11f-dd1e94115ab5"
      },
      "outputs": [
        {
          "data": {
            "text/plain": [
              "Unnamed: 0       int64\n",
              "dir            float64\n",
              "hir            float64\n",
              "lvr            float64\n",
              "ccs            float64\n",
              "mcs            float64\n",
              "pbcr            object\n",
              "dmi             object\n",
              "self            object\n",
              "single          object\n",
              "uria           float64\n",
              "comdominiom      int64\n",
              "black           object\n",
              "deny            object\n",
              "dtype: object"
            ]
          },
          "execution_count": 40,
          "metadata": {},
          "output_type": "execute_result"
        }
      ],
      "source": [
        "df.dtypes"
      ]
    },
    {
      "cell_type": "code",
      "execution_count": 41,
      "metadata": {
        "colab": {
          "base_uri": "https://localhost:8080/"
        },
        "id": "jqKVDY_OCEVH",
        "outputId": "c417b17f-ecd0-4251-a7ce-f4b9c87c327a"
      },
      "outputs": [
        {
          "data": {
            "text/plain": [
              "Unnamed: 0     0\n",
              "dir            0\n",
              "hir            0\n",
              "lvr            0\n",
              "ccs            0\n",
              "mcs            0\n",
              "pbcr           1\n",
              "dmi            0\n",
              "self           1\n",
              "single         0\n",
              "uria           0\n",
              "comdominiom    0\n",
              "black          0\n",
              "deny           0\n",
              "dtype: int64"
            ]
          },
          "execution_count": 41,
          "metadata": {},
          "output_type": "execute_result"
        }
      ],
      "source": [
        "df.isnull().sum()"
      ]
    },
    {
      "cell_type": "code",
      "execution_count": 42,
      "metadata": {
        "colab": {
          "base_uri": "https://localhost:8080/"
        },
        "id": "RYDjNcSFtsKH",
        "outputId": "652de695-4723-416b-dfa5-6806a2e6d532"
      },
      "outputs": [
        {
          "data": {
            "text/plain": [
              "<bound method NDFrame.tail of       Unnamed: 0       dir       hir       lvr       ccs       mcs pbcr dmi  \\\n",
              "0              1  0.221000  0.221000  0.800000  5.000000  2.000000   no  no   \n",
              "1              2  0.265000  0.265000  0.921875  2.000000  2.000000   no  no   \n",
              "2              3  0.372000  0.248000  0.920398  1.000000  2.000000   no  no   \n",
              "3              4  0.320000  0.250000  0.860465  1.000000  2.000000   no  no   \n",
              "4              5  0.360000  0.350000  0.600000  1.000000  1.000000   no  no   \n",
              "...          ...       ...       ...       ...       ...       ...  ...  ..   \n",
              "2376        2377  0.300000  0.300000  0.777049  1.000000  2.000000   no  no   \n",
              "2377        2378  0.260000  0.200000  0.526761  2.000000  1.000000   no  no   \n",
              "2378        2379  0.320000  0.260000  0.753846  6.000000  1.000000  yes  no   \n",
              "2379        2380  0.350000  0.260000  0.813559  2.000000  2.000000   no  no   \n",
              "2380        2381  0.330814  0.255346  0.700783  2.116387  1.721008  NaN  no   \n",
              "\n",
              "     self single      uria  comdominiom black deny  \n",
              "0      no     no  3.900000            0    no   no  \n",
              "1      no    yes  3.200000            0    no   no  \n",
              "2      no     no  3.200000            0    no   no  \n",
              "3      no     no  4.300000            0    no   no  \n",
              "4      no     no  3.200000            0    no   no  \n",
              "...   ...    ...       ...          ...   ...  ...  \n",
              "2376   no    yes  3.200000            1    no   no  \n",
              "2377   no     no  3.100000            0    no   no  \n",
              "2378   no    yes  3.100000            1   yes  yes  \n",
              "2379   no    yes  4.300000            1    no  yes  \n",
              "2380  NaN    yes  3.774496            0    no   no  \n",
              "\n",
              "[2381 rows x 14 columns]>"
            ]
          },
          "execution_count": 42,
          "metadata": {},
          "output_type": "execute_result"
        }
      ],
      "source": [
        "df.tail"
      ]
    },
    {
      "cell_type": "code",
      "execution_count": 43,
      "metadata": {
        "colab": {
          "base_uri": "https://localhost:8080/"
        },
        "id": "ByAqqc9Tt5wF",
        "outputId": "0399b93c-4bf8-47ee-f207-8715e6a15783"
      },
      "outputs": [
        {
          "name": "stdout",
          "output_type": "stream",
          "text": [
            "<class 'pandas.core.frame.DataFrame'>\n",
            "RangeIndex: 2381 entries, 0 to 2380\n",
            "Data columns (total 14 columns):\n",
            " #   Column       Non-Null Count  Dtype  \n",
            "---  ------       --------------  -----  \n",
            " 0   Unnamed: 0   2381 non-null   int64  \n",
            " 1   dir          2381 non-null   float64\n",
            " 2   hir          2381 non-null   float64\n",
            " 3   lvr          2381 non-null   float64\n",
            " 4   ccs          2381 non-null   float64\n",
            " 5   mcs          2381 non-null   float64\n",
            " 6   pbcr         2380 non-null   object \n",
            " 7   dmi          2381 non-null   object \n",
            " 8   self         2380 non-null   object \n",
            " 9   single       2381 non-null   object \n",
            " 10  uria         2381 non-null   float64\n",
            " 11  comdominiom  2381 non-null   int64  \n",
            " 12  black        2381 non-null   object \n",
            " 13  deny         2381 non-null   object \n",
            "dtypes: float64(6), int64(2), object(6)\n",
            "memory usage: 260.5+ KB\n"
          ]
        }
      ],
      "source": [
        "df.info()"
      ]
    },
    {
      "cell_type": "code",
      "execution_count": 44,
      "metadata": {
        "colab": {
          "base_uri": "https://localhost:8080/"
        },
        "id": "jsT1u5yvGA-d",
        "outputId": "5f0dd118-8e0d-4164-b821-288871ff3cbc"
      },
      "outputs": [
        {
          "data": {
            "text/plain": [
              "Unnamed: 0     2381\n",
              "dir             520\n",
              "hir             501\n",
              "lvr            1538\n",
              "ccs               7\n",
              "mcs               5\n",
              "pbcr              2\n",
              "dmi               2\n",
              "self              2\n",
              "single            2\n",
              "uria             11\n",
              "comdominiom       2\n",
              "black             2\n",
              "deny              2\n",
              "dtype: int64"
            ]
          },
          "execution_count": 44,
          "metadata": {},
          "output_type": "execute_result"
        }
      ],
      "source": [
        "df.nunique()"
      ]
    },
    {
      "cell_type": "markdown",
      "metadata": {
        "id": "YhZHMG6PD_0A"
      },
      "source": [
        "## **Exploratory Data Analysis**"
      ]
    },
    {
      "cell_type": "code",
      "execution_count": 45,
      "metadata": {
        "colab": {
          "base_uri": "https://localhost:8080/",
          "height": 279
        },
        "id": "yPkr7IUCEZEb",
        "outputId": "97ff0c61-c33f-4589-ddee-a17036bd618b"
      },
      "outputs": [
        {
          "data": {
            "text/html": [
              "<div>\n",
              "<style scoped>\n",
              "    .dataframe tbody tr th:only-of-type {\n",
              "        vertical-align: middle;\n",
              "    }\n",
              "\n",
              "    .dataframe tbody tr th {\n",
              "        vertical-align: top;\n",
              "    }\n",
              "\n",
              "    .dataframe thead th {\n",
              "        text-align: right;\n",
              "    }\n",
              "</style>\n",
              "<table border=\"1\" class=\"dataframe\">\n",
              "  <thead>\n",
              "    <tr style=\"text-align: right;\">\n",
              "      <th></th>\n",
              "      <th>Unnamed: 0</th>\n",
              "      <th>dir</th>\n",
              "      <th>hir</th>\n",
              "      <th>lvr</th>\n",
              "      <th>ccs</th>\n",
              "      <th>mcs</th>\n",
              "      <th>uria</th>\n",
              "      <th>comdominiom</th>\n",
              "    </tr>\n",
              "  </thead>\n",
              "  <tbody>\n",
              "    <tr>\n",
              "      <th>count</th>\n",
              "      <td>2381.000000</td>\n",
              "      <td>2381.000000</td>\n",
              "      <td>2381.000000</td>\n",
              "      <td>2381.000000</td>\n",
              "      <td>2381.000000</td>\n",
              "      <td>2381.000000</td>\n",
              "      <td>2381.000000</td>\n",
              "      <td>2381.000000</td>\n",
              "    </tr>\n",
              "    <tr>\n",
              "      <th>mean</th>\n",
              "      <td>1191.000000</td>\n",
              "      <td>0.330814</td>\n",
              "      <td>0.255346</td>\n",
              "      <td>0.737760</td>\n",
              "      <td>2.116387</td>\n",
              "      <td>1.721008</td>\n",
              "      <td>3.774496</td>\n",
              "      <td>0.288114</td>\n",
              "    </tr>\n",
              "    <tr>\n",
              "      <th>std</th>\n",
              "      <td>687.479818</td>\n",
              "      <td>0.107235</td>\n",
              "      <td>0.096635</td>\n",
              "      <td>0.178715</td>\n",
              "      <td>1.666370</td>\n",
              "      <td>0.537169</td>\n",
              "      <td>2.026636</td>\n",
              "      <td>0.452980</td>\n",
              "    </tr>\n",
              "    <tr>\n",
              "      <th>min</th>\n",
              "      <td>1.000000</td>\n",
              "      <td>0.000000</td>\n",
              "      <td>0.000000</td>\n",
              "      <td>0.020000</td>\n",
              "      <td>1.000000</td>\n",
              "      <td>1.000000</td>\n",
              "      <td>1.800000</td>\n",
              "      <td>0.000000</td>\n",
              "    </tr>\n",
              "    <tr>\n",
              "      <th>25%</th>\n",
              "      <td>596.000000</td>\n",
              "      <td>0.280000</td>\n",
              "      <td>0.214000</td>\n",
              "      <td>0.652850</td>\n",
              "      <td>1.000000</td>\n",
              "      <td>1.000000</td>\n",
              "      <td>3.100000</td>\n",
              "      <td>0.000000</td>\n",
              "    </tr>\n",
              "    <tr>\n",
              "      <th>50%</th>\n",
              "      <td>1191.000000</td>\n",
              "      <td>0.330000</td>\n",
              "      <td>0.260000</td>\n",
              "      <td>0.779412</td>\n",
              "      <td>1.000000</td>\n",
              "      <td>2.000000</td>\n",
              "      <td>3.200000</td>\n",
              "      <td>0.000000</td>\n",
              "    </tr>\n",
              "    <tr>\n",
              "      <th>75%</th>\n",
              "      <td>1786.000000</td>\n",
              "      <td>0.370000</td>\n",
              "      <td>0.298800</td>\n",
              "      <td>0.868421</td>\n",
              "      <td>2.000000</td>\n",
              "      <td>2.000000</td>\n",
              "      <td>3.900000</td>\n",
              "      <td>1.000000</td>\n",
              "    </tr>\n",
              "    <tr>\n",
              "      <th>max</th>\n",
              "      <td>2381.000000</td>\n",
              "      <td>3.000000</td>\n",
              "      <td>3.000000</td>\n",
              "      <td>1.950000</td>\n",
              "      <td>6.000000</td>\n",
              "      <td>4.000000</td>\n",
              "      <td>10.600000</td>\n",
              "      <td>1.000000</td>\n",
              "    </tr>\n",
              "  </tbody>\n",
              "</table>\n",
              "</div>"
            ],
            "text/plain": [
              "        Unnamed: 0          dir          hir          lvr          ccs  \\\n",
              "count  2381.000000  2381.000000  2381.000000  2381.000000  2381.000000   \n",
              "mean   1191.000000     0.330814     0.255346     0.737760     2.116387   \n",
              "std     687.479818     0.107235     0.096635     0.178715     1.666370   \n",
              "min       1.000000     0.000000     0.000000     0.020000     1.000000   \n",
              "25%     596.000000     0.280000     0.214000     0.652850     1.000000   \n",
              "50%    1191.000000     0.330000     0.260000     0.779412     1.000000   \n",
              "75%    1786.000000     0.370000     0.298800     0.868421     2.000000   \n",
              "max    2381.000000     3.000000     3.000000     1.950000     6.000000   \n",
              "\n",
              "               mcs         uria  comdominiom  \n",
              "count  2381.000000  2381.000000  2381.000000  \n",
              "mean      1.721008     3.774496     0.288114  \n",
              "std       0.537169     2.026636     0.452980  \n",
              "min       1.000000     1.800000     0.000000  \n",
              "25%       1.000000     3.100000     0.000000  \n",
              "50%       2.000000     3.200000     0.000000  \n",
              "75%       2.000000     3.900000     1.000000  \n",
              "max       4.000000    10.600000     1.000000  "
            ]
          },
          "execution_count": 45,
          "metadata": {},
          "output_type": "execute_result"
        }
      ],
      "source": [
        "df.describe()"
      ]
    },
    {
      "cell_type": "markdown",
      "metadata": {
        "id": "m0qmGy5JKgVc"
      },
      "source": [
        "Lenders, such as banks and credit card companies, use credit scores to evaluate the risk of lending money to consumers.\n",
        "\n",
        "1 - no \"slow pay\" or delinquent accounts, but sufficient references for determination\n",
        "\n",
        "2 - one or two \"slow pay\" account(s) (each with one or two payments 30 days past due)\n",
        "\n",
        "3 - more than two \"slow pay\" accounts (each with one or two payments 30 days past due); or one or two chronic \"slow pay\" account(s) (with three or more payments 30 days past due in any 12-month period)\n",
        "\n",
        "4 Insufficient credit history or references for determination\n",
        "\n",
        "5 - delinquent credit history (containing account(s) with a history of payments 60 days past due)\n",
        "\n",
        "6 - serious delinquencies (containing account(s) with a history of payments 90 days past due)"
      ]
    },
    {
      "cell_type": "code",
      "execution_count": 46,
      "metadata": {
        "colab": {
          "base_uri": "https://localhost:8080/",
          "height": 781
        },
        "id": "qZ208eASqvG1",
        "outputId": "94f06123-2309-484d-f163-5166c86660d9"
      },
      "outputs": [
        {
          "data": {
            "text/plain": [
              "array([[<AxesSubplot:title={'center':'Unnamed: 0'}>,\n",
              "        <AxesSubplot:title={'center':'dir'}>,\n",
              "        <AxesSubplot:title={'center':'hir'}>],\n",
              "       [<AxesSubplot:title={'center':'lvr'}>,\n",
              "        <AxesSubplot:title={'center':'ccs'}>,\n",
              "        <AxesSubplot:title={'center':'mcs'}>],\n",
              "       [<AxesSubplot:title={'center':'uria'}>,\n",
              "        <AxesSubplot:title={'center':'comdominiom'}>, <AxesSubplot:>]],\n",
              "      dtype=object)"
            ]
          },
          "execution_count": 46,
          "metadata": {},
          "output_type": "execute_result"
        },
        {
          "data": {
            "image/png": "[encoded data removed]",
            "text/plain": [
              "<Figure size 720x720 with 9 Axes>"
            ]
          },
          "metadata": {
            "needs_background": "light"
          },
          "output_type": "display_data"
        }
      ],
      "source": [
        "df.hist(figsize=(10,10))"
      ]
    },
    {
      "cell_type": "code",
      "execution_count": 47,
      "metadata": {
        "colab": {
          "base_uri": "https://localhost:8080/",
          "height": 354
        },
        "id": "0WnA_6BMKCJP",
        "outputId": "30c0e212-481f-4858-b51a-7e1390796e16"
      },
      "outputs": [
        {
          "data": {
            "text/plain": [
              "Text(0, 0.5, 'number')"
            ]
          },
          "execution_count": 47,
          "metadata": {},
          "output_type": "execute_result"
        },
        {
          "data": {
            "image/png": "[encoded data removed]",
            "text/plain": [
              "<Figure size 432x288 with 1 Axes>"
            ]
          },
          "metadata": {
            "needs_background": "light"
          },
          "output_type": "display_data"
        }
      ],
      "source": [
        "plt = df.ccs.value_counts().plot(kind= 'bar')\n",
        "plt.set_xlabel('ccs')\n",
        "plt.set_ylabel('number')"
      ]
    },
    {
      "cell_type": "code",
      "execution_count": 48,
      "metadata": {
        "colab": {
          "base_uri": "https://localhost:8080/",
          "height": 354
        },
        "id": "KCQcXBNSKPU4",
        "outputId": "0e8863dd-1c62-45a5-cd47-ad274e3b418b"
      },
      "outputs": [
        {
          "data": {
            "text/plain": [
              "Text(0, 0.5, 'number')"
            ]
          },
          "execution_count": 48,
          "metadata": {},
          "output_type": "execute_result"
        },
        {
          "data": {
            "image/png": "[encoded data removed]",
            "text/plain": [
              "<Figure size 432x288 with 1 Axes>"
            ]
          },
          "metadata": {
            "needs_background": "light"
          },
          "output_type": "display_data"
        }
      ],
      "source": [
        "plt = df.ccs.value_counts().sort_index().plot(kind= 'bar')\n",
        "plt.set_xlabel('ccs')\n",
        "plt.set_ylabel('number')"
      ]
    },
    {
      "cell_type": "code",
      "execution_count": 50,
      "metadata": {
        "colab": {
          "base_uri": "https://localhost:8080/",
          "height": 163
        },
        "id": "irhWWA5gIXej",
        "outputId": "aece0d59-813d-43f8-b675-8973e01b9277"
      },
      "outputs": [
        {
          "data": {
            "image/png": "[encoded data removed]",
            "text/plain": [
              "<Figure size 432x288 with 2 Axes>"
            ]
          },
          "metadata": {
            "needs_background": "light"
          },
          "output_type": "display_data"
        }
      ],
      "source": [
        "unEmp = df['uria']\n",
        "import matplotlib.pyplot as plt\n",
        "plt.subplot(221)\n",
        "plt.boxplot(x=unEmp)\n",
        "plt.title('Unemployment')\n",
        "plt.subplot(222)\n",
        "plt.hist(tuple(unEmp))\n",
        "plt.title('Unemployment')\n",
        "plt.show()"
      ]
    },
    {
      "cell_type": "code",
      "execution_count": 51,
      "metadata": {
        "id": "DubzSOb4sulH"
      },
      "outputs": [],
      "source": [
        "dfg=df\n",
        "dfg.fillna(method='ffill',inplace=True)"
      ]
    },
    {
      "cell_type": "code",
      "execution_count": 52,
      "metadata": {
        "colab": {
          "base_uri": "https://localhost:8080/",
          "height": 279
        },
        "id": "5NLf13tZmbMh",
        "outputId": "37f0de37-dfb9-4ce3-f559-6e5fb16b5366"
      },
      "outputs": [
        {
          "data": {
            "image/png": "[encoded data removed]",
            "text/plain": [
              "<Figure size 432x288 with 1 Axes>"
            ]
          },
          "metadata": {
            "needs_background": "light"
          },
          "output_type": "display_data"
        }
      ],
      "source": [
        "sns.scatterplot(x='dir', y='black', data=dfg);"
      ]
    },
    {
      "cell_type": "code",
      "execution_count": 53,
      "metadata": {
        "colab": {
          "base_uri": "https://localhost:8080/",
          "height": 309
        },
        "id": "oPY9d4YMtfO3",
        "outputId": "c0e00a6a-a500-4a8e-baa7-d70459704efb"
      },
      "outputs": [
        {
          "data": {
            "image/png": "[encoded data removed]",
            "text/plain": [
              "<Figure size 720x720 with 28 Axes>"
            ]
          },
          "metadata": {
            "needs_background": "light"
          },
          "output_type": "display_data"
        }
      ],
      "source": [
        "dfg.plot(kind='box', subplots=True, layout=(4,7), figsize=(10,10), sharex=False, sharey=False)\n",
        "plt.show()"
      ]
    },
    {
      "cell_type": "code",
      "execution_count": 56,
      "metadata": {
        "colab": {
          "base_uri": "https://localhost:8080/",
          "height": 764
        },
        "id": "KEoDNaUQ3AxY",
        "outputId": "d12988c8-a3c2-4180-e607-26d6bb9c3139"
      },
      "outputs": [
        {
          "ename": "TypeError",
          "evalue": "can't multiply sequence by non-int of type 'float'",
          "output_type": "error",
          "traceback": [
            "\u001b[0;31m---------------------------------------------------------------------------\u001b[0m",
            "\u001b[0;31mTypeError\u001b[0m                                 Traceback (most recent call last)",
            "\u001b[1;32m/Users/akil/Documents/GitHub/CSCI381_DataAnalytics/Project/A_Bhuiyan_Quiz4.ipynb Cell 22\u001b[0m in \u001b[0;36m<cell line: 2>\u001b[0;34m()\u001b[0m\n\u001b[1;32m      <a href='vscode-notebook-cell:/Users/akil/Documents/GitHub/CSCI381_DataAnalytics/Project/A_Bhuiyan_Quiz4.ipynb#ch0000022?line=0'>1</a>\u001b[0m plt\u001b[39m.\u001b[39mfigure (figsize\u001b[39m=\u001b[39m(\u001b[39m10\u001b[39m,\u001b[39m10\u001b[39m))\n\u001b[0;32m----> <a href='vscode-notebook-cell:/Users/akil/Documents/GitHub/CSCI381_DataAnalytics/Project/A_Bhuiyan_Quiz4.ipynb#ch0000022?line=1'>2</a>\u001b[0m sns\u001b[39m.\u001b[39;49mjointplot(x \u001b[39m=\u001b[39;49m \u001b[39m'\u001b[39;49m\u001b[39mdir\u001b[39;49m\u001b[39m'\u001b[39;49m, y \u001b[39m=\u001b[39;49m \u001b[39m'\u001b[39;49m\u001b[39mblack\u001b[39;49m\u001b[39m'\u001b[39;49m, data \u001b[39m=\u001b[39;49m df, kind \u001b[39m=\u001b[39;49m \u001b[39m'\u001b[39;49m\u001b[39mreg\u001b[39;49m\u001b[39m'\u001b[39;49m, height \u001b[39m=\u001b[39;49m \u001b[39m10\u001b[39;49m)\n",
            "File \u001b[0;32m/Library/Frameworks/Python.framework/Versions/3.10/lib/python3.10/site-packages/seaborn/_decorators.py:46\u001b[0m, in \u001b[0;36m_deprecate_positional_args.<locals>.inner_f\u001b[0;34m(*args, **kwargs)\u001b[0m\n\u001b[1;32m     36\u001b[0m     warnings\u001b[39m.\u001b[39mwarn(\n\u001b[1;32m     37\u001b[0m         \u001b[39m\"\u001b[39m\u001b[39mPass the following variable\u001b[39m\u001b[39m{}\u001b[39;00m\u001b[39m as \u001b[39m\u001b[39m{}\u001b[39;00m\u001b[39mkeyword arg\u001b[39m\u001b[39m{}\u001b[39;00m\u001b[39m: \u001b[39m\u001b[39m{}\u001b[39;00m\u001b[39m. \u001b[39m\u001b[39m\"\u001b[39m\n\u001b[1;32m     38\u001b[0m         \u001b[39m\"\u001b[39m\u001b[39mFrom version 0.12, the only valid positional argument \u001b[39m\u001b[39m\"\u001b[39m\n\u001b[0;32m   (...)\u001b[0m\n\u001b[1;32m     43\u001b[0m         \u001b[39mFutureWarning\u001b[39;00m\n\u001b[1;32m     44\u001b[0m     )\n\u001b[1;32m     45\u001b[0m kwargs\u001b[39m.\u001b[39mupdate({k: arg \u001b[39mfor\u001b[39;00m k, arg \u001b[39min\u001b[39;00m \u001b[39mzip\u001b[39m(sig\u001b[39m.\u001b[39mparameters, args)})\n\u001b[0;32m---> 46\u001b[0m \u001b[39mreturn\u001b[39;00m f(\u001b[39m*\u001b[39;49m\u001b[39m*\u001b[39;49mkwargs)\n",
            "File \u001b[0;32m/Library/Frameworks/Python.framework/Versions/3.10/lib/python3.10/site-packages/seaborn/axisgrid.py:2313\u001b[0m, in \u001b[0;36mjointplot\u001b[0;34m(x, y, data, kind, color, height, ratio, space, dropna, xlim, ylim, marginal_ticks, joint_kws, marginal_kws, hue, palette, hue_order, hue_norm, **kwargs)\u001b[0m\n\u001b[1;32m   2310\u001b[0m     grid\u001b[39m.\u001b[39mplot_marginals(histplot, \u001b[39m*\u001b[39m\u001b[39m*\u001b[39mmarginal_kws)\n\u001b[1;32m   2312\u001b[0m     joint_kws\u001b[39m.\u001b[39msetdefault(\u001b[39m\"\u001b[39m\u001b[39mcolor\u001b[39m\u001b[39m\"\u001b[39m, color)\n\u001b[0;32m-> 2313\u001b[0m     grid\u001b[39m.\u001b[39;49mplot_joint(regplot, \u001b[39m*\u001b[39;49m\u001b[39m*\u001b[39;49mjoint_kws)\n\u001b[1;32m   2315\u001b[0m \u001b[39melif\u001b[39;00m kind\u001b[39m.\u001b[39mstartswith(\u001b[39m\"\u001b[39m\u001b[39mresid\u001b[39m\u001b[39m\"\u001b[39m):\n\u001b[1;32m   2317\u001b[0m     joint_kws\u001b[39m.\u001b[39msetdefault(\u001b[39m\"\u001b[39m\u001b[39mcolor\u001b[39m\u001b[39m\"\u001b[39m, color)\n",
            "File \u001b[0;32m/Library/Frameworks/Python.framework/Versions/3.10/lib/python3.10/site-packages/seaborn/axisgrid.py:1806\u001b[0m, in \u001b[0;36mJointGrid.plot_joint\u001b[0;34m(self, func, **kwargs)\u001b[0m\n\u001b[1;32m   1803\u001b[0m     \u001b[39mself\u001b[39m\u001b[39m.\u001b[39m_inject_kwargs(func, kwargs, \u001b[39mself\u001b[39m\u001b[39m.\u001b[39m_hue_params)\n\u001b[1;32m   1805\u001b[0m \u001b[39mif\u001b[39;00m \u001b[39mstr\u001b[39m(func\u001b[39m.\u001b[39m\u001b[39m__module__\u001b[39m)\u001b[39m.\u001b[39mstartswith(\u001b[39m\"\u001b[39m\u001b[39mseaborn\u001b[39m\u001b[39m\"\u001b[39m):\n\u001b[0;32m-> 1806\u001b[0m     func(x\u001b[39m=\u001b[39;49m\u001b[39mself\u001b[39;49m\u001b[39m.\u001b[39;49mx, y\u001b[39m=\u001b[39;49m\u001b[39mself\u001b[39;49m\u001b[39m.\u001b[39;49my, \u001b[39m*\u001b[39;49m\u001b[39m*\u001b[39;49mkwargs)\n\u001b[1;32m   1807\u001b[0m \u001b[39melse\u001b[39;00m:\n\u001b[1;32m   1808\u001b[0m     func(\u001b[39mself\u001b[39m\u001b[39m.\u001b[39mx, \u001b[39mself\u001b[39m\u001b[39m.\u001b[39my, \u001b[39m*\u001b[39m\u001b[39m*\u001b[39mkwargs)\n",
            "File \u001b[0;32m/Library/Frameworks/Python.framework/Versions/3.10/lib/python3.10/site-packages/seaborn/_decorators.py:46\u001b[0m, in \u001b[0;36m_deprecate_positional_args.<locals>.inner_f\u001b[0;34m(*args, **kwargs)\u001b[0m\n\u001b[1;32m     36\u001b[0m     warnings\u001b[39m.\u001b[39mwarn(\n\u001b[1;32m     37\u001b[0m         \u001b[39m\"\u001b[39m\u001b[39mPass the following variable\u001b[39m\u001b[39m{}\u001b[39;00m\u001b[39m as \u001b[39m\u001b[39m{}\u001b[39;00m\u001b[39mkeyword arg\u001b[39m\u001b[39m{}\u001b[39;00m\u001b[39m: \u001b[39m\u001b[39m{}\u001b[39;00m\u001b[39m. \u001b[39m\u001b[39m\"\u001b[39m\n\u001b[1;32m     38\u001b[0m         \u001b[39m\"\u001b[39m\u001b[39mFrom version 0.12, the only valid positional argument \u001b[39m\u001b[39m\"\u001b[39m\n\u001b[0;32m   (...)\u001b[0m\n\u001b[1;32m     43\u001b[0m         \u001b[39mFutureWarning\u001b[39;00m\n\u001b[1;32m     44\u001b[0m     )\n\u001b[1;32m     45\u001b[0m kwargs\u001b[39m.\u001b[39mupdate({k: arg \u001b[39mfor\u001b[39;00m k, arg \u001b[39min\u001b[39;00m \u001b[39mzip\u001b[39m(sig\u001b[39m.\u001b[39mparameters, args)})\n\u001b[0;32m---> 46\u001b[0m \u001b[39mreturn\u001b[39;00m f(\u001b[39m*\u001b[39;49m\u001b[39m*\u001b[39;49mkwargs)\n",
            "File \u001b[0;32m/Library/Frameworks/Python.framework/Versions/3.10/lib/python3.10/site-packages/seaborn/regression.py:863\u001b[0m, in \u001b[0;36mregplot\u001b[0;34m(x, y, data, x_estimator, x_bins, x_ci, scatter, fit_reg, ci, n_boot, units, seed, order, logistic, lowess, robust, logx, x_partial, y_partial, truncate, dropna, x_jitter, y_jitter, label, color, marker, scatter_kws, line_kws, ax)\u001b[0m\n\u001b[1;32m    861\u001b[0m scatter_kws[\u001b[39m\"\u001b[39m\u001b[39mmarker\u001b[39m\u001b[39m\"\u001b[39m] \u001b[39m=\u001b[39m marker\n\u001b[1;32m    862\u001b[0m line_kws \u001b[39m=\u001b[39m {} \u001b[39mif\u001b[39;00m line_kws \u001b[39mis\u001b[39;00m \u001b[39mNone\u001b[39;00m \u001b[39melse\u001b[39;00m copy\u001b[39m.\u001b[39mcopy(line_kws)\n\u001b[0;32m--> 863\u001b[0m plotter\u001b[39m.\u001b[39;49mplot(ax, scatter_kws, line_kws)\n\u001b[1;32m    864\u001b[0m \u001b[39mreturn\u001b[39;00m ax\n",
            "File \u001b[0;32m/Library/Frameworks/Python.framework/Versions/3.10/lib/python3.10/site-packages/seaborn/regression.py:370\u001b[0m, in \u001b[0;36m_RegressionPlotter.plot\u001b[0;34m(self, ax, scatter_kws, line_kws)\u001b[0m\n\u001b[1;32m    367\u001b[0m     \u001b[39mself\u001b[39m\u001b[39m.\u001b[39mscatterplot(ax, scatter_kws)\n\u001b[1;32m    369\u001b[0m \u001b[39mif\u001b[39;00m \u001b[39mself\u001b[39m\u001b[39m.\u001b[39mfit_reg:\n\u001b[0;32m--> 370\u001b[0m     \u001b[39mself\u001b[39;49m\u001b[39m.\u001b[39;49mlineplot(ax, line_kws)\n\u001b[1;32m    372\u001b[0m \u001b[39m# Label the axes\u001b[39;00m\n\u001b[1;32m    373\u001b[0m \u001b[39mif\u001b[39;00m \u001b[39mhasattr\u001b[39m(\u001b[39mself\u001b[39m\u001b[39m.\u001b[39mx, \u001b[39m\"\u001b[39m\u001b[39mname\u001b[39m\u001b[39m\"\u001b[39m):\n",
            "File \u001b[0;32m/Library/Frameworks/Python.framework/Versions/3.10/lib/python3.10/site-packages/seaborn/regression.py:413\u001b[0m, in \u001b[0;36m_RegressionPlotter.lineplot\u001b[0;34m(self, ax, kws)\u001b[0m\n\u001b[1;32m    411\u001b[0m \u001b[39m\"\"\"Draw the model.\"\"\"\u001b[39;00m\n\u001b[1;32m    412\u001b[0m \u001b[39m# Fit the regression model\u001b[39;00m\n\u001b[0;32m--> 413\u001b[0m grid, yhat, err_bands \u001b[39m=\u001b[39m \u001b[39mself\u001b[39;49m\u001b[39m.\u001b[39;49mfit_regression(ax)\n\u001b[1;32m    414\u001b[0m edges \u001b[39m=\u001b[39m grid[\u001b[39m0\u001b[39m], grid[\u001b[39m-\u001b[39m\u001b[39m1\u001b[39m]\n\u001b[1;32m    416\u001b[0m \u001b[39m# Get set default aesthetics\u001b[39;00m\n",
            "File \u001b[0;32m/Library/Frameworks/Python.framework/Versions/3.10/lib/python3.10/site-packages/seaborn/regression.py:221\u001b[0m, in \u001b[0;36m_RegressionPlotter.fit_regression\u001b[0;34m(self, ax, x_range, grid)\u001b[0m\n\u001b[1;32m    219\u001b[0m     yhat, yhat_boots \u001b[39m=\u001b[39m \u001b[39mself\u001b[39m\u001b[39m.\u001b[39mfit_logx(grid)\n\u001b[1;32m    220\u001b[0m \u001b[39melse\u001b[39;00m:\n\u001b[0;32m--> 221\u001b[0m     yhat, yhat_boots \u001b[39m=\u001b[39m \u001b[39mself\u001b[39;49m\u001b[39m.\u001b[39;49mfit_fast(grid)\n\u001b[1;32m    223\u001b[0m \u001b[39m# Compute the confidence interval at each grid point\u001b[39;00m\n\u001b[1;32m    224\u001b[0m \u001b[39mif\u001b[39;00m ci \u001b[39mis\u001b[39;00m \u001b[39mNone\u001b[39;00m:\n",
            "File \u001b[0;32m/Library/Frameworks/Python.framework/Versions/3.10/lib/python3.10/site-packages/seaborn/regression.py:238\u001b[0m, in \u001b[0;36m_RegressionPlotter.fit_fast\u001b[0;34m(self, grid)\u001b[0m\n\u001b[1;32m    236\u001b[0m X, y \u001b[39m=\u001b[39m np\u001b[39m.\u001b[39mc_[np\u001b[39m.\u001b[39mones(\u001b[39mlen\u001b[39m(\u001b[39mself\u001b[39m\u001b[39m.\u001b[39mx)), \u001b[39mself\u001b[39m\u001b[39m.\u001b[39mx], \u001b[39mself\u001b[39m\u001b[39m.\u001b[39my\n\u001b[1;32m    237\u001b[0m grid \u001b[39m=\u001b[39m np\u001b[39m.\u001b[39mc_[np\u001b[39m.\u001b[39mones(\u001b[39mlen\u001b[39m(grid)), grid]\n\u001b[0;32m--> 238\u001b[0m yhat \u001b[39m=\u001b[39m grid\u001b[39m.\u001b[39mdot(reg_func(X, y))\n\u001b[1;32m    239\u001b[0m \u001b[39mif\u001b[39;00m \u001b[39mself\u001b[39m\u001b[39m.\u001b[39mci \u001b[39mis\u001b[39;00m \u001b[39mNone\u001b[39;00m:\n\u001b[1;32m    240\u001b[0m     \u001b[39mreturn\u001b[39;00m yhat, \u001b[39mNone\u001b[39;00m\n",
            "File \u001b[0;32m/Library/Frameworks/Python.framework/Versions/3.10/lib/python3.10/site-packages/seaborn/regression.py:234\u001b[0m, in \u001b[0;36m_RegressionPlotter.fit_fast.<locals>.reg_func\u001b[0;34m(_x, _y)\u001b[0m\n\u001b[1;32m    233\u001b[0m \u001b[39mdef\u001b[39;00m \u001b[39mreg_func\u001b[39m(_x, _y):\n\u001b[0;32m--> 234\u001b[0m     \u001b[39mreturn\u001b[39;00m np\u001b[39m.\u001b[39;49mlinalg\u001b[39m.\u001b[39;49mpinv(_x)\u001b[39m.\u001b[39;49mdot(_y)\n",
            "\u001b[0;31mTypeError\u001b[0m: can't multiply sequence by non-int of type 'float'"
          ]
        },
        {
          "data": {
            "text/plain": [
              "<Figure size 720x720 with 0 Axes>"
            ]
          },
          "metadata": {},
          "output_type": "display_data"
        },
        {
          "data": {
            "image/png": "[encoded data removed]",
            "text/plain": [
              "<Figure size 720x720 with 3 Axes>"
            ]
          },
          "metadata": {
            "needs_background": "light"
          },
          "output_type": "display_data"
        }
      ],
      "source": [
        "plt.figure (figsize=(10,10))\n",
        "sns.jointplot(x = 'dir', y = 'black', data = df, kind = 'reg', height = 10)"
      ]
    },
    {
      "cell_type": "markdown",
      "metadata": {
        "id": "fzhQsu4WOvmw"
      },
      "source": [
        "My analysis shows that, even when accounting for debt-to-income and combined loan-to-value ratios in addition to other financial characteristics, lenders were still more likely to deny people of color home loans than White applicants. Applicants’ credit scores are still not released publicly, though lenders are required to report them to the federal government as part of their Home Mortgage Disclosure Act (HMDA) reporting."
      ]
    },
    {
      "cell_type": "code",
      "execution_count": 57,
      "metadata": {
        "colab": {
          "base_uri": "https://localhost:8080/",
          "height": 271
        },
        "id": "Vene-kP-s9dd",
        "outputId": "01e4edcb-31e2-4031-dbc8-8742ea4ea7e7"
      },
      "outputs": [
        {
          "data": {
            "image/png": "[encoded data removed]",
            "text/plain": [
              "<Figure size 432x288 with 2 Axes>"
            ]
          },
          "metadata": {
            "needs_background": "light"
          },
          "output_type": "display_data"
        }
      ],
      "source": [
        "correlations = dfg.corr()\n",
        "fig = plt.figure()\n",
        "ax = fig.add_subplot()\n",
        "cax = ax.matshow(correlations, vmin=-1, vmax=1)\n",
        "fig.colorbar(cax)\n",
        "ticks = np.arange(0,14,1)\n",
        "ax.set_xticks(ticks)\n",
        "ax.set_yticks(ticks)\n",
        "ax.set_xticklabels(dfg)\n",
        "ax.set_yticklabels(dfg)\n",
        "plt.show()"
      ]
    },
    {
      "cell_type": "code",
      "execution_count": 58,
      "metadata": {
        "colab": {
          "base_uri": "https://localhost:8080/",
          "height": 395
        },
        "id": "2oy1Gokp33S-",
        "outputId": "258a0f37-517f-4e65-b592-1a870d7d64db"
      },
      "outputs": [
        {
          "data": {
            "text/plain": [
              "<AxesSubplot:>"
            ]
          },
          "execution_count": 58,
          "metadata": {},
          "output_type": "execute_result"
        },
        {
          "data": {
            "image/png": "[encoded data removed]",
            "text/plain": [
              "<Figure size 720x432 with 2 Axes>"
            ]
          },
          "metadata": {
            "needs_background": "light"
          },
          "output_type": "display_data"
        }
      ],
      "source": [
        "corr= df.corr()\n",
        "plt.figure (figsize=(10,6))\n",
        "sns.heatmap(corr, annot = True, cmap = 'coolwarm')"
      ]
    },
    {
      "cell_type": "markdown",
      "metadata": {
        "id": "0sqVmrxvEDsH"
      },
      "source": [
        "## **Data Preparation**"
      ]
    },
    {
      "cell_type": "code",
      "execution_count": 59,
      "metadata": {
        "colab": {
          "base_uri": "https://localhost:8080/"
        },
        "id": "45Tzg3c3GX14",
        "outputId": "69e2d786-8e2a-40c3-ef40-68aa7d60ccb3"
      },
      "outputs": [
        {
          "data": {
            "text/plain": [
              "Unnamed: 0     0\n",
              "dir            0\n",
              "hir            0\n",
              "lvr            0\n",
              "ccs            0\n",
              "mcs            0\n",
              "pbcr           0\n",
              "dmi            0\n",
              "self           0\n",
              "single         0\n",
              "uria           0\n",
              "comdominiom    0\n",
              "black          0\n",
              "deny           0\n",
              "dtype: int64"
            ]
          },
          "execution_count": 59,
          "metadata": {},
          "output_type": "execute_result"
        }
      ],
      "source": [
        "df1 = df\n",
        "df1.fillna(method='ffill',inplace=True)\n",
        "df1.isnull().sum()"
      ]
    },
    {
      "cell_type": "code",
      "execution_count": 60,
      "metadata": {
        "colab": {
          "base_uri": "https://localhost:8080/",
          "height": 279
        },
        "id": "5oJngkBiL50p",
        "outputId": "38304650-95dd-4442-972d-97365a4f3ed5"
      },
      "outputs": [
        {
          "data": {
            "text/html": [
              "<div>\n",
              "<style scoped>\n",
              "    .dataframe tbody tr th:only-of-type {\n",
              "        vertical-align: middle;\n",
              "    }\n",
              "\n",
              "    .dataframe tbody tr th {\n",
              "        vertical-align: top;\n",
              "    }\n",
              "\n",
              "    .dataframe thead th {\n",
              "        text-align: right;\n",
              "    }\n",
              "</style>\n",
              "<table border=\"1\" class=\"dataframe\">\n",
              "  <thead>\n",
              "    <tr style=\"text-align: right;\">\n",
              "      <th></th>\n",
              "      <th>Unnamed: 0</th>\n",
              "      <th>dir</th>\n",
              "      <th>hir</th>\n",
              "      <th>lvr</th>\n",
              "      <th>ccs</th>\n",
              "      <th>mcs</th>\n",
              "      <th>uria</th>\n",
              "      <th>comdominiom</th>\n",
              "    </tr>\n",
              "  </thead>\n",
              "  <tbody>\n",
              "    <tr>\n",
              "      <th>Unnamed: 0</th>\n",
              "      <td>1.000000</td>\n",
              "      <td>0.017261</td>\n",
              "      <td>-0.009741</td>\n",
              "      <td>0.089842</td>\n",
              "      <td>0.040050</td>\n",
              "      <td>-0.011960</td>\n",
              "      <td>-0.032517</td>\n",
              "      <td>0.085297</td>\n",
              "    </tr>\n",
              "    <tr>\n",
              "      <th>dir</th>\n",
              "      <td>0.017261</td>\n",
              "      <td>1.000000</td>\n",
              "      <td>0.781473</td>\n",
              "      <td>0.150653</td>\n",
              "      <td>0.065234</td>\n",
              "      <td>0.051318</td>\n",
              "      <td>0.046450</td>\n",
              "      <td>-0.012451</td>\n",
              "    </tr>\n",
              "    <tr>\n",
              "      <th>hir</th>\n",
              "      <td>-0.009741</td>\n",
              "      <td>0.781473</td>\n",
              "      <td>1.000000</td>\n",
              "      <td>0.126273</td>\n",
              "      <td>0.005277</td>\n",
              "      <td>0.104721</td>\n",
              "      <td>0.036992</td>\n",
              "      <td>-0.046039</td>\n",
              "    </tr>\n",
              "    <tr>\n",
              "      <th>lvr</th>\n",
              "      <td>0.089842</td>\n",
              "      <td>0.150653</td>\n",
              "      <td>0.126273</td>\n",
              "      <td>1.000000</td>\n",
              "      <td>0.111939</td>\n",
              "      <td>0.186326</td>\n",
              "      <td>-0.034643</td>\n",
              "      <td>0.055001</td>\n",
              "    </tr>\n",
              "    <tr>\n",
              "      <th>ccs</th>\n",
              "      <td>0.040050</td>\n",
              "      <td>0.065234</td>\n",
              "      <td>0.005277</td>\n",
              "      <td>0.111939</td>\n",
              "      <td>1.000000</td>\n",
              "      <td>0.152686</td>\n",
              "      <td>-0.006424</td>\n",
              "      <td>0.050742</td>\n",
              "    </tr>\n",
              "    <tr>\n",
              "      <th>mcs</th>\n",
              "      <td>-0.011960</td>\n",
              "      <td>0.051318</td>\n",
              "      <td>0.104721</td>\n",
              "      <td>0.186326</td>\n",
              "      <td>0.152686</td>\n",
              "      <td>1.000000</td>\n",
              "      <td>0.037077</td>\n",
              "      <td>0.090462</td>\n",
              "    </tr>\n",
              "    <tr>\n",
              "      <th>uria</th>\n",
              "      <td>-0.032517</td>\n",
              "      <td>0.046450</td>\n",
              "      <td>0.036992</td>\n",
              "      <td>-0.034643</td>\n",
              "      <td>-0.006424</td>\n",
              "      <td>0.037077</td>\n",
              "      <td>1.000000</td>\n",
              "      <td>-0.100647</td>\n",
              "    </tr>\n",
              "    <tr>\n",
              "      <th>comdominiom</th>\n",
              "      <td>0.085297</td>\n",
              "      <td>-0.012451</td>\n",
              "      <td>-0.046039</td>\n",
              "      <td>0.055001</td>\n",
              "      <td>0.050742</td>\n",
              "      <td>0.090462</td>\n",
              "      <td>-0.100647</td>\n",
              "      <td>1.000000</td>\n",
              "    </tr>\n",
              "  </tbody>\n",
              "</table>\n",
              "</div>"
            ],
            "text/plain": [
              "             Unnamed: 0       dir       hir       lvr       ccs       mcs  \\\n",
              "Unnamed: 0     1.000000  0.017261 -0.009741  0.089842  0.040050 -0.011960   \n",
              "dir            0.017261  1.000000  0.781473  0.150653  0.065234  0.051318   \n",
              "hir           -0.009741  0.781473  1.000000  0.126273  0.005277  0.104721   \n",
              "lvr            0.089842  0.150653  0.126273  1.000000  0.111939  0.186326   \n",
              "ccs            0.040050  0.065234  0.005277  0.111939  1.000000  0.152686   \n",
              "mcs           -0.011960  0.051318  0.104721  0.186326  0.152686  1.000000   \n",
              "uria          -0.032517  0.046450  0.036992 -0.034643 -0.006424  0.037077   \n",
              "comdominiom    0.085297 -0.012451 -0.046039  0.055001  0.050742  0.090462   \n",
              "\n",
              "                 uria  comdominiom  \n",
              "Unnamed: 0  -0.032517     0.085297  \n",
              "dir          0.046450    -0.012451  \n",
              "hir          0.036992    -0.046039  \n",
              "lvr         -0.034643     0.055001  \n",
              "ccs         -0.006424     0.050742  \n",
              "mcs          0.037077     0.090462  \n",
              "uria         1.000000    -0.100647  \n",
              "comdominiom -0.100647     1.000000  "
            ]
          },
          "execution_count": 60,
          "metadata": {},
          "output_type": "execute_result"
        }
      ],
      "source": [
        "corr_matrix = df.corr()\n",
        "corr_matrix"
      ]
    },
    {
      "cell_type": "code",
      "execution_count": 61,
      "metadata": {
        "id": "rwkE4m334hvS"
      },
      "outputs": [],
      "source": [
        "df['dmi'] = df['dmi'].map({'yes':1 ,'no':0})\n",
        "df['pbcr'] = df['pbcr'].map({'yes':1 ,'no':0})\n",
        "df['single'] = df['single'].map({'yes':1 ,'no':0})\n",
        "df['self'] = df['self'].map({'yes':1 ,'no':0})\n",
        "df['black'] = df['black'].map({'yes':1 ,'no':0})\n",
        "df['deny'] = df['deny'].map({'yes':1 ,'no':0})"
      ]
    },
    {
      "cell_type": "markdown",
      "metadata": {
        "id": "GQHjFB_1EH5G"
      },
      "source": [
        "## **Prepped Data Review**"
      ]
    },
    {
      "cell_type": "code",
      "execution_count": 62,
      "metadata": {
        "colab": {
          "base_uri": "https://localhost:8080/",
          "height": 215
        },
        "id": "v8lILnGr2dCn",
        "outputId": "cf5be11c-5927-4895-b50d-8b347318537f"
      },
      "outputs": [
        {
          "data": {
            "text/html": [
              "<div>\n",
              "<style scoped>\n",
              "    .dataframe tbody tr th:only-of-type {\n",
              "        vertical-align: middle;\n",
              "    }\n",
              "\n",
              "    .dataframe tbody tr th {\n",
              "        vertical-align: top;\n",
              "    }\n",
              "\n",
              "    .dataframe thead th {\n",
              "        text-align: right;\n",
              "    }\n",
              "</style>\n",
              "<table border=\"1\" class=\"dataframe\">\n",
              "  <thead>\n",
              "    <tr style=\"text-align: right;\">\n",
              "      <th></th>\n",
              "      <th>Unnamed: 0</th>\n",
              "      <th>DebtTOIncome</th>\n",
              "      <th>HousingToIncome</th>\n",
              "      <th>LoanToPropertyValue</th>\n",
              "      <th>ccs</th>\n",
              "      <th>mcs</th>\n",
              "      <th>pbcr</th>\n",
              "      <th>dmi</th>\n",
              "      <th>self</th>\n",
              "      <th>single</th>\n",
              "      <th>UnemploymentRate</th>\n",
              "      <th>comdominiom</th>\n",
              "      <th>black</th>\n",
              "      <th>deny</th>\n",
              "    </tr>\n",
              "  </thead>\n",
              "  <tbody>\n",
              "    <tr>\n",
              "      <th>0</th>\n",
              "      <td>1</td>\n",
              "      <td>0.221</td>\n",
              "      <td>0.221</td>\n",
              "      <td>0.800000</td>\n",
              "      <td>5.0</td>\n",
              "      <td>2.0</td>\n",
              "      <td>0</td>\n",
              "      <td>0</td>\n",
              "      <td>0</td>\n",
              "      <td>0</td>\n",
              "      <td>3.9</td>\n",
              "      <td>0</td>\n",
              "      <td>0</td>\n",
              "      <td>0</td>\n",
              "    </tr>\n",
              "    <tr>\n",
              "      <th>1</th>\n",
              "      <td>2</td>\n",
              "      <td>0.265</td>\n",
              "      <td>0.265</td>\n",
              "      <td>0.921875</td>\n",
              "      <td>2.0</td>\n",
              "      <td>2.0</td>\n",
              "      <td>0</td>\n",
              "      <td>0</td>\n",
              "      <td>0</td>\n",
              "      <td>1</td>\n",
              "      <td>3.2</td>\n",
              "      <td>0</td>\n",
              "      <td>0</td>\n",
              "      <td>0</td>\n",
              "    </tr>\n",
              "    <tr>\n",
              "      <th>2</th>\n",
              "      <td>3</td>\n",
              "      <td>0.372</td>\n",
              "      <td>0.248</td>\n",
              "      <td>0.920398</td>\n",
              "      <td>1.0</td>\n",
              "      <td>2.0</td>\n",
              "      <td>0</td>\n",
              "      <td>0</td>\n",
              "      <td>0</td>\n",
              "      <td>0</td>\n",
              "      <td>3.2</td>\n",
              "      <td>0</td>\n",
              "      <td>0</td>\n",
              "      <td>0</td>\n",
              "    </tr>\n",
              "    <tr>\n",
              "      <th>3</th>\n",
              "      <td>4</td>\n",
              "      <td>0.320</td>\n",
              "      <td>0.250</td>\n",
              "      <td>0.860465</td>\n",
              "      <td>1.0</td>\n",
              "      <td>2.0</td>\n",
              "      <td>0</td>\n",
              "      <td>0</td>\n",
              "      <td>0</td>\n",
              "      <td>0</td>\n",
              "      <td>4.3</td>\n",
              "      <td>0</td>\n",
              "      <td>0</td>\n",
              "      <td>0</td>\n",
              "    </tr>\n",
              "    <tr>\n",
              "      <th>4</th>\n",
              "      <td>5</td>\n",
              "      <td>0.360</td>\n",
              "      <td>0.350</td>\n",
              "      <td>0.600000</td>\n",
              "      <td>1.0</td>\n",
              "      <td>1.0</td>\n",
              "      <td>0</td>\n",
              "      <td>0</td>\n",
              "      <td>0</td>\n",
              "      <td>0</td>\n",
              "      <td>3.2</td>\n",
              "      <td>0</td>\n",
              "      <td>0</td>\n",
              "      <td>0</td>\n",
              "    </tr>\n",
              "  </tbody>\n",
              "</table>\n",
              "</div>"
            ],
            "text/plain": [
              "   Unnamed: 0  DebtTOIncome  HousingToIncome  LoanToPropertyValue  ccs  mcs  \\\n",
              "0           1         0.221            0.221             0.800000  5.0  2.0   \n",
              "1           2         0.265            0.265             0.921875  2.0  2.0   \n",
              "2           3         0.372            0.248             0.920398  1.0  2.0   \n",
              "3           4         0.320            0.250             0.860465  1.0  2.0   \n",
              "4           5         0.360            0.350             0.600000  1.0  1.0   \n",
              "\n",
              "   pbcr  dmi  self  single  UnemploymentRate  comdominiom  black  deny  \n",
              "0     0    0     0       0               3.9            0      0     0  \n",
              "1     0    0     0       1               3.2            0      0     0  \n",
              "2     0    0     0       0               3.2            0      0     0  \n",
              "3     0    0     0       0               4.3            0      0     0  \n",
              "4     0    0     0       0               3.2            0      0     0  "
            ]
          },
          "execution_count": 62,
          "metadata": {},
          "output_type": "execute_result"
        }
      ],
      "source": [
        "dfpp = df\n",
        "dfpp = dfpp.rename(columns={'dir':'DebtTOIncome', 'hir':\"HousingToIncome\", 'lvr':'LoanToPropertyValue', 'uria':'UnemploymentRate'})\n",
        "dfpp.head()"
      ]
    },
    {
      "cell_type": "markdown",
      "metadata": {
        "id": "HKnwbRDCELDm"
      },
      "source": [
        "## **Regression Modeling**"
      ]
    },
    {
      "cell_type": "code",
      "execution_count": 63,
      "metadata": {
        "colab": {
          "base_uri": "https://localhost:8080/",
          "height": 442
        },
        "id": "51PZ1wQkLuXL",
        "outputId": "4cb90d47-3479-4777-cd01-5a5a4319680f"
      },
      "outputs": [
        {
          "name": "stderr",
          "output_type": "stream",
          "text": [
            "/var/folders/l4/3jrpbdxs1d3d0d9grx88k7s00000gn/T/ipykernel_30949/3236059522.py:1: FutureWarning: In a future version of pandas all arguments of DataFrame.drop except for the argument 'labels' will be keyword-only.\n",
            "  X = df1.drop('deny', 1)\n"
          ]
        },
        {
          "data": {
            "text/html": [
              "<div>\n",
              "<style scoped>\n",
              "    .dataframe tbody tr th:only-of-type {\n",
              "        vertical-align: middle;\n",
              "    }\n",
              "\n",
              "    .dataframe tbody tr th {\n",
              "        vertical-align: top;\n",
              "    }\n",
              "\n",
              "    .dataframe thead th {\n",
              "        text-align: right;\n",
              "    }\n",
              "</style>\n",
              "<table border=\"1\" class=\"dataframe\">\n",
              "  <thead>\n",
              "    <tr style=\"text-align: right;\">\n",
              "      <th></th>\n",
              "      <th>Features</th>\n",
              "      <th>Scores</th>\n",
              "    </tr>\n",
              "  </thead>\n",
              "  <tbody>\n",
              "    <tr>\n",
              "      <th>0</th>\n",
              "      <td>Unnamed: 0</td>\n",
              "      <td>294.328253</td>\n",
              "    </tr>\n",
              "    <tr>\n",
              "      <th>1</th>\n",
              "      <td>dir</td>\n",
              "      <td>3.287311</td>\n",
              "    </tr>\n",
              "    <tr>\n",
              "      <th>2</th>\n",
              "      <td>hir</td>\n",
              "      <td>1.541329</td>\n",
              "    </tr>\n",
              "    <tr>\n",
              "      <th>3</th>\n",
              "      <td>lvr</td>\n",
              "      <td>2.712354</td>\n",
              "    </tr>\n",
              "    <tr>\n",
              "      <th>4</th>\n",
              "      <td>ccs</td>\n",
              "      <td>214.943471</td>\n",
              "    </tr>\n",
              "    <tr>\n",
              "      <th>5</th>\n",
              "      <td>mcs</td>\n",
              "      <td>4.797375</td>\n",
              "    </tr>\n",
              "    <tr>\n",
              "      <th>6</th>\n",
              "      <td>pbcr</td>\n",
              "      <td>164.363471</td>\n",
              "    </tr>\n",
              "    <tr>\n",
              "      <th>7</th>\n",
              "      <td>dmi</td>\n",
              "      <td>289.338892</td>\n",
              "    </tr>\n",
              "    <tr>\n",
              "      <th>8</th>\n",
              "      <td>self</td>\n",
              "      <td>5.651809</td>\n",
              "    </tr>\n",
              "    <tr>\n",
              "      <th>9</th>\n",
              "      <td>single</td>\n",
              "      <td>8.426248</td>\n",
              "    </tr>\n",
              "    <tr>\n",
              "      <th>10</th>\n",
              "      <td>uria</td>\n",
              "      <td>4.921614</td>\n",
              "    </tr>\n",
              "    <tr>\n",
              "      <th>11</th>\n",
              "      <td>comdominiom</td>\n",
              "      <td>2.668106</td>\n",
              "    </tr>\n",
              "    <tr>\n",
              "      <th>12</th>\n",
              "      <td>black</td>\n",
              "      <td>85.991467</td>\n",
              "    </tr>\n",
              "  </tbody>\n",
              "</table>\n",
              "</div>"
            ],
            "text/plain": [
              "       Features      Scores\n",
              "0    Unnamed: 0  294.328253\n",
              "1           dir    3.287311\n",
              "2           hir    1.541329\n",
              "3           lvr    2.712354\n",
              "4           ccs  214.943471\n",
              "5           mcs    4.797375\n",
              "6          pbcr  164.363471\n",
              "7           dmi  289.338892\n",
              "8          self    5.651809\n",
              "9        single    8.426248\n",
              "10         uria    4.921614\n",
              "11  comdominiom    2.668106\n",
              "12        black   85.991467"
            ]
          },
          "execution_count": 63,
          "metadata": {},
          "output_type": "execute_result"
        }
      ],
      "source": [
        "X = df1.drop('deny', 1)\n",
        "y = df1['deny']\n",
        "test = SelectKBest(score_func=chi2, k=4)\n",
        "fit = test.fit(X,y)\n",
        "feature_score = pd.DataFrame()\n",
        "for i in range(X.shape[1]):\n",
        "  new = pd.DataFrame({'Features':X.columns[i], 'Scores':fit.scores_[i]}, index=[i])\n",
        "  feature_score = pd.concat([feature_score, new])\n",
        "feature_score"
      ]
    },
    {
      "cell_type": "code",
      "execution_count": 64,
      "metadata": {
        "colab": {
          "base_uri": "https://localhost:8080/"
        },
        "id": "IXC-iaIbpv1K",
        "outputId": "9870b79f-6a71-4d34-eea0-116c8faba9d6"
      },
      "outputs": [
        {
          "data": {
            "text/plain": [
              "0    2096\n",
              "1     285\n",
              "Name: deny, dtype: int64"
            ]
          },
          "execution_count": 64,
          "metadata": {},
          "output_type": "execute_result"
        }
      ],
      "source": [
        "df1.deny.value_counts()"
      ]
    },
    {
      "cell_type": "code",
      "execution_count": 65,
      "metadata": {
        "colab": {
          "base_uri": "https://localhost:8080/"
        },
        "id": "FkOUdtepp1Ji",
        "outputId": "c1d830dd-9518-4344-9495-d04a047335b4"
      },
      "outputs": [
        {
          "data": {
            "text/plain": [
              "0    2333\n",
              "1      48\n",
              "Name: dmi, dtype: int64"
            ]
          },
          "execution_count": 65,
          "metadata": {},
          "output_type": "execute_result"
        }
      ],
      "source": [
        "df1.dmi.value_counts()"
      ]
    },
    {
      "cell_type": "code",
      "execution_count": null,
      "metadata": {
        "colab": {
          "base_uri": "https://localhost:8080/"
        },
        "id": "DuZt__6lMUCi",
        "outputId": "d010fa39-0dff-4498-ccae-222e0bff4fd7"
      },
      "outputs": [],
      "source": [
        "rfe_output = pd.DataFrame({'Features':features.columns,'Rank':rfe.ranking_}).sort_values(by = 'Rank')\n",
        "print(rfe_output)"
      ]
    },
    {
      "cell_type": "code",
      "execution_count": 68,
      "metadata": {
        "colab": {
          "base_uri": "https://localhost:8080/"
        },
        "id": "SiAosQ0up1au",
        "outputId": "834287a8-6e45-4b1d-cf11-7cc9bc4e3cc7"
      },
      "outputs": [
        {
          "data": {
            "text/plain": [
              "0    2042\n",
              "1     339\n",
              "Name: black, dtype: int64"
            ]
          },
          "execution_count": 68,
          "metadata": {},
          "output_type": "execute_result"
        }
      ],
      "source": [
        "df1.black.value_counts()"
      ]
    },
    {
      "cell_type": "code",
      "execution_count": null,
      "metadata": {
        "colab": {
          "base_uri": "https://localhost:8080/"
        },
        "id": "E7PSuN5tMfLC",
        "outputId": "26dab3ee-8987-4211-ad11-cfa112fe6189"
      },
      "outputs": [],
      "source": [
        "res = pd.DataFrame({'Chosen':features.columns[features_kbest]})\n",
        "print(res)"
      ]
    },
    {
      "cell_type": "code",
      "execution_count": 70,
      "metadata": {
        "colab": {
          "base_uri": "https://localhost:8080/"
        },
        "id": "HYy0ksKQp7t8",
        "outputId": "09925a72-7319-492a-a684-b09a4e82e50c"
      },
      "outputs": [
        {
          "name": "stdout",
          "output_type": "stream",
          "text": [
            "Index(['dir', 'lvr', 'pbcr', 'dmi', 'black'], dtype='object')\n"
          ]
        }
      ],
      "source": [
        "target = df['deny']\n",
        "features = df.drop('deny', axis=1).copy()\n",
        "lr = LinearRegression()\n",
        "rfe = RFE(estimator=lr, n_features_to_select=5, step=1)\n",
        "rfe.fit(features, target)\n",
        "rfe_features = features.columns[rfe.support_]\n",
        "print(rfe_features)"
      ]
    },
    {
      "cell_type": "code",
      "execution_count": 71,
      "metadata": {
        "colab": {
          "base_uri": "https://localhost:8080/"
        },
        "id": "tANJTaQl5waa",
        "outputId": "af35ccb1-a0bc-4787-e3bd-d13340e3eeef"
      },
      "outputs": [
        {
          "name": "stdout",
          "output_type": "stream",
          "text": [
            "Chosen Features:  Index(['dir', 'ccs', 'pbcr', 'dmi', 'black'], dtype='object') \n",
            "\n"
          ]
        },
        {
          "data": {
            "text/plain": [
              "array([  0.74161184,  98.44180896,  42.88743288,  64.31953539,\n",
              "       175.85967302,  28.94913233, 191.52316913, 336.81573745,\n",
              "         6.40773209,  13.96378611,   4.52958742,   3.75069692,\n",
              "       104.58732528])"
            ]
          },
          "execution_count": 71,
          "metadata": {},
          "output_type": "execute_result"
        }
      ],
      "source": [
        "feature_names = list(features.columns)\n",
        "selection_kBest = SelectKBest(f_regression, k=5).fit(features, target)\n",
        "features_kbest = selection_kBest.get_support()\n",
        "print('Chosen Features: ', features.columns[features_kbest], '\\n')\n",
        "selection_kBest.scores_"
      ]
    },
    {
      "cell_type": "markdown",
      "metadata": {
        "id": "ud2DY2V_EOq5"
      },
      "source": [
        "## **Select Models**"
      ]
    },
    {
      "cell_type": "code",
      "execution_count": 72,
      "metadata": {
        "colab": {
          "base_uri": "https://localhost:8080/",
          "height": 764
        },
        "id": "CHx2vvTM5AP7",
        "outputId": "5d7d1239-4575-48c3-ce0c-bffe710543c7"
      },
      "outputs": [
        {
          "data": {
            "text/plain": [
              "<seaborn.axisgrid.JointGrid at 0x1499b2560>"
            ]
          },
          "execution_count": 72,
          "metadata": {},
          "output_type": "execute_result"
        },
        {
          "data": {
            "text/plain": [
              "<Figure size 720x720 with 0 Axes>"
            ]
          },
          "metadata": {},
          "output_type": "display_data"
        },
        {
          "data": {
            "image/png": "[encoded data removed]",
            "text/plain": [
              "<Figure size 720x720 with 3 Axes>"
            ]
          },
          "metadata": {
            "needs_background": "light"
          },
          "output_type": "display_data"
        }
      ],
      "source": [
        "plt.figure (figsize=(10,10))\n",
        "sns.jointplot(x = 'HousingToIncome', y = 'LoanToPropertyValue', data = dfpp, kind = 'hex', color = 'green', height = 10)"
      ]
    },
    {
      "cell_type": "markdown",
      "metadata": {
        "id": "Q19jQBtd80V9"
      },
      "source": [
        "HMDA data is loan-level data containing many details of individual mortgage applications. We downloaded the 2019 dataset multiple times (as it is updated from time to time), most recently on Aug. 10, 2021. It contained more than 17 million applications, nearly 90 percent of all loans made in the country from more than 5,500 financial institutions. Smaller lenders are not required to report the applications they receive. Of those financial institutions that report their data, some don’t have to disclose the new fields required by the Dodd-Frank Act."
      ]
    },
    {
      "cell_type": "markdown",
      "metadata": {
        "id": "e8v9gPg_ESXt"
      },
      "source": [
        "## **Conclusion**\n",
        "\n",
        "Based on our analysis, our graph provides evidence that there is an effect of being African American on the probability of a mortgage application denial: in all specifications, the effect is estimated to be positive (ranging from 4% to  5%) and is significantly different from zero at the  1%\n",
        "level. In this dataset, the most important features are ccs,pbcr, and dmi because those features determine if a person gets mortgage or not. Each feature is not related, most are independent features. If one feature's value is increased other features will not increase or decrease.b logistic regression model is best fit for this data set because it gives higher accuracy over other models. While the linear probability model seems to slightly overestimate this effect, it still can be used as an approximation to an intrinsically nonlinear relationship."
      ]
    },
    {
      "cell_type": "markdown",
      "metadata": {
        "id": "Ozb80Lvr4yen"
      },
      "source": [
        "## **References**\n",
        "\n",
        "[Quiz4](https://drive.google.com/open?id=1IbrRyH30lHypq6By_wKmCtrsh2cBL3YE) \n",
        "\n",
        "https://scikit-learn.org\n",
        "\n",
        "https://realpython.com/tutorials/data-science/\n",
        "\n",
        "https://en.wikipedia.org/wiki/Exploratory_data_analysis\n"
      ]
    }
  ],
  "metadata": {
    "colab": {
      "collapsed_sections": [],
      "name": "A_Bhuiyan_Quiz4.ipynb",
      "provenance": []
    },
    "kernelspec": {
      "display_name": "Python 3.10.3 64-bit",
      "language": "python",
      "name": "python3"
    },
    "language_info": {
      "codemirror_mode": {
        "name": "ipython",
        "version": 3
      },
      "file_extension": ".py",
      "mimetype": "text/x-python",
      "name": "python",
      "nbconvert_exporter": "python",
      "pygments_lexer": "ipython3",
      "version": "3.10.3"
    },
    "vscode": {
      "interpreter": {
        "hash": "aee8b7b246df8f9039afb4144a1f6fd8d2ca17a180786b69acc140d282b71a49"
      }
    }
  },
  "nbformat": 4,
  "nbformat_minor": 0
}
