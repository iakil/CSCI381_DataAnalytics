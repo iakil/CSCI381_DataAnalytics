{
  "cells": [
    {
      "cell_type": "markdown",
      "metadata": {
        "id": "view-in-github"
      },
      "source": [
        "Akil Bhuiyan <br>\n",
        "Professor Matthew Fried <br>\n",
        "CSCI 381 (Data Analytics) <br>\n",
        "Project 2\n",
        "\n",
        "[Project2.ppt](https://drive.google.com/open?id=1TAU_uYYpABEWK_8TMbaP9SlfPECMgOh2)"
      ]
    },
    {
      "cell_type": "markdown",
      "metadata": {
        "id": "Xs82IReU8Mj0"
      },
      "source": [
        "# Overview\n",
        "Data description “e-shop clothing 2008”:\n",
        "\n",
        "Why we pick this dataset?\n",
        "\n",
        "Our hypothesis: We predict that if the demand for the product is high , the product price will be higher than the average price. If the price is higher, one will be put down and if the price is lower than the average, and then we will indicate it. \n",
        "\n",
        "\n",
        "\n",
        "\n",
        "\n",
        "Variables:\n",
        "\n",
        "1. YEAR (2008)\n",
        "\n",
        "\n",
        "2. MONTH -> from April (4) to August (8)\n",
        "\n",
        "\n",
        "3. DAY -> day number of the month\n",
        "\n",
        "\n",
        "4. ORDER -> sequence of clicks during one session\n",
        "\n",
        "\n",
        "5. COUNTRY -> variable indicating the country of origin of the IP address with the following categories:\n",
        "\n",
        "  Australia, Austria, Belgium, British Virgin Islands, Cayman Islands, Christmas Island, Croatia, Cyprus, Czech Republic, Denmark, Estonia, unidentified, Faroe Islands, Finland, France, Germany, Greece, Hungary, Iceland, India, Ireland, Italy, Latvia, Lithuania, Luxembourg, Mexico, Netherlands, Norway, Poland, Portugal, Romania, Russia, San Marino, Slovakia, Slovenia, Spain, Sweden, Switzerland, Ukraine, United Arab Emirates, United Kingdom, and USA\n",
        "43-biz (*.biz)\n",
        "44-com (*.com)\n",
        "45-int (*.int)\n",
        "46-net (*.net)\n",
        "47-org (*.org)\n",
        "\n",
        "6. SESSION ID -> variable indicating session id (short record)\n",
        "\n",
        "  A session ID is a unique number that a Web site's server assigns a specific user for the duration of that user's visit (session). The session ID can be stored as a cookie, form field, or URL (Uniform Resource Locator). Some Web servers generate session IDs by simply incrementing static numbers.\n",
        "[link](https://www.techtarget.com/searchsoftwarequality/definition/session-ID#:~:text=A%20session%20ID%20is%20a,by%20simply%20incrementing%20static%20numbers)\n",
        "\n",
        "\n",
        "7. PAGE 1 (MAIN CATEGORY) -> concerns the main product category:\n",
        "  1. trousers\n",
        "  2. skirts\n",
        "  3. blouses\n",
        "  4. sale\n",
        "\n",
        "\n",
        "8. PAGE 2 (CLOTHING MODEL) -> contains information about the code for each product (217 products)\n",
        "\n",
        "\n",
        "9. COLOUR -> colour of product.\n",
        "\n",
        "  1. beige\n",
        "  2. black\n",
        "  3. blue\n",
        "  4. brown\n",
        "  5. burgundy\n",
        "  6. gray\n",
        "  7. green\n",
        "  8. navy blue\n",
        "  9. of many colors\n",
        "  10. olive\n",
        "  11. pink\n",
        "  12. red\n",
        "  13. violet\n",
        "  14. white\n",
        "\n",
        "\n",
        "10. LOCATION -> photo location on the page, the screen has been divided into six parts:\n",
        "\n",
        "  1. top left\n",
        "  2. top in the middle\n",
        "  3. top right\n",
        "  4. bottom left\n",
        "  5. bottom in the middle\n",
        "  6. bottom right\n",
        "\n",
        "\n",
        "11. MODEL PHOTOGRAPHY -> variable with two categories: \n",
        "\n",
        "  1. en face\n",
        "  2. profile\n",
        "\n",
        "\n",
        "12. PRICE -> price in US dollars\n",
        "\n",
        "\n",
        "13. PRICE 2 -> variable informing whether the price of a particular product is higher than \n",
        "the average price for the entire product category\n",
        "\n",
        "  1. yes\n",
        "  2. no\n",
        "\n",
        "14. PAGE -> page number within the e-store website (from 1 to 5)"
      ]
    },
    {
      "cell_type": "code",
      "execution_count": 8,
      "metadata": {
        "colab": {
          "base_uri": "https://localhost:8080/",
          "height": 424
        },
        "id": "87g1n4xH4JF6",
        "outputId": "9a7ec678-d4a4-482c-8bd5-30f47139af15"
      },
      "outputs": [
        {
          "data": {
            "text/html": [
              "<div>\n",
              "<style scoped>\n",
              "    .dataframe tbody tr th:only-of-type {\n",
              "        vertical-align: middle;\n",
              "    }\n",
              "\n",
              "    .dataframe tbody tr th {\n",
              "        vertical-align: top;\n",
              "    }\n",
              "\n",
              "    .dataframe thead th {\n",
              "        text-align: right;\n",
              "    }\n",
              "</style>\n",
              "<table border=\"1\" class=\"dataframe\">\n",
              "  <thead>\n",
              "    <tr style=\"text-align: right;\">\n",
              "      <th></th>\n",
              "      <th>year</th>\n",
              "      <th>month</th>\n",
              "      <th>day</th>\n",
              "      <th>order</th>\n",
              "      <th>country</th>\n",
              "      <th>session ID</th>\n",
              "      <th>ProductCategory</th>\n",
              "      <th>ClothingModel</th>\n",
              "      <th>Color</th>\n",
              "      <th>price</th>\n",
              "      <th>price 2</th>\n",
              "    </tr>\n",
              "  </thead>\n",
              "  <tbody>\n",
              "    <tr>\n",
              "      <th>0</th>\n",
              "      <td>2008</td>\n",
              "      <td>4</td>\n",
              "      <td>1</td>\n",
              "      <td>1</td>\n",
              "      <td>29</td>\n",
              "      <td>1</td>\n",
              "      <td>1</td>\n",
              "      <td>A13</td>\n",
              "      <td>1</td>\n",
              "      <td>28</td>\n",
              "      <td>2</td>\n",
              "    </tr>\n",
              "    <tr>\n",
              "      <th>1</th>\n",
              "      <td>2008</td>\n",
              "      <td>4</td>\n",
              "      <td>1</td>\n",
              "      <td>2</td>\n",
              "      <td>29</td>\n",
              "      <td>1</td>\n",
              "      <td>1</td>\n",
              "      <td>A16</td>\n",
              "      <td>1</td>\n",
              "      <td>33</td>\n",
              "      <td>2</td>\n",
              "    </tr>\n",
              "    <tr>\n",
              "      <th>2</th>\n",
              "      <td>2008</td>\n",
              "      <td>4</td>\n",
              "      <td>1</td>\n",
              "      <td>3</td>\n",
              "      <td>29</td>\n",
              "      <td>1</td>\n",
              "      <td>2</td>\n",
              "      <td>B4</td>\n",
              "      <td>10</td>\n",
              "      <td>52</td>\n",
              "      <td>1</td>\n",
              "    </tr>\n",
              "    <tr>\n",
              "      <th>3</th>\n",
              "      <td>2008</td>\n",
              "      <td>4</td>\n",
              "      <td>1</td>\n",
              "      <td>4</td>\n",
              "      <td>29</td>\n",
              "      <td>1</td>\n",
              "      <td>2</td>\n",
              "      <td>B17</td>\n",
              "      <td>6</td>\n",
              "      <td>38</td>\n",
              "      <td>2</td>\n",
              "    </tr>\n",
              "    <tr>\n",
              "      <th>4</th>\n",
              "      <td>2008</td>\n",
              "      <td>4</td>\n",
              "      <td>1</td>\n",
              "      <td>5</td>\n",
              "      <td>29</td>\n",
              "      <td>1</td>\n",
              "      <td>2</td>\n",
              "      <td>B8</td>\n",
              "      <td>4</td>\n",
              "      <td>52</td>\n",
              "      <td>1</td>\n",
              "    </tr>\n",
              "    <tr>\n",
              "      <th>...</th>\n",
              "      <td>...</td>\n",
              "      <td>...</td>\n",
              "      <td>...</td>\n",
              "      <td>...</td>\n",
              "      <td>...</td>\n",
              "      <td>...</td>\n",
              "      <td>...</td>\n",
              "      <td>...</td>\n",
              "      <td>...</td>\n",
              "      <td>...</td>\n",
              "      <td>...</td>\n",
              "    </tr>\n",
              "    <tr>\n",
              "      <th>165469</th>\n",
              "      <td>2008</td>\n",
              "      <td>8</td>\n",
              "      <td>13</td>\n",
              "      <td>1</td>\n",
              "      <td>29</td>\n",
              "      <td>24024</td>\n",
              "      <td>2</td>\n",
              "      <td>B10</td>\n",
              "      <td>2</td>\n",
              "      <td>67</td>\n",
              "      <td>1</td>\n",
              "    </tr>\n",
              "    <tr>\n",
              "      <th>165470</th>\n",
              "      <td>2008</td>\n",
              "      <td>8</td>\n",
              "      <td>13</td>\n",
              "      <td>1</td>\n",
              "      <td>9</td>\n",
              "      <td>24025</td>\n",
              "      <td>1</td>\n",
              "      <td>A11</td>\n",
              "      <td>3</td>\n",
              "      <td>62</td>\n",
              "      <td>1</td>\n",
              "    </tr>\n",
              "    <tr>\n",
              "      <th>165471</th>\n",
              "      <td>2008</td>\n",
              "      <td>8</td>\n",
              "      <td>13</td>\n",
              "      <td>1</td>\n",
              "      <td>34</td>\n",
              "      <td>24026</td>\n",
              "      <td>1</td>\n",
              "      <td>A2</td>\n",
              "      <td>3</td>\n",
              "      <td>43</td>\n",
              "      <td>2</td>\n",
              "    </tr>\n",
              "    <tr>\n",
              "      <th>165472</th>\n",
              "      <td>2008</td>\n",
              "      <td>8</td>\n",
              "      <td>13</td>\n",
              "      <td>2</td>\n",
              "      <td>34</td>\n",
              "      <td>24026</td>\n",
              "      <td>3</td>\n",
              "      <td>C2</td>\n",
              "      <td>12</td>\n",
              "      <td>43</td>\n",
              "      <td>1</td>\n",
              "    </tr>\n",
              "    <tr>\n",
              "      <th>165473</th>\n",
              "      <td>2008</td>\n",
              "      <td>8</td>\n",
              "      <td>13</td>\n",
              "      <td>3</td>\n",
              "      <td>34</td>\n",
              "      <td>24026</td>\n",
              "      <td>2</td>\n",
              "      <td>B2</td>\n",
              "      <td>3</td>\n",
              "      <td>57</td>\n",
              "      <td>1</td>\n",
              "    </tr>\n",
              "  </tbody>\n",
              "</table>\n",
              "<p>165474 rows × 11 columns</p>\n",
              "</div>"
            ],
            "text/plain": [
              "        year  month  day  order  country  session ID  ProductCategory  \\\n",
              "0       2008      4    1      1       29           1                1   \n",
              "1       2008      4    1      2       29           1                1   \n",
              "2       2008      4    1      3       29           1                2   \n",
              "3       2008      4    1      4       29           1                2   \n",
              "4       2008      4    1      5       29           1                2   \n",
              "...      ...    ...  ...    ...      ...         ...              ...   \n",
              "165469  2008      8   13      1       29       24024                2   \n",
              "165470  2008      8   13      1        9       24025                1   \n",
              "165471  2008      8   13      1       34       24026                1   \n",
              "165472  2008      8   13      2       34       24026                3   \n",
              "165473  2008      8   13      3       34       24026                2   \n",
              "\n",
              "       ClothingModel  Color  price  price 2  \n",
              "0                A13      1     28        2  \n",
              "1                A16      1     33        2  \n",
              "2                 B4     10     52        1  \n",
              "3                B17      6     38        2  \n",
              "4                 B8      4     52        1  \n",
              "...              ...    ...    ...      ...  \n",
              "165469           B10      2     67        1  \n",
              "165470           A11      3     62        1  \n",
              "165471            A2      3     43        2  \n",
              "165472            C2     12     43        1  \n",
              "165473            B2      3     57        1  \n",
              "\n",
              "[165474 rows x 11 columns]"
            ]
          },
          "execution_count": 8,
          "metadata": {},
          "output_type": "execute_result"
        }
      ],
      "source": [
        "import ssl\n",
        "ssl._create_default_https_context = ssl._create_unverified_context\n",
        "\n",
        "import pandas as pd\n",
        "import matplotlib.pyplot as plt\n",
        "import seaborn as sns\n",
        "import numpy as np\n",
        "\n",
        "# First, read the data into python using pandas, read csv file.\n",
        "dataframe=pd.read_csv(\"https://raw.githubusercontent.com/iakil/CSCI381_DataAnalytics/main/Data/e-shop_clothing_2008.csv\")\n",
        "\n",
        "# updating some of the attribute name to a better one \n",
        "dataframe.rename(columns={'page 1 (main category)': 'ProductCategory', 'page 2 (clothing model)': 'ClothingModel' , 'colour' : 'Color', 'model photography' : 'ModelPhoto' },inplace=True)     \n",
        "\n",
        "#drop some unnecessary datas\n",
        "dataframe=dataframe.drop([\"page\",\"location\",\"ModelPhoto\"],axis=1)\n",
        "dataframe"
      ]
    },
    {
      "cell_type": "markdown",
      "metadata": {
        "id": "3jLiZaxF7tai"
      },
      "source": [
        "delete unnecessary columns(datas) : page,location, and ModelPhoto. "
      ]
    },
    {
      "cell_type": "code",
      "execution_count": 9,
      "metadata": {
        "colab": {
          "base_uri": "https://localhost:8080/",
          "height": 363
        },
        "id": "v1FWFFrZhdiI",
        "outputId": "5972c616-8b61-439d-d3f1-91d74be1a152"
      },
      "outputs": [
        {
          "data": {
            "text/html": [
              "<div>\n",
              "<style scoped>\n",
              "    .dataframe tbody tr th:only-of-type {\n",
              "        vertical-align: middle;\n",
              "    }\n",
              "\n",
              "    .dataframe tbody tr th {\n",
              "        vertical-align: top;\n",
              "    }\n",
              "\n",
              "    .dataframe thead th {\n",
              "        text-align: right;\n",
              "    }\n",
              "</style>\n",
              "<table border=\"1\" class=\"dataframe\">\n",
              "  <thead>\n",
              "    <tr style=\"text-align: right;\">\n",
              "      <th></th>\n",
              "      <th>count</th>\n",
              "      <th>mean</th>\n",
              "      <th>std</th>\n",
              "      <th>min</th>\n",
              "      <th>25%</th>\n",
              "      <th>50%</th>\n",
              "      <th>75%</th>\n",
              "      <th>max</th>\n",
              "    </tr>\n",
              "  </thead>\n",
              "  <tbody>\n",
              "    <tr>\n",
              "      <th>year</th>\n",
              "      <td>165474.0</td>\n",
              "      <td>2008.000000</td>\n",
              "      <td>0.000000</td>\n",
              "      <td>2008.0</td>\n",
              "      <td>2008.0</td>\n",
              "      <td>2008.0</td>\n",
              "      <td>2008.0</td>\n",
              "      <td>2008.0</td>\n",
              "    </tr>\n",
              "    <tr>\n",
              "      <th>month</th>\n",
              "      <td>165474.0</td>\n",
              "      <td>5.585887</td>\n",
              "      <td>1.328160</td>\n",
              "      <td>4.0</td>\n",
              "      <td>4.0</td>\n",
              "      <td>5.0</td>\n",
              "      <td>7.0</td>\n",
              "      <td>8.0</td>\n",
              "    </tr>\n",
              "    <tr>\n",
              "      <th>day</th>\n",
              "      <td>165474.0</td>\n",
              "      <td>14.524554</td>\n",
              "      <td>8.830374</td>\n",
              "      <td>1.0</td>\n",
              "      <td>7.0</td>\n",
              "      <td>14.0</td>\n",
              "      <td>22.0</td>\n",
              "      <td>31.0</td>\n",
              "    </tr>\n",
              "    <tr>\n",
              "      <th>order</th>\n",
              "      <td>165474.0</td>\n",
              "      <td>9.817476</td>\n",
              "      <td>13.478411</td>\n",
              "      <td>1.0</td>\n",
              "      <td>2.0</td>\n",
              "      <td>6.0</td>\n",
              "      <td>12.0</td>\n",
              "      <td>195.0</td>\n",
              "    </tr>\n",
              "    <tr>\n",
              "      <th>country</th>\n",
              "      <td>165474.0</td>\n",
              "      <td>26.952621</td>\n",
              "      <td>7.150691</td>\n",
              "      <td>1.0</td>\n",
              "      <td>29.0</td>\n",
              "      <td>29.0</td>\n",
              "      <td>29.0</td>\n",
              "      <td>47.0</td>\n",
              "    </tr>\n",
              "    <tr>\n",
              "      <th>session ID</th>\n",
              "      <td>165474.0</td>\n",
              "      <td>12058.417056</td>\n",
              "      <td>7008.418903</td>\n",
              "      <td>1.0</td>\n",
              "      <td>5931.0</td>\n",
              "      <td>11967.5</td>\n",
              "      <td>18219.0</td>\n",
              "      <td>24026.0</td>\n",
              "    </tr>\n",
              "    <tr>\n",
              "      <th>ProductCategory</th>\n",
              "      <td>165474.0</td>\n",
              "      <td>2.400842</td>\n",
              "      <td>1.144420</td>\n",
              "      <td>1.0</td>\n",
              "      <td>1.0</td>\n",
              "      <td>2.0</td>\n",
              "      <td>3.0</td>\n",
              "      <td>4.0</td>\n",
              "    </tr>\n",
              "    <tr>\n",
              "      <th>Color</th>\n",
              "      <td>165474.0</td>\n",
              "      <td>6.227655</td>\n",
              "      <td>4.235606</td>\n",
              "      <td>1.0</td>\n",
              "      <td>3.0</td>\n",
              "      <td>4.0</td>\n",
              "      <td>9.0</td>\n",
              "      <td>14.0</td>\n",
              "    </tr>\n",
              "    <tr>\n",
              "      <th>price</th>\n",
              "      <td>165474.0</td>\n",
              "      <td>43.802507</td>\n",
              "      <td>12.548131</td>\n",
              "      <td>18.0</td>\n",
              "      <td>33.0</td>\n",
              "      <td>43.0</td>\n",
              "      <td>52.0</td>\n",
              "      <td>82.0</td>\n",
              "    </tr>\n",
              "    <tr>\n",
              "      <th>price 2</th>\n",
              "      <td>165474.0</td>\n",
              "      <td>1.488167</td>\n",
              "      <td>0.499861</td>\n",
              "      <td>1.0</td>\n",
              "      <td>1.0</td>\n",
              "      <td>1.0</td>\n",
              "      <td>2.0</td>\n",
              "      <td>2.0</td>\n",
              "    </tr>\n",
              "  </tbody>\n",
              "</table>\n",
              "</div>"
            ],
            "text/plain": [
              "                    count          mean          std     min     25%      50%  \\\n",
              "year             165474.0   2008.000000     0.000000  2008.0  2008.0   2008.0   \n",
              "month            165474.0      5.585887     1.328160     4.0     4.0      5.0   \n",
              "day              165474.0     14.524554     8.830374     1.0     7.0     14.0   \n",
              "order            165474.0      9.817476    13.478411     1.0     2.0      6.0   \n",
              "country          165474.0     26.952621     7.150691     1.0    29.0     29.0   \n",
              "session ID       165474.0  12058.417056  7008.418903     1.0  5931.0  11967.5   \n",
              "ProductCategory  165474.0      2.400842     1.144420     1.0     1.0      2.0   \n",
              "Color            165474.0      6.227655     4.235606     1.0     3.0      4.0   \n",
              "price            165474.0     43.802507    12.548131    18.0    33.0     43.0   \n",
              "price 2          165474.0      1.488167     0.499861     1.0     1.0      1.0   \n",
              "\n",
              "                     75%      max  \n",
              "year              2008.0   2008.0  \n",
              "month                7.0      8.0  \n",
              "day                 22.0     31.0  \n",
              "order               12.0    195.0  \n",
              "country             29.0     47.0  \n",
              "session ID       18219.0  24026.0  \n",
              "ProductCategory      3.0      4.0  \n",
              "Color                9.0     14.0  \n",
              "price               52.0     82.0  \n",
              "price 2              2.0      2.0  "
            ]
          },
          "execution_count": 9,
          "metadata": {},
          "output_type": "execute_result"
        }
      ],
      "source": [
        "dataframe.describe().T"
      ]
    },
    {
      "cell_type": "code",
      "execution_count": 10,
      "metadata": {
        "colab": {
          "base_uri": "https://localhost:8080/",
          "height": 394
        },
        "id": "X9C8EHmV-KYB",
        "outputId": "0efc5c3d-42a7-4ca9-ce2e-f133a2194ee7"
      },
      "outputs": [
        {
          "data": {
            "text/html": [
              "<div>\n",
              "<style scoped>\n",
              "    .dataframe tbody tr th:only-of-type {\n",
              "        vertical-align: middle;\n",
              "    }\n",
              "\n",
              "    .dataframe tbody tr th {\n",
              "        vertical-align: top;\n",
              "    }\n",
              "\n",
              "    .dataframe thead th {\n",
              "        text-align: right;\n",
              "    }\n",
              "</style>\n",
              "<table border=\"1\" class=\"dataframe\">\n",
              "  <thead>\n",
              "    <tr style=\"text-align: right;\">\n",
              "      <th></th>\n",
              "      <th>Dtype</th>\n",
              "      <th>Nunique</th>\n",
              "      <th>MissingValues</th>\n",
              "      <th>Count</th>\n",
              "      <th>ZeroValues</th>\n",
              "      <th>?</th>\n",
              "    </tr>\n",
              "  </thead>\n",
              "  <tbody>\n",
              "    <tr>\n",
              "      <th>year</th>\n",
              "      <td>int64</td>\n",
              "      <td>1</td>\n",
              "      <td>0</td>\n",
              "      <td>165474</td>\n",
              "      <td>0</td>\n",
              "      <td>0</td>\n",
              "    </tr>\n",
              "    <tr>\n",
              "      <th>month</th>\n",
              "      <td>int64</td>\n",
              "      <td>5</td>\n",
              "      <td>0</td>\n",
              "      <td>165474</td>\n",
              "      <td>0</td>\n",
              "      <td>0</td>\n",
              "    </tr>\n",
              "    <tr>\n",
              "      <th>day</th>\n",
              "      <td>int64</td>\n",
              "      <td>31</td>\n",
              "      <td>0</td>\n",
              "      <td>165474</td>\n",
              "      <td>0</td>\n",
              "      <td>0</td>\n",
              "    </tr>\n",
              "    <tr>\n",
              "      <th>order</th>\n",
              "      <td>int64</td>\n",
              "      <td>195</td>\n",
              "      <td>0</td>\n",
              "      <td>165474</td>\n",
              "      <td>0</td>\n",
              "      <td>0</td>\n",
              "    </tr>\n",
              "    <tr>\n",
              "      <th>country</th>\n",
              "      <td>int64</td>\n",
              "      <td>47</td>\n",
              "      <td>0</td>\n",
              "      <td>165474</td>\n",
              "      <td>0</td>\n",
              "      <td>0</td>\n",
              "    </tr>\n",
              "    <tr>\n",
              "      <th>session ID</th>\n",
              "      <td>int64</td>\n",
              "      <td>24026</td>\n",
              "      <td>0</td>\n",
              "      <td>165474</td>\n",
              "      <td>0</td>\n",
              "      <td>0</td>\n",
              "    </tr>\n",
              "    <tr>\n",
              "      <th>ProductCategory</th>\n",
              "      <td>int64</td>\n",
              "      <td>4</td>\n",
              "      <td>0</td>\n",
              "      <td>165474</td>\n",
              "      <td>0</td>\n",
              "      <td>0</td>\n",
              "    </tr>\n",
              "    <tr>\n",
              "      <th>ClothingModel</th>\n",
              "      <td>object</td>\n",
              "      <td>217</td>\n",
              "      <td>0</td>\n",
              "      <td>165474</td>\n",
              "      <td>0</td>\n",
              "      <td>0</td>\n",
              "    </tr>\n",
              "    <tr>\n",
              "      <th>Color</th>\n",
              "      <td>int64</td>\n",
              "      <td>14</td>\n",
              "      <td>0</td>\n",
              "      <td>165474</td>\n",
              "      <td>0</td>\n",
              "      <td>0</td>\n",
              "    </tr>\n",
              "    <tr>\n",
              "      <th>price</th>\n",
              "      <td>int64</td>\n",
              "      <td>20</td>\n",
              "      <td>0</td>\n",
              "      <td>165474</td>\n",
              "      <td>0</td>\n",
              "      <td>0</td>\n",
              "    </tr>\n",
              "    <tr>\n",
              "      <th>price 2</th>\n",
              "      <td>int64</td>\n",
              "      <td>2</td>\n",
              "      <td>0</td>\n",
              "      <td>165474</td>\n",
              "      <td>0</td>\n",
              "      <td>0</td>\n",
              "    </tr>\n",
              "  </tbody>\n",
              "</table>\n",
              "</div>"
            ],
            "text/plain": [
              "                  Dtype  Nunique  MissingValues   Count  ZeroValues  ?\n",
              "year              int64        1              0  165474           0  0\n",
              "month             int64        5              0  165474           0  0\n",
              "day               int64       31              0  165474           0  0\n",
              "order             int64      195              0  165474           0  0\n",
              "country           int64       47              0  165474           0  0\n",
              "session ID        int64    24026              0  165474           0  0\n",
              "ProductCategory   int64        4              0  165474           0  0\n",
              "ClothingModel    object      217              0  165474           0  0\n",
              "Color             int64       14              0  165474           0  0\n",
              "price             int64       20              0  165474           0  0\n",
              "price 2           int64        2              0  165474           0  0"
            ]
          },
          "execution_count": 10,
          "metadata": {},
          "output_type": "execute_result"
        }
      ],
      "source": [
        "#Identify the Data Types\n",
        "df_info = pd.DataFrame(dataframe.dtypes,columns=['Dtype'])\n",
        "\n",
        "#Identify the unique values\n",
        "df_info['Nunique'] = dataframe.nunique()\n",
        "\n",
        "#check missing values for each column\n",
        "df_info['MissingValues']=dataframe.isnull().sum()\n",
        "\n",
        "# Identify the count for each variable\n",
        "df_info['Count']=dataframe.count()\n",
        "\n",
        "# Identify the zero values for each variable\n",
        "df_info['ZeroValues']=(dataframe==0).sum()\n",
        "\n",
        "# how many '?' values\n",
        "df_info['?']=(dataframe=='?').sum()\n",
        "\n",
        "df_info"
      ]
    },
    {
      "cell_type": "markdown",
      "metadata": {
        "id": "ynmCKS8W69Vz"
      },
      "source": [
        "All the data seems to be from 2008 , so there is really no use of using year as it's not giving us any information. However, from the nunique output we could see that there are several distinct days and months which could give us an insight as we dig more down into data."
      ]
    },
    {
      "cell_type": "code",
      "execution_count": 11,
      "metadata": {
        "colab": {
          "base_uri": "https://localhost:8080/",
          "height": 206
        },
        "id": "LUEIU2si7G9b",
        "outputId": "3cc63816-559e-4f78-c93d-aae7c5672a67"
      },
      "outputs": [
        {
          "data": {
            "text/html": [
              "<div>\n",
              "<style scoped>\n",
              "    .dataframe tbody tr th:only-of-type {\n",
              "        vertical-align: middle;\n",
              "    }\n",
              "\n",
              "    .dataframe tbody tr th {\n",
              "        vertical-align: top;\n",
              "    }\n",
              "\n",
              "    .dataframe thead th {\n",
              "        text-align: right;\n",
              "    }\n",
              "</style>\n",
              "<table border=\"1\" class=\"dataframe\">\n",
              "  <thead>\n",
              "    <tr style=\"text-align: right;\">\n",
              "      <th></th>\n",
              "      <th>month</th>\n",
              "      <th>day</th>\n",
              "      <th>order</th>\n",
              "      <th>country</th>\n",
              "      <th>session ID</th>\n",
              "      <th>ProductCategory</th>\n",
              "      <th>ClothingModel</th>\n",
              "      <th>Color</th>\n",
              "      <th>price</th>\n",
              "      <th>price 2</th>\n",
              "    </tr>\n",
              "  </thead>\n",
              "  <tbody>\n",
              "    <tr>\n",
              "      <th>0</th>\n",
              "      <td>4</td>\n",
              "      <td>1</td>\n",
              "      <td>1</td>\n",
              "      <td>29</td>\n",
              "      <td>1</td>\n",
              "      <td>1</td>\n",
              "      <td>A13</td>\n",
              "      <td>1</td>\n",
              "      <td>28</td>\n",
              "      <td>2</td>\n",
              "    </tr>\n",
              "    <tr>\n",
              "      <th>1</th>\n",
              "      <td>4</td>\n",
              "      <td>1</td>\n",
              "      <td>2</td>\n",
              "      <td>29</td>\n",
              "      <td>1</td>\n",
              "      <td>1</td>\n",
              "      <td>A16</td>\n",
              "      <td>1</td>\n",
              "      <td>33</td>\n",
              "      <td>2</td>\n",
              "    </tr>\n",
              "    <tr>\n",
              "      <th>2</th>\n",
              "      <td>4</td>\n",
              "      <td>1</td>\n",
              "      <td>3</td>\n",
              "      <td>29</td>\n",
              "      <td>1</td>\n",
              "      <td>2</td>\n",
              "      <td>B4</td>\n",
              "      <td>10</td>\n",
              "      <td>52</td>\n",
              "      <td>1</td>\n",
              "    </tr>\n",
              "    <tr>\n",
              "      <th>3</th>\n",
              "      <td>4</td>\n",
              "      <td>1</td>\n",
              "      <td>4</td>\n",
              "      <td>29</td>\n",
              "      <td>1</td>\n",
              "      <td>2</td>\n",
              "      <td>B17</td>\n",
              "      <td>6</td>\n",
              "      <td>38</td>\n",
              "      <td>2</td>\n",
              "    </tr>\n",
              "    <tr>\n",
              "      <th>4</th>\n",
              "      <td>4</td>\n",
              "      <td>1</td>\n",
              "      <td>5</td>\n",
              "      <td>29</td>\n",
              "      <td>1</td>\n",
              "      <td>2</td>\n",
              "      <td>B8</td>\n",
              "      <td>4</td>\n",
              "      <td>52</td>\n",
              "      <td>1</td>\n",
              "    </tr>\n",
              "  </tbody>\n",
              "</table>\n",
              "</div>"
            ],
            "text/plain": [
              "   month  day  order  country  session ID  ProductCategory ClothingModel  \\\n",
              "0      4    1      1       29           1                1           A13   \n",
              "1      4    1      2       29           1                1           A16   \n",
              "2      4    1      3       29           1                2            B4   \n",
              "3      4    1      4       29           1                2           B17   \n",
              "4      4    1      5       29           1                2            B8   \n",
              "\n",
              "   Color  price  price 2  \n",
              "0      1     28        2  \n",
              "1      1     33        2  \n",
              "2     10     52        1  \n",
              "3      6     38        2  \n",
              "4      4     52        1  "
            ]
          },
          "execution_count": 11,
          "metadata": {},
          "output_type": "execute_result"
        }
      ],
      "source": [
        "dataframe=dataframe.drop('year',axis=1)\n",
        "dataframe.head()"
      ]
    },
    {
      "cell_type": "markdown",
      "metadata": {
        "id": "_JWqCq5B6nOr"
      },
      "source": [
        "# Corrlation of attributes"
      ]
    },
    {
      "cell_type": "code",
      "execution_count": 12,
      "metadata": {
        "colab": {
          "base_uri": "https://localhost:8080/",
          "height": 332
        },
        "id": "TAqYbI605mA_",
        "outputId": "76920261-fb50-4b47-96a7-9b2341eef642"
      },
      "outputs": [
        {
          "data": {
            "text/html": [
              "<div>\n",
              "<style scoped>\n",
              "    .dataframe tbody tr th:only-of-type {\n",
              "        vertical-align: middle;\n",
              "    }\n",
              "\n",
              "    .dataframe tbody tr th {\n",
              "        vertical-align: top;\n",
              "    }\n",
              "\n",
              "    .dataframe thead th {\n",
              "        text-align: right;\n",
              "    }\n",
              "</style>\n",
              "<table border=\"1\" class=\"dataframe\">\n",
              "  <thead>\n",
              "    <tr style=\"text-align: right;\">\n",
              "      <th></th>\n",
              "      <th>month</th>\n",
              "      <th>day</th>\n",
              "      <th>order</th>\n",
              "      <th>country</th>\n",
              "      <th>session ID</th>\n",
              "      <th>ProductCategory</th>\n",
              "      <th>Color</th>\n",
              "      <th>price</th>\n",
              "      <th>price 2</th>\n",
              "    </tr>\n",
              "  </thead>\n",
              "  <tbody>\n",
              "    <tr>\n",
              "      <th>month</th>\n",
              "      <td>1.000000</td>\n",
              "      <td>-0.075098</td>\n",
              "      <td>0.026093</td>\n",
              "      <td>0.065502</td>\n",
              "      <td>0.970961</td>\n",
              "      <td>0.017557</td>\n",
              "      <td>-0.035279</td>\n",
              "      <td>0.012700</td>\n",
              "      <td>-0.014658</td>\n",
              "    </tr>\n",
              "    <tr>\n",
              "      <th>day</th>\n",
              "      <td>-0.075098</td>\n",
              "      <td>1.000000</td>\n",
              "      <td>-0.021744</td>\n",
              "      <td>0.011551</td>\n",
              "      <td>0.161369</td>\n",
              "      <td>-0.001251</td>\n",
              "      <td>0.005313</td>\n",
              "      <td>-0.002818</td>\n",
              "      <td>0.004254</td>\n",
              "    </tr>\n",
              "    <tr>\n",
              "      <th>order</th>\n",
              "      <td>0.026093</td>\n",
              "      <td>-0.021744</td>\n",
              "      <td>1.000000</td>\n",
              "      <td>-0.064709</td>\n",
              "      <td>0.021829</td>\n",
              "      <td>0.151693</td>\n",
              "      <td>0.046427</td>\n",
              "      <td>-0.064779</td>\n",
              "      <td>0.000772</td>\n",
              "    </tr>\n",
              "    <tr>\n",
              "      <th>country</th>\n",
              "      <td>0.065502</td>\n",
              "      <td>0.011551</td>\n",
              "      <td>-0.064709</td>\n",
              "      <td>1.000000</td>\n",
              "      <td>0.065869</td>\n",
              "      <td>0.132817</td>\n",
              "      <td>0.009789</td>\n",
              "      <td>-0.045345</td>\n",
              "      <td>-0.017536</td>\n",
              "    </tr>\n",
              "    <tr>\n",
              "      <th>session ID</th>\n",
              "      <td>0.970961</td>\n",
              "      <td>0.161369</td>\n",
              "      <td>0.021829</td>\n",
              "      <td>0.065869</td>\n",
              "      <td>1.000000</td>\n",
              "      <td>0.016123</td>\n",
              "      <td>-0.032034</td>\n",
              "      <td>0.011669</td>\n",
              "      <td>-0.012742</td>\n",
              "    </tr>\n",
              "    <tr>\n",
              "      <th>ProductCategory</th>\n",
              "      <td>0.017557</td>\n",
              "      <td>-0.001251</td>\n",
              "      <td>0.151693</td>\n",
              "      <td>0.132817</td>\n",
              "      <td>0.016123</td>\n",
              "      <td>1.000000</td>\n",
              "      <td>0.230577</td>\n",
              "      <td>-0.364791</td>\n",
              "      <td>-0.137944</td>\n",
              "    </tr>\n",
              "    <tr>\n",
              "      <th>Color</th>\n",
              "      <td>-0.035279</td>\n",
              "      <td>0.005313</td>\n",
              "      <td>0.046427</td>\n",
              "      <td>0.009789</td>\n",
              "      <td>-0.032034</td>\n",
              "      <td>0.230577</td>\n",
              "      <td>1.000000</td>\n",
              "      <td>-0.091159</td>\n",
              "      <td>-0.080147</td>\n",
              "    </tr>\n",
              "    <tr>\n",
              "      <th>price</th>\n",
              "      <td>0.012700</td>\n",
              "      <td>-0.002818</td>\n",
              "      <td>-0.064779</td>\n",
              "      <td>-0.045345</td>\n",
              "      <td>0.011669</td>\n",
              "      <td>-0.364791</td>\n",
              "      <td>-0.091159</td>\n",
              "      <td>1.000000</td>\n",
              "      <td>-0.743633</td>\n",
              "    </tr>\n",
              "    <tr>\n",
              "      <th>price 2</th>\n",
              "      <td>-0.014658</td>\n",
              "      <td>0.004254</td>\n",
              "      <td>0.000772</td>\n",
              "      <td>-0.017536</td>\n",
              "      <td>-0.012742</td>\n",
              "      <td>-0.137944</td>\n",
              "      <td>-0.080147</td>\n",
              "      <td>-0.743633</td>\n",
              "      <td>1.000000</td>\n",
              "    </tr>\n",
              "  </tbody>\n",
              "</table>\n",
              "</div>"
            ],
            "text/plain": [
              "                    month       day     order   country  session ID  \\\n",
              "month            1.000000 -0.075098  0.026093  0.065502    0.970961   \n",
              "day             -0.075098  1.000000 -0.021744  0.011551    0.161369   \n",
              "order            0.026093 -0.021744  1.000000 -0.064709    0.021829   \n",
              "country          0.065502  0.011551 -0.064709  1.000000    0.065869   \n",
              "session ID       0.970961  0.161369  0.021829  0.065869    1.000000   \n",
              "ProductCategory  0.017557 -0.001251  0.151693  0.132817    0.016123   \n",
              "Color           -0.035279  0.005313  0.046427  0.009789   -0.032034   \n",
              "price            0.012700 -0.002818 -0.064779 -0.045345    0.011669   \n",
              "price 2         -0.014658  0.004254  0.000772 -0.017536   -0.012742   \n",
              "\n",
              "                 ProductCategory     Color     price   price 2  \n",
              "month                   0.017557 -0.035279  0.012700 -0.014658  \n",
              "day                    -0.001251  0.005313 -0.002818  0.004254  \n",
              "order                   0.151693  0.046427 -0.064779  0.000772  \n",
              "country                 0.132817  0.009789 -0.045345 -0.017536  \n",
              "session ID              0.016123 -0.032034  0.011669 -0.012742  \n",
              "ProductCategory         1.000000  0.230577 -0.364791 -0.137944  \n",
              "Color                   0.230577  1.000000 -0.091159 -0.080147  \n",
              "price                  -0.364791 -0.091159  1.000000 -0.743633  \n",
              "price 2                -0.137944 -0.080147 -0.743633  1.000000  "
            ]
          },
          "execution_count": 12,
          "metadata": {},
          "output_type": "execute_result"
        }
      ],
      "source": [
        "corr  = dataframe.corr()\n",
        "corr"
      ]
    },
    {
      "cell_type": "markdown",
      "metadata": {
        "id": "mlAqLg6o9DqF"
      },
      "source": [
        "\n",
        "\n",
        "Strongest correlation we see are the following:\n",
        "\n",
        "session_ID and Month : 0.970961\n",
        "\n",
        "Color and ProductCategory : 0.230577 \n",
        "\n",
        "session_ID and day : 0.161369\n",
        " \n",
        "\n"
      ]
    },
    {
      "cell_type": "code",
      "execution_count": 13,
      "metadata": {
        "colab": {
          "base_uri": "https://localhost:8080/",
          "height": 853
        },
        "id": "WG_Tqnm3hzoD",
        "outputId": "bccb8156-3f1e-4ae4-c022-e88e6d5ebc97"
      },
      "outputs": [
        {
          "data": {
            "image/png": "[encoded data removed]",
            "text/plain": [
              "<Figure size 2160x1296 with 9 Axes>"
            ]
          },
          "metadata": {
            "needs_background": "light"
          },
          "output_type": "display_data"
        }
      ],
      "source": [
        "dataframe.hist(bins=50,figsize=(30,18))\n",
        "plt.show()"
      ]
    },
    {
      "cell_type": "code",
      "execution_count": 14,
      "metadata": {
        "colab": {
          "base_uri": "https://localhost:8080/",
          "height": 613
        },
        "id": "WkQKj4bRhJW1",
        "outputId": "18f1d66a-8c71-4563-fab4-b92a36a31147"
      },
      "outputs": [
        {
          "data": {
            "text/plain": [
              "<AxesSubplot:>"
            ]
          },
          "execution_count": 14,
          "metadata": {},
          "output_type": "execute_result"
        },
        {
          "data": {
            "image/png": "[encoded data removed]",
            "text/plain": [
              "<Figure size 1440x720 with 2 Axes>"
            ]
          },
          "metadata": {
            "needs_background": "light"
          },
          "output_type": "display_data"
        }
      ],
      "source": [
        "plt.figure(figsize=(20,10))\n",
        "sns.heatmap(data = corr)"
      ]
    },
    {
      "cell_type": "code",
      "execution_count": 15,
      "metadata": {
        "colab": {
          "base_uri": "https://localhost:8080/",
          "height": 391
        },
        "id": "fNaZ4yNcramd",
        "outputId": "be8d6582-6395-45bf-e0fe-b730073dd7c8"
      },
      "outputs": [
        {
          "name": "stderr",
          "output_type": "stream",
          "text": [
            "/var/folders/l4/3jrpbdxs1d3d0d9grx88k7s00000gn/T/ipykernel_38871/464510420.py:56: SettingWithCopyWarning: \n",
            "A value is trying to be set on a copy of a slice from a DataFrame\n",
            "\n",
            "See the caveats in the documentation: https://pandas.pydata.org/pandas-docs/stable/user_guide/indexing.html#returning-a-view-versus-a-copy\n",
            "  x.replace(i+1,country_name_list[i],inplace=True)\n"
          ]
        },
        {
          "data": {
            "text/html": [
              "<div>\n",
              "<style scoped>\n",
              "    .dataframe tbody tr th:only-of-type {\n",
              "        vertical-align: middle;\n",
              "    }\n",
              "\n",
              "    .dataframe tbody tr th {\n",
              "        vertical-align: top;\n",
              "    }\n",
              "\n",
              "    .dataframe thead th {\n",
              "        text-align: right;\n",
              "    }\n",
              "</style>\n",
              "<table border=\"1\" class=\"dataframe\">\n",
              "  <thead>\n",
              "    <tr style=\"text-align: right;\">\n",
              "      <th></th>\n",
              "      <th>country</th>\n",
              "    </tr>\n",
              "  </thead>\n",
              "  <tbody>\n",
              "    <tr>\n",
              "      <th>count</th>\n",
              "      <td>41.000000</td>\n",
              "    </tr>\n",
              "    <tr>\n",
              "      <th>mean</th>\n",
              "      <td>3935.439024</td>\n",
              "    </tr>\n",
              "    <tr>\n",
              "      <th>std</th>\n",
              "      <td>21008.692292</td>\n",
              "    </tr>\n",
              "    <tr>\n",
              "      <th>min</th>\n",
              "      <td>1.000000</td>\n",
              "    </tr>\n",
              "    <tr>\n",
              "      <th>25%</th>\n",
              "      <td>5.000000</td>\n",
              "    </tr>\n",
              "    <tr>\n",
              "      <th>50%</th>\n",
              "      <td>49.000000</td>\n",
              "    </tr>\n",
              "    <tr>\n",
              "      <th>75%</th>\n",
              "      <td>163.000000</td>\n",
              "    </tr>\n",
              "    <tr>\n",
              "      <th>max</th>\n",
              "      <td>133963.000000</td>\n",
              "    </tr>\n",
              "  </tbody>\n",
              "</table>\n",
              "</div>"
            ],
            "text/plain": [
              "             country\n",
              "count      41.000000\n",
              "mean     3935.439024\n",
              "std     21008.692292\n",
              "min         1.000000\n",
              "25%         5.000000\n",
              "50%        49.000000\n",
              "75%       163.000000\n",
              "max    133963.000000"
            ]
          },
          "execution_count": 15,
          "metadata": {},
          "output_type": "execute_result"
        }
      ],
      "source": [
        "countries=dataframe['country']\n",
        "array=[]\n",
        "for i in countries:\n",
        "  array.append(i)\n",
        "countries=pd.DataFrame(array).value_counts()\n",
        "df=dataframe\n",
        "df=df[df['country']<42]\n",
        "x=df['country']\n",
        "country_name_list=[\n",
        "'Australia',\n",
        "'Austria',\n",
        "'Belgium',\n",
        "'British Virgin Islands',\n",
        "'Cayman Islands',\n",
        "'Christmas Island',\n",
        "'Croatia',\n",
        "'Cyprus',\n",
        "'Czech Republic',\n",
        "'Denmark',\n",
        "'Estonia',\n",
        "'unidentified',\n",
        "'Faroe Islands',\n",
        "'Finland',\n",
        "'France',\n",
        "'Germany',\n",
        "'Greece',\n",
        "'Hungary',\n",
        "'Iceland',\n",
        "'India',\n",
        "'Ireland',\n",
        "'Italy',\n",
        "'Latvia',\n",
        "'Lithuania',\n",
        "'Luxembourg',\n",
        "'Mexico',\n",
        "'Netherlands',\n",
        "'Norway',\n",
        "'Poland',\n",
        "'Portugal',\n",
        "'Romania',\n",
        "'Russia',\n",
        "'San Marino',\n",
        "'Slovakia',\n",
        "'Slovenia',\n",
        "'Spain',\n",
        "'Sweden',\n",
        "\"Switzerland\",\n",
        "\"Ukraine\",\n",
        "\"United Arab Emirates\",\n",
        "\"United Kingdom\",\n",
        "'USA']\n",
        "\n",
        "\n",
        "country_numbers=np.array(range(1,43))\n",
        "for i in range(len(country_name_list)):\n",
        "  x.replace(i+1,country_name_list[i],inplace=True)\n",
        "type(x)\n",
        "countries_order=pd.DataFrame(x)\n",
        "target=pd.DataFrame(countries_order['country'].value_counts())\n",
        "target.describe()\n",
        "\n",
        "\n",
        "\n",
        "\n",
        "\n",
        "\n"
      ]
    },
    {
      "cell_type": "markdown",
      "metadata": {
        "id": "qkU60HH7azAi"
      },
      "source": [
        "Looking at the statistic , it is worth to mention few facts which make some new insight about the data. \n",
        "The minimum number of clicks for a country is 1 and maximum number of clicks is 133963. \n",
        "\n",
        "Furthermore by considerring minimum and maximum clicks from the the above frame , we see a big standard deviation which shows the big gap among different countries. "
      ]
    },
    {
      "cell_type": "markdown",
      "metadata": {
        "id": "0pRSLNwOUC56"
      },
      "source": [
        "# Top 3 Countries Order\n"
      ]
    },
    {
      "cell_type": "code",
      "execution_count": 16,
      "metadata": {
        "colab": {
          "base_uri": "https://localhost:8080/",
          "height": 1000
        },
        "id": "rDOz4Yt-X8KA",
        "outputId": "1f314f1f-9b7b-4448-ee3a-11c7c091a05e"
      },
      "outputs": [
        {
          "data": {
            "text/html": [
              "<div>\n",
              "<style scoped>\n",
              "    .dataframe tbody tr th:only-of-type {\n",
              "        vertical-align: middle;\n",
              "    }\n",
              "\n",
              "    .dataframe tbody tr th {\n",
              "        vertical-align: top;\n",
              "    }\n",
              "\n",
              "    .dataframe thead th {\n",
              "        text-align: right;\n",
              "    }\n",
              "</style>\n",
              "<table border=\"1\" class=\"dataframe\">\n",
              "  <thead>\n",
              "    <tr style=\"text-align: right;\">\n",
              "      <th></th>\n",
              "      <th>0</th>\n",
              "    </tr>\n",
              "    <tr>\n",
              "      <th>country</th>\n",
              "      <th></th>\n",
              "    </tr>\n",
              "  </thead>\n",
              "  <tbody>\n",
              "    <tr>\n",
              "      <th>Poland</th>\n",
              "      <td>133963</td>\n",
              "    </tr>\n",
              "    <tr>\n",
              "      <th>Czech Republic</th>\n",
              "      <td>18003</td>\n",
              "    </tr>\n",
              "    <tr>\n",
              "      <th>Lithuania</th>\n",
              "      <td>4091</td>\n",
              "    </tr>\n",
              "    <tr>\n",
              "      <th>Germany</th>\n",
              "      <td>834</td>\n",
              "    </tr>\n",
              "    <tr>\n",
              "      <th>Ireland</th>\n",
              "      <td>811</td>\n",
              "    </tr>\n",
              "    <tr>\n",
              "      <th>Slovakia</th>\n",
              "      <td>716</td>\n",
              "    </tr>\n",
              "    <tr>\n",
              "      <th>United Kingdom</th>\n",
              "      <td>684</td>\n",
              "    </tr>\n",
              "    <tr>\n",
              "      <th>Belgium</th>\n",
              "      <td>256</td>\n",
              "    </tr>\n",
              "    <tr>\n",
              "      <th>Netherlands</th>\n",
              "      <td>227</td>\n",
              "    </tr>\n",
              "    <tr>\n",
              "      <th>unidentified</th>\n",
              "      <td>210</td>\n",
              "    </tr>\n",
              "    <tr>\n",
              "      <th>Sweden</th>\n",
              "      <td>163</td>\n",
              "    </tr>\n",
              "    <tr>\n",
              "      <th>Denmark</th>\n",
              "      <td>152</td>\n",
              "    </tr>\n",
              "    <tr>\n",
              "      <th>Romania</th>\n",
              "      <td>144</td>\n",
              "    </tr>\n",
              "    <tr>\n",
              "      <th>Italy</th>\n",
              "      <td>144</td>\n",
              "    </tr>\n",
              "    <tr>\n",
              "      <th>Norway</th>\n",
              "      <td>139</td>\n",
              "    </tr>\n",
              "    <tr>\n",
              "      <th>Switzerland</th>\n",
              "      <td>137</td>\n",
              "    </tr>\n",
              "    <tr>\n",
              "      <th>France</th>\n",
              "      <td>125</td>\n",
              "    </tr>\n",
              "    <tr>\n",
              "      <th>Estonia</th>\n",
              "      <td>115</td>\n",
              "    </tr>\n",
              "    <tr>\n",
              "      <th>Luxembourg</th>\n",
              "      <td>71</td>\n",
              "    </tr>\n",
              "    <tr>\n",
              "      <th>Austria</th>\n",
              "      <td>58</td>\n",
              "    </tr>\n",
              "    <tr>\n",
              "      <th>Russia</th>\n",
              "      <td>49</td>\n",
              "    </tr>\n",
              "    <tr>\n",
              "      <th>Latvia</th>\n",
              "      <td>46</td>\n",
              "    </tr>\n",
              "    <tr>\n",
              "      <th>Finland</th>\n",
              "      <td>43</td>\n",
              "    </tr>\n",
              "    <tr>\n",
              "      <th>Ukraine</th>\n",
              "      <td>34</td>\n",
              "    </tr>\n",
              "    <tr>\n",
              "      <th>Iceland</th>\n",
              "      <td>29</td>\n",
              "    </tr>\n",
              "    <tr>\n",
              "      <th>Greece</th>\n",
              "      <td>23</td>\n",
              "    </tr>\n",
              "    <tr>\n",
              "      <th>Spain</th>\n",
              "      <td>19</td>\n",
              "    </tr>\n",
              "    <tr>\n",
              "      <th>Hungary</th>\n",
              "      <td>18</td>\n",
              "    </tr>\n",
              "    <tr>\n",
              "      <th>India</th>\n",
              "      <td>10</td>\n",
              "    </tr>\n",
              "    <tr>\n",
              "      <th>Croatia</th>\n",
              "      <td>9</td>\n",
              "    </tr>\n",
              "    <tr>\n",
              "      <th>Portugal</th>\n",
              "      <td>5</td>\n",
              "    </tr>\n",
              "    <tr>\n",
              "      <th>Christmas Island</th>\n",
              "      <td>5</td>\n",
              "    </tr>\n",
              "    <tr>\n",
              "      <th>Cayman Islands</th>\n",
              "      <td>4</td>\n",
              "    </tr>\n",
              "    <tr>\n",
              "      <th>Australia</th>\n",
              "      <td>3</td>\n",
              "    </tr>\n",
              "    <tr>\n",
              "      <th>Slovenia</th>\n",
              "      <td>3</td>\n",
              "    </tr>\n",
              "    <tr>\n",
              "      <th>San Marino</th>\n",
              "      <td>3</td>\n",
              "    </tr>\n",
              "    <tr>\n",
              "      <th>Mexico</th>\n",
              "      <td>2</td>\n",
              "    </tr>\n",
              "    <tr>\n",
              "      <th>Faroe Islands</th>\n",
              "      <td>2</td>\n",
              "    </tr>\n",
              "    <tr>\n",
              "      <th>United Arab Emirates</th>\n",
              "      <td>1</td>\n",
              "    </tr>\n",
              "    <tr>\n",
              "      <th>British Virgin Islands</th>\n",
              "      <td>1</td>\n",
              "    </tr>\n",
              "    <tr>\n",
              "      <th>Cyprus</th>\n",
              "      <td>1</td>\n",
              "    </tr>\n",
              "  </tbody>\n",
              "</table>\n",
              "</div>"
            ],
            "text/plain": [
              "                             0\n",
              "country                       \n",
              "Poland                  133963\n",
              "Czech Republic           18003\n",
              "Lithuania                 4091\n",
              "Germany                    834\n",
              "Ireland                    811\n",
              "Slovakia                   716\n",
              "United Kingdom             684\n",
              "Belgium                    256\n",
              "Netherlands                227\n",
              "unidentified               210\n",
              "Sweden                     163\n",
              "Denmark                    152\n",
              "Romania                    144\n",
              "Italy                      144\n",
              "Norway                     139\n",
              "Switzerland                137\n",
              "France                     125\n",
              "Estonia                    115\n",
              "Luxembourg                  71\n",
              "Austria                     58\n",
              "Russia                      49\n",
              "Latvia                      46\n",
              "Finland                     43\n",
              "Ukraine                     34\n",
              "Iceland                     29\n",
              "Greece                      23\n",
              "Spain                       19\n",
              "Hungary                     18\n",
              "India                       10\n",
              "Croatia                      9\n",
              "Portugal                     5\n",
              "Christmas Island             5\n",
              "Cayman Islands               4\n",
              "Australia                    3\n",
              "Slovenia                     3\n",
              "San Marino                   3\n",
              "Mexico                       2\n",
              "Faroe Islands                2\n",
              "United Arab Emirates         1\n",
              "British Virgin Islands       1\n",
              "Cyprus                       1"
            ]
          },
          "execution_count": 16,
          "metadata": {},
          "output_type": "execute_result"
        }
      ],
      "source": [
        "#find out how many clicks per country.\n",
        "Click_per_country=pd.DataFrame(countries_order.value_counts())\n",
        "Click_per_country"
      ]
    },
    {
      "cell_type": "markdown",
      "metadata": {
        "id": "52A31SZXYAuE"
      },
      "source": [
        "Poland : 133963 clicks\n",
        "\n",
        "Czech Republic : 18003 clikcs\n",
        "\n",
        "Lithuania : 4091 clicks"
      ]
    },
    {
      "cell_type": "code",
      "execution_count": 17,
      "metadata": {
        "colab": {
          "base_uri": "https://localhost:8080/",
          "height": 640
        },
        "id": "glpk7ojGUHVJ",
        "outputId": "27d4ec58-6276-40af-977b-2c8ff9f780c5"
      },
      "outputs": [
        {
          "name": "stdout",
          "output_type": "stream",
          "text": [
            "100194\n",
            "65280\n"
          ]
        },
        {
          "data": {
            "image/png": "[encoded data removed]",
            "text/plain": [
              "<Figure size 720x720 with 2 Axes>"
            ]
          },
          "metadata": {
            "needs_background": "light"
          },
          "output_type": "display_data"
        }
      ],
      "source": [
        "Top3Country=pd.DataFrame(countries_order.value_counts())\n",
        "Top3Country.rename(columns={0:\"TotalClicks\"},inplace=True)\n",
        "Top3Country=Top3Country.TotalClicks[Top3Country['TotalClicks']>834]\n",
        "TotalClickList=Top3Country.to_numpy()\n",
        "Top3_Names=[\"Poland\",\"Czech Republic\",\"Lithuania\"]\n",
        "country_click_dictionary1={}\n",
        "for i in range(len(Top3_Names)):\n",
        "    country_click_dictionary1[Top3_Names[i]]=TotalClickList[i]\n",
        "topCountryFrame=pd.DataFrame(pd.DataFrame(country_click_dictionary1.items(), columns=['Country', 'TotalClicks']))\n",
        "\n",
        "\n",
        "mean_value=dataframe['price'].mean()\n",
        "l1=dataframe['price'].where(dataframe['price']<mean_value)\n",
        "l2=dataframe['price'].where(dataframe['price']>mean_value)\n",
        "\n",
        "\n",
        "l1=l1.dropna()\n",
        "l2=l2.dropna()\n",
        "\n",
        "l1=np.array(l1)\n",
        "l2=np.array(l2)\n",
        "\n",
        "l1=len(l1)\n",
        "l2=len(l2)\n",
        "\n",
        "print(l1)\n",
        "print(l2)\n",
        "\n",
        "dictionaryPrice={\"Over Average\":l2,\"Below Average\":l1}\n",
        "priceFrame=pd.DataFrame(pd.DataFrame(dictionaryPrice.items(), columns=['Below/Above Ave.', 'Value']))\n",
        "\n",
        "\n",
        "\n",
        "\n",
        "\n",
        "\n",
        "\n",
        "\n",
        "\n",
        "plt.subplot(1,2,1)\n",
        "sns.barplot(x=topCountryFrame['Country'],y=topCountryFrame['TotalClicks'],data=topCountryFrame)\n",
        "\n",
        "\n",
        "plt.subplot(1,2,2)\n",
        "sns.barplot(x=priceFrame['Below/Above Ave.'],y=priceFrame['Value'],data=priceFrame)\n",
        "\n",
        "\n",
        "\n",
        "plt.gcf().set_size_inches(10, 10)\n",
        "plt.subplots_adjust(right=2)\n",
        "plt.show()\n",
        "\n"
      ]
    },
    {
      "cell_type": "code",
      "execution_count": 18,
      "metadata": {
        "colab": {
          "base_uri": "https://localhost:8080/"
        },
        "id": "IITG1ueVgU7m",
        "outputId": "de1ee2a5-2d36-48a9-c704-4a4025e92e2c"
      },
      "outputs": [
        {
          "data": {
            "text/plain": [
              "array([    1,     2,     3, ..., 24024, 24025, 24026])"
            ]
          },
          "execution_count": 18,
          "metadata": {},
          "output_type": "execute_result"
        }
      ],
      "source": [
        "from numpy.core.arrayprint import array2string\n",
        "# Group by session ID get the order(number of clicks)\n",
        "a=dataframe.groupby('session ID')['order'].apply(list).values\n",
        "frameSessions=pd.DataFrame(a)\n",
        "frameSessions.rename(columns={0:'Number of click per session'},inplace=True)\n",
        "\n",
        "df_copy=dataframe\n",
        "expectedColumn=df_copy['session ID']\n",
        "sID=pd.DataFrame(expectedColumn)['session ID']\n",
        "sID=sID.to_numpy()\n",
        "sID=np.unique(sID)\n",
        "sID\n",
        "# expected_column=pd.DataFrame(sID)[0]\n",
        "# df_copy.rename(columns={0:'Unique_Session'},inplace=True)"
      ]
    },
    {
      "cell_type": "markdown",
      "metadata": {
        "id": "jv6wTzRUtN5C"
      },
      "source": [
        "This tables shows the interact/number of clicks a user does per session , he has came on to the e-shop to check out different output "
      ]
    },
    {
      "cell_type": "markdown",
      "metadata": {
        "id": "WZCx74CDhKWT"
      },
      "source": [
        "# 3 Click Interest Rule\n",
        "We are assuming that if the user has click at least 3 times, she has some interest about some item. So , we try to look make a new category to see how many users are interested in the e-shop ."
      ]
    },
    {
      "cell_type": "code",
      "execution_count": 19,
      "metadata": {
        "colab": {
          "base_uri": "https://localhost:8080/",
          "height": 262
        },
        "id": "NrLNW_jSZS2Y",
        "outputId": "daa9bb52-9e7f-43d6-cd93-1d4c420d9d27"
      },
      "outputs": [
        {
          "name": "stderr",
          "output_type": "stream",
          "text": [
            "/var/folders/l4/3jrpbdxs1d3d0d9grx88k7s00000gn/T/ipykernel_38871/2234695325.py:2: FutureWarning: The default dtype for empty Series will be 'object' instead of 'float64' in a future version. Specify a dtype explicitly to silence this warning.\n",
            "  interest_list=pd.Series([])\n"
          ]
        },
        {
          "data": {
            "text/html": [
              "<div>\n",
              "<style scoped>\n",
              "    .dataframe tbody tr th:only-of-type {\n",
              "        vertical-align: middle;\n",
              "    }\n",
              "\n",
              "    .dataframe tbody tr th {\n",
              "        vertical-align: top;\n",
              "    }\n",
              "\n",
              "    .dataframe thead th {\n",
              "        text-align: right;\n",
              "    }\n",
              "</style>\n",
              "<table border=\"1\" class=\"dataframe\">\n",
              "  <thead>\n",
              "    <tr style=\"text-align: right;\">\n",
              "      <th></th>\n",
              "      <th>Number of click per session</th>\n",
              "      <th>Customer Interested</th>\n",
              "    </tr>\n",
              "  </thead>\n",
              "  <tbody>\n",
              "    <tr>\n",
              "      <th>0</th>\n",
              "      <td>[1, 2, 3, 4, 5, 6, 7, 8, 9]</td>\n",
              "      <td>Interested</td>\n",
              "    </tr>\n",
              "    <tr>\n",
              "      <th>1</th>\n",
              "      <td>[1, 2, 3, 4, 5, 6, 7, 8, 9, 10]</td>\n",
              "      <td>Interested</td>\n",
              "    </tr>\n",
              "    <tr>\n",
              "      <th>2</th>\n",
              "      <td>[1, 2, 3, 4, 5, 6]</td>\n",
              "      <td>Interested</td>\n",
              "    </tr>\n",
              "    <tr>\n",
              "      <th>3</th>\n",
              "      <td>[1, 2, 3, 4]</td>\n",
              "      <td>Interested</td>\n",
              "    </tr>\n",
              "    <tr>\n",
              "      <th>4</th>\n",
              "      <td>[1]</td>\n",
              "      <td>NoTInterested</td>\n",
              "    </tr>\n",
              "  </tbody>\n",
              "</table>\n",
              "</div>"
            ],
            "text/plain": [
              "       Number of click per session Customer Interested\n",
              "0      [1, 2, 3, 4, 5, 6, 7, 8, 9]          Interested\n",
              "1  [1, 2, 3, 4, 5, 6, 7, 8, 9, 10]          Interested\n",
              "2               [1, 2, 3, 4, 5, 6]          Interested\n",
              "3                     [1, 2, 3, 4]          Interested\n",
              "4                              [1]       NoTInterested"
            ]
          },
          "execution_count": 19,
          "metadata": {},
          "output_type": "execute_result"
        }
      ],
      "source": [
        "interested=frameSessions['Number of click per session'].to_numpy()\n",
        "interest_list=pd.Series([]) \n",
        "# df_copy=dataframe\n",
        "for i in range(len(interested)): \n",
        "    l=len(interested[i])\n",
        "    if 3 <= l: \n",
        "        interest_list[i]=\"Interested\"\n",
        "    else:\n",
        "      interest_list[i]=\"NoTInterested\"\n",
        "frameSessions.insert(1,\"Customer Interested\",interest_list)\n",
        "# frameSessions=frameSessions.join(expected_column)\n",
        "frameSessions.rename(columns={0:\"Unique Session ID\"},inplace=True)\n",
        "# expectedColumn=df_copy['']\n",
        "\n",
        "frameSessions.head()\n"
      ]
    },
    {
      "cell_type": "code",
      "execution_count": 20,
      "metadata": {
        "colab": {
          "base_uri": "https://localhost:8080/"
        },
        "id": "rlue6NUSYSkE",
        "outputId": "9e04acb7-24cd-48fd-c598-09e2d7182b94"
      },
      "outputs": [
        {
          "name": "stdout",
          "output_type": "stream",
          "text": [
            "65.19603762590526 %\n",
            "34.80396237409473 %\n"
          ]
        }
      ],
      "source": [
        "interest_output=frameSessions['Customer Interested'].value_counts()\n",
        "interest=pd.DataFrame(interest_output)\n",
        "InterestPercentage=frameSessions.shape\n",
        "numberInterest=interest['Customer Interested'][0]\n",
        "InterestPercentage=numberInterest/InterestPercentage[0]\n",
        "InterestPercentage = InterestPercentage * 100\n",
        "# print(f'{InterestPercentage}%')\n",
        "Not_Interest=interest['Customer Interested'][1]\n",
        "# Not_Interest=Not_Interest/numberInterest\n",
        "Not_Interest=Not_Interest/frameSessions.shape[0]\n",
        "Not_Interest=Not_Interest * 100\n",
        "\n",
        "print(f'{InterestPercentage} %')\n",
        "print(f'{Not_Interest} %')"
      ]
    },
    {
      "cell_type": "markdown",
      "metadata": {
        "id": "vfNtDqjFlT-D"
      },
      "source": [
        "After the calculation , we could see that 65% of the session visit would be considerred as \"interested visit\" and 34% of visits are from \"Not Interested\" customers visiting. "
      ]
    },
    {
      "cell_type": "code",
      "execution_count": 21,
      "metadata": {
        "colab": {
          "base_uri": "https://localhost:8080/",
          "height": 643
        },
        "id": "7kSJoAT7m9F-",
        "outputId": "f3498a60-b89f-40d2-a225-66aff7954a87"
      },
      "outputs": [
        {
          "name": "stderr",
          "output_type": "stream",
          "text": [
            "/var/folders/l4/3jrpbdxs1d3d0d9grx88k7s00000gn/T/ipykernel_38871/2753134616.py:23: FutureWarning: The default dtype for empty Series will be 'object' instead of 'float64' in a future version. Specify a dtype explicitly to silence this warning.\n",
            "  Type_new = pd.Series([])\n"
          ]
        },
        {
          "data": {
            "image/png": "[encoded data removed]",
            "text/plain": [
              "<Figure size 720x720 with 2 Axes>"
            ]
          },
          "metadata": {
            "needs_background": "light"
          },
          "output_type": "display_data"
        }
      ],
      "source": [
        "import matplotlib.pyplot as plt\n",
        "\n",
        "frame=dataframe['month'].value_counts()\n",
        "month_frame=pd.DataFrame(frame)\n",
        "month_name=['April','May','July','June','August']\n",
        "month_list=month_frame['month'].to_numpy()\n",
        "month_dictionary={}\n",
        "for i in range(len(month_list)):\n",
        "  month_dictionary[month_name[i]]=month_list[i]\n",
        "month_dictionary\n",
        "month_frame=pd.DataFrame(pd.DataFrame(month_dictionary.items(), columns=['Months', 'Total Visits']))\n",
        "\n",
        "new_column=dataframe['ProductCategory']\n",
        "product_dictionary={}\n",
        "list_category_name=['trousers','sale','blouses','skirts']\n",
        "item_code=[1,4,3,2]\n",
        "frame_categoryName=pd.DataFrame(new_column.value_counts())\n",
        "f=frame_categoryName['ProductCategory'].to_numpy()\n",
        "for i in range(len(f)):\n",
        "  product_dictionary[list_category_name[i]]=f[i]\n",
        "category_frame=pd.DataFrame(pd.DataFrame(product_dictionary.items(),columns=['Product Name','# of Items']))\n",
        "\n",
        "Type_new = pd.Series([])\n",
        "item_code=pd.DataFrame(item_code)\n",
        "item_code.rename(columns={0:'Item Code'},inplace=True)\n",
        "expected_column=item_code['Item Code']\n",
        "category_frame=category_frame.join(expected_column)\n",
        "\n",
        "plt.subplot(1,2,1)\n",
        "sns.barplot(x='Product Name',y='# of Items',data=category_frame)\n",
        "\n",
        "plt.subplot(1,2,2)\n",
        "sns.barplot(x=month_frame['Months'],y=month_frame['Total Visits'])\n",
        "\n",
        "\n",
        "plt.gcf().set_size_inches(10, 10)\n",
        "plt.subplots_adjust(right=2)\n",
        "plt.show()\n"
      ]
    },
    {
      "cell_type": "markdown",
      "metadata": {
        "id": "tMOgH8ksIcFM"
      },
      "source": [
        "# Data  Preparation"
      ]
    },
    {
      "cell_type": "markdown",
      "metadata": {
        "id": "PAGcfAGVgn5D"
      },
      "source": [
        "## Dropping The Clothing Model "
      ]
    },
    {
      "cell_type": "code",
      "execution_count": 22,
      "metadata": {
        "id": "gDmctIXSgsTD"
      },
      "outputs": [],
      "source": [
        "dataframe=dataframe.drop('ClothingModel',axis=1)"
      ]
    },
    {
      "cell_type": "markdown",
      "metadata": {
        "id": "dMIa-oA2TBfM"
      },
      "source": [
        "## Changing 2's in 'price 2' into 0 to fit logistic regression"
      ]
    },
    {
      "cell_type": "code",
      "execution_count": 23,
      "metadata": {
        "id": "qnJPyM5lJYjK"
      },
      "outputs": [],
      "source": [
        "df=dataframe\n",
        "df.loc[df['price 2']==2,['price 2']]=0\n"
      ]
    },
    {
      "cell_type": "code",
      "execution_count": 24,
      "metadata": {
        "colab": {
          "base_uri": "https://localhost:8080/"
        },
        "id": "upvBhiwhWs-g",
        "outputId": "44949fea-70a7-43a9-a23d-8289b12e3a4c"
      },
      "outputs": [
        {
          "name": "stdout",
          "output_type": "stream",
          "text": [
            "              precision    recall  f1-score   support\n",
            "\n",
            "           0  0.8215401 0.8483977 0.8347529     20158\n",
            "           1  0.8513040 0.8248550 0.8378708     21211\n",
            "\n",
            "    accuracy                      0.8363267     41369\n",
            "   macro avg  0.8364220 0.8366263 0.8363119     41369\n",
            "weighted avg  0.8368009 0.8363267 0.8363516     41369\n",
            "\n"
          ]
        },
        {
          "name": "stderr",
          "output_type": "stream",
          "text": [
            "/Library/Frameworks/Python.framework/Versions/3.10/lib/python3.10/site-packages/sklearn/linear_model/_logistic.py:814: ConvergenceWarning: lbfgs failed to converge (status=1):\n",
            "STOP: TOTAL NO. of ITERATIONS REACHED LIMIT.\n",
            "\n",
            "Increase the number of iterations (max_iter) or scale the data as shown in:\n",
            "    https://scikit-learn.org/stable/modules/preprocessing.html\n",
            "Please also refer to the documentation for alternative solver options:\n",
            "    https://scikit-learn.org/stable/modules/linear_model.html#logistic-regression\n",
            "  n_iter_i = _check_optimize_result(\n"
          ]
        }
      ],
      "source": [
        "from sklearn.model_selection import train_test_split\n",
        "from sklearn.linear_model import LogisticRegression\n",
        "from sklearn.linear_model import LinearRegression\n",
        "\n",
        "from sklearn.metrics import confusion_matrix,classification_report\n",
        "from sklearn.metrics import accuracy_score,recall_score,precision_score,f1_score,roc_auc_score,roc_curve\n",
        "\n",
        "target=dataframe['price 2'].copy()\n",
        "features=dataframe.drop(['price 2'],axis=1)\n",
        "\n",
        "X_train,X_test,y_train,y_test = train_test_split(features,target,test_size=0.25,random_state=0)\n",
        "\n",
        "lm=LogisticRegression()\n",
        "result1=lm.fit(X_train,y_train)\n",
        "y_predic=lm.predict(X_test)\n",
        "\n",
        "\n",
        "print(classification_report(y_test,y_predic,digits=7))"
      ]
    },
    {
      "cell_type": "markdown",
      "metadata": {
        "id": "RMCEqBMZgFpY"
      },
      "source": [
        "# Confusion Matrix\n"
      ]
    },
    {
      "cell_type": "code",
      "execution_count": 25,
      "metadata": {
        "colab": {
          "base_uri": "https://localhost:8080/",
          "height": 283
        },
        "id": "nN_DaBlCgFTg",
        "outputId": "49e0aa7e-fb61-4f3d-8124-05ced1785b2b"
      },
      "outputs": [
        {
          "data": {
            "text/plain": [
              "<AxesSubplot:>"
            ]
          },
          "execution_count": 25,
          "metadata": {},
          "output_type": "execute_result"
        },
        {
          "data": {
            "image/png": "[encoded data removed]",
            "text/plain": [
              "<Figure size 432x288 with 2 Axes>"
            ]
          },
          "metadata": {
            "needs_background": "light"
          },
          "output_type": "display_data"
        }
      ],
      "source": [
        "cnf_matrix=confusion_matrix(y_test,y_predic)\n",
        "sns.heatmap(pd.DataFrame(cnf_matrix),annot=True,cmap=\"YlGnBu\",fmt='g')"
      ]
    },
    {
      "cell_type": "markdown",
      "metadata": {
        "id": "to_hrcpnsB4y"
      },
      "source": [
        "0: NoT higher than average  &     1: Yes-Higher than Average\n",
        "\n",
        "True positive: 17,496\n",
        "\n",
        "True Negative: 17,102\n",
        "\n",
        "False Negative: 3056\n",
        "\n",
        "False Positive:3715\n",
        "\n",
        "\n",
        "\n",
        "\n"
      ]
    },
    {
      "cell_type": "markdown",
      "metadata": {
        "id": "grQgLXoDtg9V"
      },
      "source": [
        "## ROC Curve"
      ]
    },
    {
      "cell_type": "code",
      "execution_count": 26,
      "metadata": {
        "colab": {
          "base_uri": "https://localhost:8080/",
          "height": 279
        },
        "id": "yVzUlyUAtBuy",
        "outputId": "773d5d17-1d2f-4588-81bb-3622258c4289"
      },
      "outputs": [
        {
          "data": {
            "image/png": "[encoded data removed]",
            "text/plain": [
              "<Figure size 432x288 with 1 Axes>"
            ]
          },
          "metadata": {
            "needs_background": "light"
          },
          "output_type": "display_data"
        }
      ],
      "source": [
        "from sklearn import metrics\n",
        "fpr,tpr, _ =roc_curve(y_test,lm.predict_proba(X_test)[:,1])\n",
        "auc=roc_auc_score(y_test,y_predic)\n",
        "plt.plot(fpr,tpr,label=\"data 1, auc=\"+str(auc))\n",
        "plt.ylabel('True Positive Rate')\n",
        "plt.xlabel('False Positive Rate')\n",
        "plt.legend(loc=4)\n",
        "plt.show()"
      ]
    },
    {
      "cell_type": "markdown",
      "metadata": {
        "id": "WVpX-n0auMsV"
      },
      "source": [
        "###  Least Squares Method - Model2"
      ]
    },
    {
      "cell_type": "code",
      "execution_count": 27,
      "metadata": {
        "colab": {
          "base_uri": "https://localhost:8080/"
        },
        "id": "Meim1T0WuP7U",
        "outputId": "f541b456-f19a-4d67-9220-71aa6e8e043b"
      },
      "outputs": [
        {
          "name": "stdout",
          "output_type": "stream",
          "text": [
            "                                 OLS Regression Results                                \n",
            "=======================================================================================\n",
            "Dep. Variable:                price 2   R-squared (uncentered):                   0.876\n",
            "Model:                            OLS   Adj. R-squared (uncentered):              0.876\n",
            "Method:                 Least Squares   F-statistic:                          1.098e+05\n",
            "Date:                Sun, 31 Jul 2022   Prob (F-statistic):                        0.00\n",
            "Time:                        00:25:00   Log-Likelihood:                         -4886.3\n",
            "No. Observations:              124105   AIC:                                      9789.\n",
            "Df Residuals:                  124097   BIC:                                      9866.\n",
            "Df Model:                           8                                                  \n",
            "Covariance Type:            nonrobust                                                  \n",
            "===================================================================================\n",
            "                      coef    std err          t      P>|t|      [0.025      0.975]\n",
            "-----------------------------------------------------------------------------------\n",
            "month              -0.4158      0.001   -332.900      0.000      -0.418      -0.413\n",
            "day                -0.0150   8.47e-05   -176.974      0.000      -0.015      -0.015\n",
            "order              -0.0006   5.41e-05    -11.791      0.000      -0.001      -0.001\n",
            "country            -0.0004      0.000     -3.828      0.000      -0.001      -0.000\n",
            "session ID        7.92e-05   2.76e-07    286.911      0.000    7.87e-05    7.97e-05\n",
            "ProductCategory     0.2011      0.001    287.582      0.000       0.200       0.203\n",
            "Color               0.0064      0.000     36.949      0.000       0.006       0.007\n",
            "price               0.0363   6.11e-05    595.122      0.000       0.036       0.036\n",
            "==============================================================================\n",
            "Omnibus:                     4843.728   Durbin-Watson:                   2.005\n",
            "Prob(Omnibus):                  0.000   Jarque-Bera (JB):             3552.400\n",
            "Skew:                          -0.317   Prob(JB):                         0.00\n",
            "Kurtosis:                       2.466   Cond. No.                     2.52e+04\n",
            "==============================================================================\n",
            "\n",
            "Notes:\n",
            "[1] R² is computed without centering (uncentered) since the model does not contain a constant.\n",
            "[2] Standard Errors assume that the covariance matrix of the errors is correctly specified.\n",
            "[3] The condition number is large, 2.52e+04. This might indicate that there are\n",
            "strong multicollinearity or other numerical problems.\n",
            "          Features          Score\n",
            "0            month      11.228283\n",
            "1              day      16.075871\n",
            "2            order       1.822592\n",
            "3          country      96.533515\n",
            "4       session ID  109428.263965\n",
            "5  ProductCategory    1717.670847\n",
            "6            Color    3061.995505\n",
            "7            price  328930.400590\n"
          ]
        }
      ],
      "source": [
        "from sklearn.feature_selection import chi2\n",
        "from sklearn.feature_selection import SelectKBest\n",
        "import statsmodels.api as sm\n",
        " \n",
        "# make a model using least square method / SELECTLBest Automate the chi square test \n",
        "test=SelectKBest(score_func=chi2,k=5)\n",
        "fit=test.fit(features,target)\n",
        "feature_score =pd.DataFrame()\n",
        "for i in range(features.shape[1]):\n",
        "  new = pd.DataFrame({'Features':features.columns[i],\n",
        "                      'Score': fit.scores_[i]},index=[i])\n",
        "  feature_score=pd.concat([feature_score, new])\n",
        "\n",
        "\n",
        "\n",
        "\n",
        "result=sm.OLS(y_train,X_train).fit()\n",
        "r=result.predict()\n",
        "\n",
        "print(result.summary())\n",
        "\n",
        "\n",
        "\n",
        "print(feature_score)\n",
        "# print(classification_report(y_test,r,digits=7))\n",
        "\n",
        "\n",
        "\n",
        "\n"
      ]
    },
    {
      "cell_type": "markdown",
      "metadata": {
        "id": "dbeGrbSnxTHl"
      },
      "source": [
        "Sometimes the statistical softwares display the p value as 0, depending on the settings concerning the numbers of digits to be displayed.\n",
        "Anyway, if your software displays a p values of 0, it means the null hypothesis is rejected and your test is statistically significant (for example the differences between your groups are significant\n",
        "[link](https://www.researchgate.net/post/p_value_of_0000#:~:text=Anyway%2C%20if%20your%20software%20displays,between%20your%20groups%20are%20significant/)\n"
      ]
    },
    {
      "cell_type": "code",
      "execution_count": 28,
      "metadata": {
        "colab": {
          "base_uri": "https://localhost:8080/"
        },
        "id": "K3eLrp2tyFkY",
        "outputId": "42bcce44-d978-400e-e93b-407b84818820"
      },
      "outputs": [
        {
          "name": "stdout",
          "output_type": "stream",
          "text": [
            "              precision    recall  f1-score   support\n",
            "\n",
            "           0  0.9017280 0.9267785 0.9140816     20158\n",
            "           1  0.9285265 0.9040121 0.9161053     21211\n",
            "\n",
            "    accuracy                      0.9151055     41369\n",
            "   macro avg  0.9151272 0.9153953 0.9150935     41369\n",
            "weighted avg  0.9154683 0.9151055 0.9151192     41369\n",
            "\n"
          ]
        }
      ],
      "source": [
        "from sklearn.neighbors import KNeighborsClassifier\n",
        "\n",
        "knn = KNeighborsClassifier(n_neighbors = 3)\n",
        "r=knn.fit(X_train,y_train)\n",
        "a=r.predict(X_test)\n",
        "print(classification_report(y_test,a,digits=7))"
      ]
    },
    {
      "cell_type": "markdown",
      "metadata": {
        "id": "1r39ezKqKlva"
      },
      "source": [
        "# Tree Classification Model/decision tree"
      ]
    },
    {
      "cell_type": "code",
      "execution_count": 29,
      "metadata": {
        "colab": {
          "base_uri": "https://localhost:8080/",
          "height": 283
        },
        "id": "sr2ygx6H2eeS",
        "outputId": "aa87e21d-8217-4539-f4d6-b2ad543dae8f"
      },
      "outputs": [
        {
          "data": {
            "text/plain": [
              "<AxesSubplot:>"
            ]
          },
          "execution_count": 29,
          "metadata": {},
          "output_type": "execute_result"
        },
        {
          "data": {
            "image/png": "[encoded data removed]",
            "text/plain": [
              "<Figure size 432x288 with 2 Axes>"
            ]
          },
          "metadata": {
            "needs_background": "light"
          },
          "output_type": "display_data"
        }
      ],
      "source": [
        "from sklearn.tree import DecisionTreeClassifier\n",
        "clf_en = DecisionTreeClassifier(criterion='entropy', max_depth=3, random_state=0)\n",
        "clf_en.fit(X_train, y_train)\n",
        "y_pred_en = clf_en.predict(X_test)\n",
        "cnf_matrix=confusion_matrix(y_test,y_pred_en)\n",
        "sns.heatmap(pd.DataFrame(cnf_matrix),annot=True,cmap=\"YlGnBu\",fmt='g')"
      ]
    },
    {
      "cell_type": "code",
      "execution_count": 30,
      "metadata": {
        "colab": {
          "base_uri": "https://localhost:8080/"
        },
        "id": "WPca1cDb33Bc",
        "outputId": "ebff69eb-25be-447b-e61e-f42fae7b4148"
      },
      "outputs": [
        {
          "name": "stdout",
          "output_type": "stream",
          "text": [
            "Accuracy:  0.9833208441103242\n",
            "Precision:  0.9684945892881603\n"
          ]
        }
      ],
      "source": [
        "tp=((y_test==1) & (y_test == y_pred_en)).sum()\n",
        "tn=((y_test==0) & (y_test == y_pred_en)).sum()\n",
        "fp=((y_test==0) & (y_test != y_pred_en)).sum()\n",
        "fn=((y_test==1) & (y_test != y_pred_en)).sum()\n",
        "\n",
        "accuracy2= (tp+tn)/(tp+tn+fp+fn)\n",
        "precision2=(tp)/(tp+fp)\n",
        "\n",
        "\n",
        "\n",
        "print(\"Accuracy: \",accuracy2)\n",
        "print(\"Precision: \",precision2)"
      ]
    },
    {
      "cell_type": "markdown",
      "metadata": {
        "id": "2NB133Uys2zb"
      },
      "source": [
        "Conclusion:\n",
        "\n",
        "In this project, I predict that if the demand for the product is high, the product price will be higher than the average price. If the price were higher, the number 1 would be put down, and if the price was lower then the average. The data set had 165474 records and 14 attributes. We dropped three columns (location, ModelPhoto, and page). And we described all columns’ count, mean, std, min, 25%, 50%, 75%, and max. And then we identify the data type, unique values, missing values, count, zero values, and question mark. However, there has no missing values, zero values, and question mark. Also, we deleted the year because of all data from 2008. We used correlation and then found out which one was the strongest correlation. We found out how many clicks per country, and then chose only the top 3. It was Poland, the Czech Republic, and Lithuania. Most customers bought trousers. It was almost 50,000. And there had almost 50,000 visitors in April. In Data preparation, we dropped the ClothingModel because it was not important data.  We changed 2 to 0 in price 2 for logistic regression.  In the first model, we found out the precision, recall, and f1-score. It was 84%. And confusion matrix showed true positive 17,496, true negative 17,102, false negative 3056, and false positive 3715. Moreover, we used the least squares method in model 2, but we got all 0 p-values. Furthermore, we used the KNN model in model 3. There had 92%, so there had improved. Then we made another model using the tree classification method which gave an impressive 0.98 accuracy and 0.96 precision. We will choose the tree classification model since it is the most accurate model to use for this dataset\n",
        "\n"
      ]
    }
  ],
  "metadata": {
    "colab": {
      "collapsed_sections": [],
      "name": "A_Bhuiyan_groupProject2.ipynb",
      "provenance": []
    },
    "kernelspec": {
      "display_name": "Python 3.10.3 64-bit",
      "language": "python",
      "name": "python3"
    },
    "language_info": {
      "codemirror_mode": {
        "name": "ipython",
        "version": 3
      },
      "file_extension": ".py",
      "mimetype": "text/x-python",
      "name": "python",
      "nbconvert_exporter": "python",
      "pygments_lexer": "ipython3",
      "version": "3.10.3"
    },
    "vscode": {
      "interpreter": {
        "hash": "aee8b7b246df8f9039afb4144a1f6fd8d2ca17a180786b69acc140d282b71a49"
      }
    }
  },
  "nbformat": 4,
  "nbformat_minor": 0
}
