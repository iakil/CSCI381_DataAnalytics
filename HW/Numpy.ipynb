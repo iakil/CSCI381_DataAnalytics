{
  "cells": [
    {
      "cell_type": "markdown",
      "metadata": {
        "id": "Tod60xpnaJDT"
      },
      "source": [
        "Akil Bhuiyan\n",
        "\n",
        "Numpy Solutions"
      ]
    },
    {
      "cell_type": "markdown",
      "metadata": {
        "id": "nd5uL-0FsANL"
      },
      "source": [
        "### All Imports"
      ]
    },
    {
      "cell_type": "code",
      "execution_count": 14,
      "metadata": {
        "id": "Se0FRX2Y-ZsI"
      },
      "outputs": [],
      "source": [
        "import ssl\n",
        "ssl._create_default_https_context = ssl._create_unverified_context # SSL Certificate Verify\n",
        "from random import randint\n",
        "import numpy as np\n",
        "import pandas as pd"
      ]
    },
    {
      "cell_type": "markdown",
      "metadata": {
        "id": "tUk9dFc2-ZsJ"
      },
      "source": [
        "### Problem 1"
      ]
    },
    {
      "cell_type": "markdown",
      "metadata": {
        "id": "yUBKm4iqbBZT"
      },
      "source": [
        "<u>Problem 1:</u>\n",
        "\n",
        "Write a Python/NumPy code block that finds the distinct/unique common items between these two arrays: <br>\n",
        "**a = np.array([1, 2, 3, 2, 3, 4, 3, 4, 5, 6])**  <br>\n",
        "**b = np.array([7, 2, 10, 2, 7, 4, 9, 4, 9, 8])**  \n",
        "\n",
        "<br>\n",
        "\n",
        "Your output should contain only the distinct overlapping values. For example, if a 2 is found in both array a and array b,\n",
        "your output should contain only one 2 even if array a contains more than one 2 within it.\n",
        "\n",
        "<br>"
      ]
    },
    {
      "cell_type": "code",
      "execution_count": 15,
      "metadata": {
        "colab": {
          "base_uri": "https://localhost:8080/"
        },
        "id": "dpjCLa2J-ZsK",
        "outputId": "6957565a-bfb0-4cd2-8d58-6ad1cf19ef96"
      },
      "outputs": [
        {
          "name": "stdout",
          "output_type": "stream",
          "text": [
            "Intersect Values of set a and b:  [2 4]\n",
            "Union Values of set a and b:  [ 1  2  3  4  5  6  7  8  9 10]\n"
          ]
        }
      ],
      "source": [
        "a = np.array([1, 2, 3, 2, 3, 4, 3, 4, 5, 6])\n",
        "b = np.array([7, 2, 10, 2, 7, 4, 9, 4, 9, 8])\n",
        "\n",
        "distinctValArr = np.intersect1d(a,b) # Intersect value from set a and set b\n",
        "unionValArr = np.union1d(a,b) # Intersect value from set a and set b\n",
        "print (\"Intersect Values of set a and b: \" , distinctValArr)\n",
        "print (\"Union Values of set a and b: \" , unionValArr)"
      ]
    },
    {
      "cell_type": "markdown",
      "metadata": {
        "id": "HUIcyw1U-ZsL"
      },
      "source": [
        "### Problem 2"
      ]
    },
    {
      "cell_type": "markdown",
      "metadata": {
        "id": "hOOpxNOieRCO"
      },
      "source": [
        "<u>Problem 2:</u>\n",
        "\n",
        "Create the following 5x3 array using knowledge you have of Python’s / NumPy’s sequencing functionality so that you do not need to explicitly key in every integer value.\n",
        "\n",
        "    1   6    11\n",
        "    2   7    12\n",
        "    3   8    13\n",
        "    4   9    14\n",
        "    5   10   15\n",
        "\n",
        "<br>"
      ]
    },
    {
      "cell_type": "code",
      "execution_count": 16,
      "metadata": {
        "colab": {
          "base_uri": "https://localhost:8080/"
        },
        "id": "GdmvM_7_-ZsM",
        "outputId": "ffb93fec-1a6d-44c5-e5aa-002e0169e420"
      },
      "outputs": [
        {
          "name": "stdout",
          "output_type": "stream",
          "text": [
            "\n",
            "1D or given arr is:  [ 1  6 11  2  7 12  3  8 13  4  9 14  5 10 15]\n",
            "\n",
            "Reshaping to 2D arr w/ 5x3 is:\n",
            " [[ 1  6 11]\n",
            " [ 2  7 12]\n",
            " [ 3  8 13]\n",
            " [ 4  9 14]\n",
            " [ 5 10 15]]\n"
          ]
        }
      ],
      "source": [
        "a = np.array([1, 6, 11, 2, 7, 12, 3, 8, 13, 4, 9, 14, 5, 10, 15]) # 1D Array\n",
        "oneDimArr = a # Reshaping 1D arr to 2D arr with 5 rows nd 3 col\n",
        "twoDimArr = a.reshape(5,3) # Reshaping 1D arr to 2D arr with 5 rows nd 3 col\n",
        "\n",
        "print(\"\\n1D or given arr is: \" , oneDimArr)\n",
        "print(\"\\nReshaping to 2D arr w/ 5x3 is:\\n\" , twoDimArr)"
      ]
    },
    {
      "cell_type": "code",
      "execution_count": 17,
      "metadata": {
        "colab": {
          "base_uri": "https://localhost:8080/"
        },
        "id": "r82b8_fsj7gY",
        "outputId": "55a1048f-c225-4990-a673-11efb75ac824"
      },
      "outputs": [
        {
          "name": "stdout",
          "output_type": "stream",
          "text": [
            "\n",
            "randomly generated 1D arr is:\n",
            " [ 1  5 10  7  8  8  9  1  8  5  2  9  5  3  4  0  1  6  5  1  4  8 10  8]\n",
            "\n",
            "Reshaping to 3D arr w/ 2x3x4 is:\n",
            " [[[ 1  5 10  7]\n",
            "  [ 8  8  9  1]\n",
            "  [ 8  5  2  9]]\n",
            "\n",
            " [[ 5  3  4  0]\n",
            "  [ 1  6  5  1]\n",
            "  [ 4  8 10  8]]]\n"
          ]
        }
      ],
      "source": [
        "# 3D array\n",
        "x=randint (0,10)\n",
        "my24Arr = [randint(0,10) for i in range (0,24) ]\n",
        "my24Arr = np.array (my24Arr)\n",
        "\n",
        "\n",
        "threeDimArr = my24Arr.reshape(2,3,4) # Reshaping 1D arr to 3D arr with 2 blocks, 3 rows nd 4 col\n",
        "print(\"\\nrandomly generated 1D arr is:\\n\" , my24Arr)\n",
        "print(\"\\nReshaping to 3D arr w/ 2x3x4 is:\\n\" , threeDimArr)"
      ]
    },
    {
      "cell_type": "markdown",
      "metadata": {
        "id": "x1q5Vaax-ZsN"
      },
      "source": [
        "### Problem 3\n",
        "\n",
        "<u>Problem 3:</u>\n",
        "\n",
        "The process of transforming a multidimensional array into a unidimensional array is referred to as “flattening”. Transform the 5x3 array shown above in Problem 2 into a unidimensional array such that the sequence of values contained within the array is as follows: 1, 2, 3, 4, 5, 6, 7, 8, 9, 10, 11, 12, 13, 14, 15\n",
        "\n",
        "<br>"
      ]
    },
    {
      "cell_type": "code",
      "execution_count": 18,
      "metadata": {
        "colab": {
          "base_uri": "https://localhost:8080/"
        },
        "id": "Iu1Oot9F-ZsN",
        "outputId": "32e89651-270e-4071-d505-af7d1181e62c"
      },
      "outputs": [
        {
          "name": "stdout",
          "output_type": "stream",
          "text": [
            "/n2D arr from Problem2 is: \n",
            " [[ 1  6 11]\n",
            " [ 2  7 12]\n",
            " [ 3  8 13]\n",
            " [ 4  9 14]\n",
            " [ 5 10 15]]\n",
            "\n",
            "Flatten to 1D arr becomes: \n",
            " [ 1  6 11  2  7 12  3  8 13  4  9 14  5 10 15]\n"
          ]
        }
      ],
      "source": [
        "# It says transform 2D arr to 1D arr\n",
        "# flattten() make 2D or 3D arr to 1D arr\n",
        "p3TwoDimArr = twoDimArr # get 2D arr from problem 2\n",
        "flattenTwoDimArr= p3TwoDimArr.flatten()\n",
        "\n",
        "print (\"/n2D arr from Problem2 is: \\n\",p3TwoDimArr)\n",
        "print (\"\\nFlatten to 1D arr becomes: \\n\",flattenTwoDimArr)"
      ]
    },
    {
      "cell_type": "markdown",
      "metadata": {
        "id": "ELjurobg-ZsO"
      },
      "source": [
        "### Problem 4\n",
        "\n",
        "<u>Problem 4:</u>\n",
        "\n",
        "Transform the 2-D array shown in Problem 2 into a 3 dimensional array such that the first column becomes the first dimension of the 3-D array, the second column becomes the second dimension of the 3-D array, and the third column becomes the third dimension of the 3-D array.\n",
        "\n",
        "<br>"
      ]
    },
    {
      "cell_type": "code",
      "execution_count": 19,
      "metadata": {
        "colab": {
          "base_uri": "https://localhost:8080/"
        },
        "id": "GPI11JgQ-ZsP",
        "outputId": "787fc26e-5c5e-4167-eb2e-01ab4bfce6e4"
      },
      "outputs": [
        {
          "name": "stdout",
          "output_type": "stream",
          "text": [
            "\n",
            "2D Arr from problem2 is: \n",
            " [[ 1  6 11]\n",
            " [ 2  7 12]\n",
            " [ 3  8 13]\n",
            " [ 4  9 14]\n",
            " [ 5 10 15]]\n",
            "\n",
            "2D Arr to 3D arr is: \n",
            " [[[ 1  6 11]\n",
            "  [ 2  7 12]\n",
            "  [ 3  8 13]\n",
            "  [ 4  9 14]\n",
            "  [ 5 10 15]]]\n"
          ]
        }
      ],
      "source": [
        "\n",
        "p4TwoDimArr = twoDimArr # get 2D array from problem 2 , (it is 5x3 2D array or 15 elements)\n",
        "p4ThreeDimArr = p4TwoDimArr.reshape(1,5,3)  # 1 block 5 rows 3 col\n",
        "print (\"\\n2D Arr from problem2 is: \\n\",p4TwoDimArr)\n",
        "print (\"\\n2D Arr to 3D arr is: \\n\",p4ThreeDimArr)\n",
        "\n"
      ]
    },
    {
      "cell_type": "markdown",
      "metadata": {
        "id": "Q754-Vl_-ZsP"
      },
      "source": [
        "### Problem 5\n",
        "<u>Problem 5:</u>\n",
        "\n",
        "Transform the 3-D array you created in Problem 4 back to the 2-dimensional format shown in Problem 2.\n",
        "\n",
        "<br>"
      ]
    },
    {
      "cell_type": "code",
      "execution_count": 20,
      "metadata": {
        "colab": {
          "base_uri": "https://localhost:8080/"
        },
        "id": "0Fflz1Qj-ZsP",
        "outputId": "aee3148d-7aad-49bc-fdf2-d27d601ee0bf"
      },
      "outputs": [
        {
          "name": "stdout",
          "output_type": "stream",
          "text": [
            "\n",
            "3D arr from problem4 is: \n",
            " [[[ 1  6 11]\n",
            "  [ 2  7 12]\n",
            "  [ 3  8 13]\n",
            "  [ 4  9 14]\n",
            "  [ 5 10 15]]]\n",
            "\n",
            "Transform 3D arr to 2D arr is : \n",
            " [[ 1  6 11]\n",
            " [ 2  7 12]\n",
            " [ 3  8 13]\n",
            " [ 4  9 14]\n",
            " [ 5 10 15]]\n"
          ]
        }
      ],
      "source": [
        "p5ThreeDimArr = p4ThreeDimArr # get 3D arr from problem 4 (1x5x3)\n",
        "p5TwoDimArr = p5ThreeDimArr.reshape(5,3) # Transfor back to 2D arr\n",
        "print (\"\\n3D arr from problem4 is: \\n\",p5ThreeDimArr)\n",
        "print (\"\\nTransform 3D arr to 2D arr is : \\n\",p5TwoDimArr)"
      ]
    },
    {
      "cell_type": "markdown",
      "metadata": {
        "id": "8xDiPUi0-ZsQ"
      },
      "source": [
        "### Problem 6\n",
        "\n",
        "<u>Problem 6:</u>\n",
        "\n",
        "You are given the following two arrays: <br>\n",
        "**a = np.array([12, 5, 7, 15, 3, 1, 8])**  <br>\n",
        "**b = np.array([14, 6, 3, 11, 19, 12, 5])** \n",
        "\n",
        "<br>\n",
        "\n",
        "Write a Python/Numpy code block that removes from array **a** any items that are also present in array **b**.\n",
        "\n",
        "<br>"
      ]
    },
    {
      "cell_type": "code",
      "execution_count": 21,
      "metadata": {
        "colab": {
          "base_uri": "https://localhost:8080/"
        },
        "id": "HS0WnEkR-ZsQ",
        "outputId": "ac4bcd4f-6626-4a33-98ae-8d940274519b"
      },
      "outputs": [
        {
          "name": "stdout",
          "output_type": "stream",
          "text": [
            "\n",
            "New Arr that removes val from a that present in b \n",
            "New arr a is: a =  [ 7 15  1  8]\n"
          ]
        }
      ],
      "source": [
        "a = np.array([12, 5, 7, 15, 3, 1, 8])\n",
        "b = np.array([14, 6, 3, 11, 19, 12, 5])\n",
        "temp = []\n",
        "for i in range (0,len(a)):\n",
        "    if a[i] not in b:\n",
        "        temp.append(a[i]) \n",
        "c= np.array(temp)\n",
        "print (\"\\nNew Arr that removes val from a that present in b \\nNew arr a is: a = \",c)"
      ]
    },
    {
      "cell_type": "markdown",
      "metadata": {
        "id": "AISNsJEa-ZsR"
      },
      "source": [
        "### Problem 7\n",
        "<u>Problem 7:</u>\n",
        "\n",
        "Answer the following questions about the accompanying data file.\n",
        "\n",
        "1. What is the maximum yearly NYC consumption of water in millions of gallons per day?\n",
        "\n",
        "2. How many calendar years are represented within this data set? NumPy's shape command is one way to find\n",
        "out.\n",
        "3. What is the mean and the standard deviation of the per capita daily water consumption?\n",
        "4. What is the increase or decrease in population from year to year? Use NumPy's 'diff' function to create an array\n",
        "of differences and save that to a variable called \"pop_diff\", then print that variable to the screen.\n",
        "\n",
        "<br>\n",
        "\n",
        "[Module6_Data.xlsx](https://drive.google.com/open?id=1Ge48f7AP7-RC5Nx6280ktxhXD8BF0QSF)"
      ]
    },
    {
      "cell_type": "code",
      "execution_count": 22,
      "metadata": {
        "colab": {
          "base_uri": "https://localhost:8080/",
          "height": 215
        },
        "id": "GZUiLS1R-ZsR",
        "outputId": "32891ebb-ad67-480f-9701-07c1ba19a5c1"
      },
      "outputs": [
        {
          "data": {
            "text/html": [
              "<div>\n",
              "<style scoped>\n",
              "    .dataframe tbody tr th:only-of-type {\n",
              "        vertical-align: middle;\n",
              "    }\n",
              "\n",
              "    .dataframe tbody tr th {\n",
              "        vertical-align: top;\n",
              "    }\n",
              "\n",
              "    .dataframe thead th {\n",
              "        text-align: right;\n",
              "    }\n",
              "</style>\n",
              "<table border=\"1\" class=\"dataframe\">\n",
              "  <thead>\n",
              "    <tr style=\"text-align: right;\">\n",
              "      <th></th>\n",
              "      <th>Year</th>\n",
              "      <th>New York City Population</th>\n",
              "      <th>NYC Consumption(Million gallons per day)</th>\n",
              "      <th>Per Capita(Gallons per person per day)</th>\n",
              "    </tr>\n",
              "  </thead>\n",
              "  <tbody>\n",
              "    <tr>\n",
              "      <th>0</th>\n",
              "      <td>1979</td>\n",
              "      <td>7102100.0</td>\n",
              "      <td>1512.0</td>\n",
              "      <td>213</td>\n",
              "    </tr>\n",
              "    <tr>\n",
              "      <th>1</th>\n",
              "      <td>1980</td>\n",
              "      <td>7071639.0</td>\n",
              "      <td>1506.0</td>\n",
              "      <td>213</td>\n",
              "    </tr>\n",
              "    <tr>\n",
              "      <th>2</th>\n",
              "      <td>1981</td>\n",
              "      <td>7089241.0</td>\n",
              "      <td>1309.0</td>\n",
              "      <td>185</td>\n",
              "    </tr>\n",
              "    <tr>\n",
              "      <th>3</th>\n",
              "      <td>1982</td>\n",
              "      <td>7109105.0</td>\n",
              "      <td>1382.0</td>\n",
              "      <td>194</td>\n",
              "    </tr>\n",
              "    <tr>\n",
              "      <th>4</th>\n",
              "      <td>1983</td>\n",
              "      <td>7181224.0</td>\n",
              "      <td>1424.0</td>\n",
              "      <td>198</td>\n",
              "    </tr>\n",
              "  </tbody>\n",
              "</table>\n",
              "</div>"
            ],
            "text/plain": [
              "   Year  New York City Population  NYC Consumption(Million gallons per day)  \\\n",
              "0  1979                 7102100.0                                    1512.0   \n",
              "1  1980                 7071639.0                                    1506.0   \n",
              "2  1981                 7089241.0                                    1309.0   \n",
              "3  1982                 7109105.0                                    1382.0   \n",
              "4  1983                 7181224.0                                    1424.0   \n",
              "\n",
              "   Per Capita(Gallons per person per day)  \n",
              "0                                     213  \n",
              "1                                     213  \n",
              "2                                     185  \n",
              "3                                     194  \n",
              "4                                     198  "
            ]
          },
          "execution_count": 22,
          "metadata": {},
          "output_type": "execute_result"
        }
      ],
      "source": [
        "csvv = 'https://raw.githubusercontent.com/iakil/CSCI381_DataScience/main/Data/Module6_Data.csv'\n",
        "df = pd.read_csv (csvv) # read csv file using pandas\n",
        "df.head() # Print first 5"
      ]
    },
    {
      "cell_type": "markdown",
      "metadata": {
        "id": "u863cFMq-ZsS"
      },
      "source": [
        "#### Part 1\n",
        "\n",
        "What is the maximum yearly NYC consumption of water in millions of gallons per day?"
      ]
    },
    {
      "cell_type": "code",
      "execution_count": 23,
      "metadata": {
        "colab": {
          "base_uri": "https://localhost:8080/"
        },
        "id": "3XjQulGT-ZsS",
        "outputId": "bc926158-3917-48a6-e5a4-1514a760c83d"
      },
      "outputs": [
        {
          "name": "stdout",
          "output_type": "stream",
          "text": [
            "1512.0\n"
          ]
        }
      ],
      "source": [
        "# to_numpy() convert to numpy and gives numpy functionality\n",
        "maxConsump=np.max(df.to_numpy()[:,2]) # max val of 3rd col\n",
        "print(maxConsump)"
      ]
    },
    {
      "cell_type": "markdown",
      "metadata": {
        "id": "aOaDDXm8-ZsS"
      },
      "source": [
        "#### Part 2\n",
        "\n",
        "How many calendar years are represented within this data set? NumPy's shape command is one way to find out."
      ]
    },
    {
      "cell_type": "code",
      "execution_count": 24,
      "metadata": {
        "colab": {
          "base_uri": "https://localhost:8080/"
        },
        "id": "6BugBoCy-ZsT",
        "outputId": "73e2b71a-ff6e-4556-8a6a-099fea4a6b01"
      },
      "outputs": [
        {
          "name": "stdout",
          "output_type": "stream",
          "text": [
            "Total year is: 39\n"
          ]
        }
      ],
      "source": [
        "yearr= np.shape(df['Year'].to_numpy()) # find the shape of the col\n",
        "print(f\"Total year is: {yearr[0]}\")"
      ]
    },
    {
      "cell_type": "markdown",
      "metadata": {
        "id": "t4d851wF-ZsT"
      },
      "source": [
        "#### Part 3\n",
        "\n",
        "What is the mean and the standard deviation of the per capita daily water consumption?"
      ]
    },
    {
      "cell_type": "code",
      "execution_count": 25,
      "metadata": {
        "colab": {
          "base_uri": "https://localhost:8080/"
        },
        "id": "Pzfi2Uhq-ZsT",
        "outputId": "eba5301f-afdd-4a48-e2dc-1615b9c8fd35"
      },
      "outputs": [
        {
          "name": "stdout",
          "output_type": "stream",
          "text": [
            "Mean: 160.30769230769232\n",
            "Standard Deviation: 31.51894330370624\n"
          ]
        }
      ],
      "source": [
        "meann = np.mean(df['Per Capita(Gallons per person per day)'].to_numpy())\n",
        "stdd = np.abs(np.std(df['Per Capita(Gallons per person per day)'].to_numpy())) # std cant be negative\n",
        "\n",
        "print (f\"Mean: {meann}\\nStandard Deviation: {stdd}\")"
      ]
    },
    {
      "cell_type": "markdown",
      "metadata": {
        "id": "cYhJ-cyg-ZsU"
      },
      "source": [
        "#### Part 4\n",
        "\n",
        "What is the increase or decrease in population from year to year? Use NumPy's `'diff'` function to create an array of differences and save that to a variable called `\"pop_diff\"`, then print that variable to the screen."
      ]
    },
    {
      "cell_type": "code",
      "execution_count": 26,
      "metadata": {
        "colab": {
          "base_uri": "https://localhost:8080/"
        },
        "id": "Z8rdXofb-ZsU",
        "outputId": "b6d21b06-403b-4eda-9369-0bcc48d1ee84"
      },
      "outputs": [
        {
          "name": "stdout",
          "output_type": "stream",
          "text": [
            "[-30461.   17602.   19864.   72119.   53290.   39540.   45192.   23230.\n",
            "  11243.   -9544.   -8525.   38851.   54443.   77222.   64292.   62582.\n",
            "  64772.   75631.   84816.   89401.   60618.   16685.5  16685.5  16685.5\n",
            "  16685.5  16685.5  16685.5  16685.5  16685.5  16685.5  16685.5 108965.\n",
            "  77081.   61281.   49530.   44512.   21171.   85025. ]\n"
          ]
        }
      ],
      "source": [
        "pop_diff = np.diff(df['New York City Population'].to_numpy()) # alt [:,1] \n",
        "#pop_diff = np.diff(df.to_numpy() [:,1]) # alt [:,1]  since its 2nd col\n",
        "\n",
        "print(pop_diff)\n",
        "\n",
        "#Subtract 1st val from 2nd val"
      ]
    }
  ],
  "metadata": {
    "colab": {
      "collapsed_sections": [
        "tUk9dFc2-ZsJ"
      ],
      "name": "Numpy.ipynb",
      "provenance": []
    },
    "kernelspec": {
      "display_name": "Python 3.10.3 64-bit",
      "language": "python",
      "name": "python3"
    },
    "language_info": {
      "codemirror_mode": {
        "name": "ipython",
        "version": 3
      },
      "file_extension": ".py",
      "mimetype": "text/x-python",
      "name": "python",
      "nbconvert_exporter": "python",
      "pygments_lexer": "ipython3",
      "version": "3.10.3"
    },
    "vscode": {
      "interpreter": {
        "hash": "aee8b7b246df8f9039afb4144a1f6fd8d2ca17a180786b69acc140d282b71a49"
      }
    }
  },
  "nbformat": 4,
  "nbformat_minor": 0
}
