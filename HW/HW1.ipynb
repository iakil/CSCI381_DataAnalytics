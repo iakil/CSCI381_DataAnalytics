{
  "nbformat": 4,
  "nbformat_minor": 0,
  "metadata": {
    "colab": {
      "name": "HW1.ipynb",
      "provenance": [],
      "collapsed_sections": [
        "E5ukq6lSWCHa",
        "tyyn6BJyXG30",
        "2XyOH1LkuVoo",
        "GuPFmdVTWqTi",
        "u0iLk0C2Xemg"
      ]
    },
    "kernelspec": {
      "name": "python3",
      "display_name": "Python 3"
    },
    "language_info": {
      "name": "python"
    }
  },
  "cells": [
    {
      "cell_type": "markdown",
      "source": [
        "Akil Bhuiyan\n",
        "\n",
        "HW1"
      ],
      "metadata": {
        "id": "9jhgUO0xVXlr"
      }
    },
    {
      "cell_type": "markdown",
      "source": [
        "# **(LeetCode) [11. Container With Most Water](https://leetcode.com/problems/container-with-most-water/)** \n",
        "\n",
        "> Medium Difficulty\n",
        "\n",
        "<br>"
      ],
      "metadata": {
        "id": "E5ukq6lSWCHa"
      }
    },
    {
      "cell_type": "markdown",
      "source": [
        "You are given an integer array height of length n. There are n vertical lines drawn such that the two endpoints of the ith line are (i, 0) and (i, height[i]).\n",
        "\n",
        "Find two lines that together with the x-axis form a container, such that the container contains the most water.\n",
        "\n",
        "Return the maximum amount of water a container can store.\n",
        "\n",
        "**Notice** that you may not slant the container.\n",
        "\n",
        " \n",
        "\n",
        "**Example 1:**\n",
        "\n",
        "\n",
        "![Data](https://drive.google.com/uc?export=view&id=1cYVP_UapI--hFMviIALhSOkezrC68FeI) \n",
        "\n",
        "\n",
        "Input: height = [1,8,6,2,5,4,8,3,7]\n",
        "\n",
        "Output: 49\n",
        "\n",
        "Explanation: The above vertical lines are represented by array [1,8,6,2,5,4,8,3,7]. In this case, the max area of water (blue section) the container can contain is 49.\n",
        "\n",
        "<br>\n",
        "\n",
        "**Example 2:** <br> \n",
        "> Input: height = [1,1] <br> Output: 1\n",
        "\n",
        "\n",
        "\n",
        "<br>\n",
        "\n",
        "**Constraints:**\n",
        "\n",
        "n == height.length\n",
        "\n",
        "2 <= n <= 105\n",
        "\n",
        "0 <= height [i] <= 104\n",
        "\n",
        "\n"
      ],
      "metadata": {
        "id": "G_WtmtPZG8YW"
      }
    },
    {
      "cell_type": "markdown",
      "source": [
        "##Solution: \n",
        "(LeetCode) 11. Container With Most Water"
      ],
      "metadata": {
        "id": "fWl-H1qhlmTH"
      }
    },
    {
      "cell_type": "code",
      "execution_count": 2,
      "metadata": {
        "id": "hNYtOoGxGjNx"
      },
      "outputs": [],
      "source": [
        "from typing import List\n",
        "class Solution:\n",
        "  '''\n",
        "    ->int means it returns integer  and \n",
        "    height: List[int] means the datatype of height is List of integer\n",
        "  '''\n",
        "  def maxArea (self, height: List[int]) -> int:\n",
        "    left =0\n",
        "    prevLeft=0\n",
        "    right = len(height) - 1\n",
        "    prevRight=0\n",
        "    highest = 0\n",
        "\n",
        "    while left != right:\n",
        "      if height[left] < prevLeft:\n",
        "        left +=1\n",
        "        continue\n",
        "      if (height[right] < prevRight):\n",
        "        right-=1\n",
        "        continue\n",
        "      nextArea = (min (height[left], height[right])) * (right-left)\n",
        "\n",
        "      if nextArea>highest:\n",
        "        highest = nextArea\n",
        "      if height[left] < height [right]:\n",
        "        prevLeft = height [left]\n",
        "        left+=1\n",
        "      else:\n",
        "        prevRight = height [right]\n",
        "        right -= 1\n",
        "    return (highest)\n",
        "        "
      ]
    },
    {
      "cell_type": "code",
      "source": [
        "s1 = Solution() #Object named s1 for class solution\n",
        "p = s1.maxArea(height = [1,8,6,2,5,4,8,3,7])\n",
        "print (p)"
      ],
      "metadata": {
        "id": "4WwoCvNQV1E4",
        "colab": {
          "base_uri": "https://localhost:8080/"
        },
        "outputId": "7ded35a6-ebf2-48d7-ee53-23402ae81695"
      },
      "execution_count": 3,
      "outputs": [
        {
          "output_type": "stream",
          "name": "stdout",
          "text": [
            "49\n"
          ]
        }
      ]
    },
    {
      "cell_type": "markdown",
      "source": [
        "# **(LeetCode) [17. Letter Combinations of a Phone Number](https://leetcode.com/problems/letter-combinations-of-a-phone-number/)** \n",
        "\n",
        "> Medium Difficulty\n"
      ],
      "metadata": {
        "id": "tyyn6BJyXG30"
      }
    },
    {
      "cell_type": "markdown",
      "source": [
        "Given a string containing digits from 2-9 inclusive, return all possible letter combinations that the number could represent. Return the answer in **any order.**\n",
        "\n",
        "A mapping of digit to letters (just like on the telephone buttons) is given below. Note that 1 does not map to any letters.\n",
        "\n",
        "<br>\n",
        "\n",
        "![Data](https://drive.google.com/uc?export=view&id=1HTmG9zH5Dd5vT3_hdDVggw4xUDKVvecT)\n",
        "\n",
        "<br>\n",
        "\n",
        "**Example 1:**\n",
        "> Input: digits = \"23\"\n",
        "> Output: [\"ad\",\"ae\",\"af\",\"bd\",\"be\",\"bf\",\"cd\",\"ce\",\"cf\"]\n",
        "\n",
        "**Example 2:**\n",
        "> Input: digits = \"\"\n",
        "> Output: []\n",
        "\n",
        "**Example 3:**\n",
        "> Input: digits = \"2\"\n",
        "> Output: [\"a\",\"b\",\"c\"]\n",
        " \n",
        "\n",
        "**Constraints:**\n",
        "\n",
        "> * 0 <= digits.length <= 4\n",
        "> * <p>digits[i] is a digit in the range [&ensp;'2'&ensp; ,    &ensp;'9'&ensp;].</p>"
      ],
      "metadata": {
        "id": "_-TG41VsiI2w"
      }
    },
    {
      "cell_type": "markdown",
      "source": [
        "## Solution:\n",
        "(LeetCode) 17. Letter Combinations of a Phone Number"
      ],
      "metadata": {
        "id": "2XyOH1LkuVoo"
      }
    },
    {
      "cell_type": "code",
      "execution_count": 4,
      "metadata": {
        "id": "YgnvIj1yiCEB"
      },
      "outputs": [],
      "source": [
        "from typing import List\n",
        "\n",
        "keyPad = {'2':\"abc\",'3':\"def\",'4':\"ghi\",'5':\"jkl\",\n",
        "     '6':\"mno\",'7':\"pqrs\",'8':\"tuv\",'9':\"wxyz\"}\n",
        "\n",
        "class Solution:\n",
        "    def letterCombinations(self, digits: str) -> List[str]:\n",
        "\n",
        "        DigitsLength = len(digits)\n",
        "        result = []\n",
        "        if digits == \"\": \n",
        "           return []\n",
        "\n",
        "        def outputArr (x: int, input: str):\n",
        "            if x == DigitsLength: \n",
        "               result.append(input)\n",
        "            else:\n",
        "                letters = keyPad [digits[x]]\n",
        "                for letter in letters:\n",
        "                    outputArr(x+1,input+letter) #recursive func\n",
        "        outputArr(0,\"\")\n",
        "        \n",
        "        return result"
      ]
    },
    {
      "cell_type": "code",
      "source": [
        "s1 = Solution()\n",
        "p=s1.letterCombinations(\"23\")\n",
        "print (p)"
      ],
      "metadata": {
        "id": "Kf8z4hqoZR8O",
        "colab": {
          "base_uri": "https://localhost:8080/"
        },
        "outputId": "5bf6eb27-d63b-4c7e-81ae-448b63f64a2a"
      },
      "execution_count": 5,
      "outputs": [
        {
          "output_type": "stream",
          "name": "stdout",
          "text": [
            "['ad', 'ae', 'af', 'bd', 'be', 'bf', 'cd', 'ce', 'cf']\n"
          ]
        }
      ]
    },
    {
      "cell_type": "markdown",
      "source": [
        "# **(ProjectEuler) [Longest Collatz sequence](https://projecteuler.net/problem=14)**\n",
        "Problem 14"
      ],
      "metadata": {
        "id": "GuPFmdVTWqTi"
      }
    },
    {
      "cell_type": "markdown",
      "source": [
        "<p>The following iterative sequence is defined for the set of positive integers:</p>\n",
        "<p class=\"margin_left\"><var>n</var> → <var>n</var>/2 (<var>n</var> is even)<br /><var>n</var> → 3<var>n</var> + 1 (<var>n</var> is odd)</p>\n",
        "<p>Using the rule above and starting with 13, we generate the following sequence:</p>\n",
        "<div class=\"center\">13 → 40 → 20 → 10 → 5 → 16 → 8 → 4 → 2 → 1</div>\n",
        "<p>It can be seen that this sequence (starting at 13 and finishing at 1) contains 10 terms. Although it has not been proved yet (Collatz Problem), it is thought that all starting numbers finish at 1.</p>\n",
        "<p>Which starting number, under one million, produces the longest chain?</p>\n",
        "<p class=\"note\"><b>NOTE:</b> Once the chain starts the terms are allowed to go above one million.</p>\n"
      ],
      "metadata": {
        "id": "jO4-s77zP3C5"
      }
    },
    {
      "cell_type": "markdown",
      "source": [
        "## Solution:\n",
        "(ProjectEuler) Longest Collatz sequence\n",
        "\n",
        "Problem 14"
      ],
      "metadata": {
        "id": "4lcqdRZmfuO8"
      }
    },
    {
      "cell_type": "code",
      "source": [
        "class Solution: \n",
        "   def longestChain(self):\n",
        "      highest = 0\n",
        "      result = []\n",
        "     \n",
        "      for i in range (1,1000001):\n",
        "         tracking = s1.collatz(i)[1]\n",
        "         if tracking > highest:\n",
        "            result = []\n",
        "            highest = tracking\n",
        "            result = [i, highest]\n",
        "\n",
        "      return result\n",
        "\n",
        "   def collatz (self, num): \n",
        "      my_collatz = [num]\n",
        "      count = 0\n",
        "      while num != 1:\n",
        "         \n",
        "         if num % 2 == 0:\n",
        "            num = num//2\n",
        "            my_collatz.append(num)\n",
        "            count = count +1\n",
        "         else:\n",
        "            num = num*3+1 \n",
        "            my_collatz.append(num)\n",
        "            count = count +1\n",
        "         \n",
        "      return [my_collatz,count]"
      ],
      "metadata": {
        "id": "qlup7Vabfp5Y"
      },
      "execution_count": 6,
      "outputs": []
    },
    {
      "cell_type": "code",
      "source": [
        "s1 = Solution()\n",
        "\n",
        "'''\n",
        "For x var, \n",
        "   type 'lc' for longest chain under million, \n",
        "   type number for sequence of length\n",
        "'''\n",
        "x = 'lc'  # modify this\n",
        "\n",
        "if x == 'lc':\n",
        "   p = s1.longestChain()\n",
        "   print (f\"Under One Million Longest Chain: \\nNUM: {p[0]}\\nSequence of length: {p[1]}\")\n",
        "\n",
        "else: \n",
        "   p = s1.collatz(x)\n",
        "   print (f\"Number: {p[0][0]}\\nSequence: {p[0]}\\nSequence length: {p[1]}\\nSequence length: {len(p[0])-1}\")\n",
        "\n",
        "\n",
        "# from os import system\n",
        "# import sys\n",
        "# class Solution: \n",
        "#    def collatz (self, num): \n",
        "#       x = \"Sequence length Exceed\"\n",
        "#       my_collatz = [num]\n",
        "#       count = 0\n",
        "#       while num != 1:\n",
        "#          if (count>1000000):\n",
        "#             sys.exit(x)\n",
        "#          if num % 2 == 0:\n",
        "#             num = num//2\n",
        "#             my_collatz.append(num)\n",
        "#             count = count +1\n",
        "#          else:\n",
        "#             num = num*3+1 # python uses PEMDAS \n",
        "#             my_collatz.append(num)\n",
        "#             count = count +1\n",
        "#       results = [my_collatz, count]\n",
        "#       return  results "
      ],
      "metadata": {
        "id": "-3u2MtX5ZBbq",
        "colab": {
          "base_uri": "https://localhost:8080/"
        },
        "outputId": "24189a13-7144-42ca-bc27-547b60832cf0"
      },
      "execution_count": 7,
      "outputs": [
        {
          "output_type": "stream",
          "name": "stdout",
          "text": [
            "Under One Million Longest Chain: \n",
            "NUM: 837799\n",
            "Sequence of length: 524\n"
          ]
        }
      ]
    },
    {
      "cell_type": "code",
      "source": [
        "s1 = Solution()\n",
        "p = s1.collatz(13)\n",
        "print (f\"Number: {p[0][0]}\\nSequence: {p[0]}\\nSequence length: {p[1]}\\nSequence length: {len(p[0])-1}\")"
      ],
      "metadata": {
        "id": "DvZ1LicsY7Ll",
        "colab": {
          "base_uri": "https://localhost:8080/"
        },
        "outputId": "73534771-bee9-4e1e-f85f-919319b6d9cf"
      },
      "execution_count": 8,
      "outputs": [
        {
          "output_type": "stream",
          "name": "stdout",
          "text": [
            "Number: 13\n",
            "Sequence: [13, 40, 20, 10, 5, 16, 8, 4, 2, 1]\n",
            "Sequence length: 9\n",
            "Sequence length: 9\n"
          ]
        }
      ]
    },
    {
      "cell_type": "markdown",
      "source": [
        "# **(ProjectEuler) [Factorial digit sum](https://projecteuler.net/problem=20)**\n",
        "Problem 20"
      ],
      "metadata": {
        "id": "u0iLk0C2Xemg"
      }
    },
    {
      "cell_type": "markdown",
      "source": [
        "<p><i>n</i>! means <i>n</i> × (<i>n</i> − 1) × ... × 3 × 2 × 1</p>\n",
        "<p>For example, 10! = 10 × 9 × ... × 3 × 2 × 1 = 3628800,<br />and the sum of the digits in the number 10! is 3 + 6 + 2 + 8 + 8 + 0 + 0 = 27.</p>\n",
        "<p>Find the sum of the digits in the number 100!</p>\n"
      ],
      "metadata": {
        "id": "gzG6NuWGttRM"
      }
    },
    {
      "cell_type": "markdown",
      "source": [
        "## Solution:\n",
        "(ProjectEuler) Factorial digit sum\n",
        "\n",
        "Problem 20"
      ],
      "metadata": {
        "id": "UWYaXwni6U-D"
      }
    },
    {
      "cell_type": "code",
      "execution_count": 9,
      "metadata": {
        "id": "weKKGg_-tsZI"
      },
      "outputs": [],
      "source": [
        "class Solution:\n",
        "    def sumOfFact(self,num):\n",
        "       #num = int (num)\n",
        "        factoriall =1\n",
        "        for i in range (1,num+1):\n",
        "           factoriall = factoriall * i\n",
        "\n",
        "        factoriall = str (factoriall)\n",
        "        total = 0\n",
        "        for i in range (0,len(factoriall)):\n",
        "            total = total + int (factoriall[i])\n",
        "        return total"
      ]
    },
    {
      "cell_type": "markdown",
      "source": [
        "> ex: 5! is 120 <br>\n",
        "Sum of the digits of the number 120 is: 1 + 2 + 0 = ***3***\n"
      ],
      "metadata": {
        "id": "_BxMtH9o5UTu"
      }
    },
    {
      "cell_type": "code",
      "source": [
        "s1 = Solution ()\n",
        "p = s1.sumOfFact (5)\n",
        "print (p)"
      ],
      "metadata": {
        "colab": {
          "base_uri": "https://localhost:8080/"
        },
        "id": "qhOpQyxR6Dyu",
        "outputId": "d124ab82-bdc5-49f5-b458-b826b0ba7d49"
      },
      "execution_count": 10,
      "outputs": [
        {
          "output_type": "stream",
          "name": "stdout",
          "text": [
            "3\n"
          ]
        }
      ]
    }
  ]
}