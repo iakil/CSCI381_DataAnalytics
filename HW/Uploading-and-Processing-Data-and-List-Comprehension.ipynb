{
  "cells": [
    {
      "cell_type": "markdown",
      "metadata": {
        "id": "w3Jw2KXlBF8X"
      },
      "source": [
        " Akil Bhuiyan\n",
        "\n",
        " Uploading and Processing Data and List Comprehension\n",
        " \n",
        "\n",
        "For the first eight questions, use [cars-sample35.txt](https://drive.google.com/open?id=1BC1MIeucH1NPsdSEL0-dBgLm92S3exPOyo6JT7nc-7o). The seven distinct values represent attributes of a single type of automobile. Specifically we have the following:\n",
        "- Price\n",
        "- Maintenance cost\n",
        "- Number of doors\n",
        "- Number of passengers\n",
        "- Luggage capacity\n",
        "- Safety rating\n",
        "- Classification of vehicle"
      ]
    },
    {
      "cell_type": "markdown",
      "metadata": {
        "id": "Bv9XLSeT14JI"
      },
      "source": [
        "## SSL Certificate Verify"
      ]
    },
    {
      "cell_type": "code",
      "execution_count": 19,
      "metadata": {
        "id": "eJPuK31q2Abw"
      },
      "outputs": [],
      "source": [
        "import ssl\n",
        "ssl._create_default_https_context = ssl._create_unverified_context"
      ]
    },
    {
      "cell_type": "markdown",
      "metadata": {
        "id": "hvKPElpK8sWk"
      },
      "source": [
        "## All Imports"
      ]
    },
    {
      "cell_type": "code",
      "execution_count": 20,
      "metadata": {
        "id": "xOIqEBWj8wOK"
      },
      "outputs": [],
      "source": [
        "import pandas as pd"
      ]
    },
    {
      "cell_type": "markdown",
      "metadata": {
        "id": "TZ--9wDe7qVJ"
      },
      "source": [
        "## 1. Upload the data to github. Retrieve the data to python using Pandas and give it headers."
      ]
    },
    {
      "cell_type": "markdown",
      "metadata": {
        "id": "KhHRDw7C8Ofm"
      },
      "source": [
        "### Upload the data to GitHub"
      ]
    },
    {
      "cell_type": "code",
      "execution_count": 21,
      "metadata": {
        "id": "DZqURE8y7xF0"
      },
      "outputs": [],
      "source": [
        "csvv = 'https://raw.githubusercontent.com/iakil/CSCI381_DataScience/main/Data/cars-sample35.csv'"
      ]
    },
    {
      "cell_type": "markdown",
      "metadata": {
        "id": "CeyCmkJU8V4X"
      },
      "source": [
        "### Read the csv data using Pandas and give it headers"
      ]
    },
    {
      "cell_type": "code",
      "execution_count": 22,
      "metadata": {
        "colab": {
          "base_uri": "https://localhost:8080/"
        },
        "id": "tODZuy4o8bOE",
        "outputId": "3a1ec5d1-e2cf-49ad-adb4-e2e4dd76cd78"
      },
      "outputs": [],
      "source": [
        "headerr = ['Price', 'Maintenance cost',  'Number of doors','Number of passengers','Luggage capacity','Safety rating','Classification of vehicle']\n",
        "df = pd.read_csv(csvv, names = headerr)"
      ]
    },
    {
      "cell_type": "code",
      "execution_count": 23,
      "metadata": {
        "colab": {
          "base_uri": "https://localhost:8080/"
        },
        "id": "wT5UG_Ly7FJk",
        "outputId": "9485006e-87c7-47df-adac-2c1a47391245"
      },
      "outputs": [
        {
          "name": "stdout",
          "output_type": "stream",
          "text": [
            "   Price Maintenance cost Number of doors Number of passengers  \\\n",
            "0   high             high               2                    4   \n",
            "1   high             high               4                 more   \n",
            "2   high             high               4                 more   \n",
            "3   high              low               2                 more   \n",
            "4  vhigh              low               3                    2   \n",
            "5    low             high               2                    2   \n",
            "6    med              med               4                 more   \n",
            "7    low              low               3                    2   \n",
            "8  vhigh              low               2                    2   \n",
            "9  vhigh             high               4                    4   \n",
            "\n",
            "  Luggage capacity Safety rating Classification of vehicle  \n",
            "0              med           low                     unacc  \n",
            "1            small          high                       acc  \n",
            "2              big           low                     unacc  \n",
            "3              big          high                       acc  \n",
            "4              med           med                     unacc  \n",
            "5            small           low                     unacc  \n",
            "6              med          high                     vgood  \n",
            "7              big           med                     unacc  \n",
            "8            small           low                     unacc  \n",
            "9              med           low                     unacc  \n"
          ]
        }
      ],
      "source": [
        "#print (df, sep='      TAB')\n",
        "print (df.head(10)) # top 10 rows; default 5 rows"
      ]
    },
    {
      "cell_type": "markdown",
      "metadata": {
        "id": "1PEKHkNSCDQz"
      },
      "source": [
        "## 2. Extract these seven attributes from each line of the file and create seven distinct Python list objects comprised solely of the values you extracted for a given attribute. In other words, you should have lists of prices, maintenance costs, number of doors, etc."
      ]
    },
    {
      "cell_type": "code",
      "execution_count": 24,
      "metadata": {
        "colab": {
          "base_uri": "https://localhost:8080/"
        },
        "id": "zt3g0_a1CE6F",
        "outputId": "d94e6f03-f168-4c40-b7db-7f1a25a83d1e"
      },
      "outputs": [
        {
          "name": "stdout",
          "output_type": "stream",
          "text": [
            "\n",
            "\n",
            "Price = ['high', 'high', 'high', 'high', 'vhigh', 'low', 'med', 'low', 'vhigh', 'vhigh', 'low', 'vhigh', 'high', 'low', 'high', 'vhigh', 'med', 'high', 'low', 'low', 'med', 'low', 'vhigh', 'med', 'low', 'vhigh', 'med', 'high', 'low', 'med', 'high', 'high', 'low', 'vhigh', 'high'] \n",
            "\n",
            "\n",
            "\n",
            "\n",
            "Maintenance cost = ['high', 'high', 'high', 'low', 'low', 'high', 'med', 'low', 'low', 'high', 'low', 'low', 'low', 'vhigh', 'low', 'high', 'med', 'low', 'low', 'low', 'high', 'low', 'high', 'vhigh', 'vhigh', 'low', 'vhigh', 'high', 'high', 'high', 'low', 'vhigh', 'low', 'vhigh', 'low'] \n",
            "\n",
            "\n",
            "\n",
            "\n",
            "Number of doors = ['2', '4', '4', '2', '3', '2', '4', '3', '2', '4', '2', '4', '2', '3', '5more', '2', '2', '5more', '3', '2', '4', '2', '5more', '2', '4', '3', '3', '3', '5more', '5more', '3', '5more', '5more', '4', '3'] \n",
            "\n",
            "\n",
            "\n",
            "\n",
            "Number of passengers = ['4', 'more', 'more', 'more', '2', '2', 'more', '2', '2', '4', '2', 'more', '4', 'more', '2', 'more', '2', '4', 'more', '2', '2', '2', '4', '2', '4', 'more', '4', '4', '2', '2', '4', '4', '2', '2', '2'] \n",
            "\n",
            "\n",
            "\n",
            "\n",
            "Luggage capacity = ['med', 'small', 'big', 'big', 'med', 'small', 'med', 'big', 'small', 'med', 'med', 'small', 'big', 'big', 'big', 'med', 'small', 'med', 'med', 'big', 'big', 'small', 'med', 'big', 'big', 'big', 'small', 'med', 'big', 'med', 'med', 'med', 'med', 'big', 'big'] \n",
            "\n",
            "\n",
            "\n",
            "\n",
            "Safety rating = ['low', 'high', 'low', 'high', 'med', 'low', 'high', 'med', 'low', 'low', 'med', 'high', 'med', 'low', 'med', 'high', 'low', 'high', 'high', 'med', 'high', 'high', 'med', 'low', 'low', 'low', 'low', 'med', 'low', 'med', 'high', 'med', 'low', 'high', 'high'] \n",
            "\n",
            "\n",
            "\n",
            "\n",
            "Classification of vehicle = ['unacc', 'acc', 'unacc', 'acc', 'unacc', 'unacc', 'vgood', 'unacc', 'unacc', 'unacc', 'unacc', 'acc', 'acc', 'unacc', 'unacc', 'unacc', 'unacc', 'acc', 'vgood', 'unacc', 'unacc', 'unacc', 'unacc', 'unacc', 'unacc', 'unacc', 'unacc', 'unacc', 'unacc', 'unacc', 'acc', 'unacc', 'unacc', 'unacc', 'unacc'] \n",
            "\n",
            "\n"
          ]
        }
      ],
      "source": [
        "Price = [] \n",
        "MaintenanceCost = [] \n",
        "NumberOfDoors = [] \n",
        "NumberOfPassengers = [] \n",
        "LuggageCapacity = [] \n",
        "SafetyRating = [] \n",
        "ClassificationOfVehicle = [] \n",
        "arr = [Price, MaintenanceCost, NumberOfDoors, NumberOfPassengers, LuggageCapacity, SafetyRating, ClassificationOfVehicle]\n",
        "def separateTolist(llist, col):\n",
        "    for i in range (0,len(arr)):\n",
        "        for j in range (0,len(df[col[i]])):\n",
        "            llist[i].append (df[col[i]][j])      \n",
        "separateTolist( arr, headerr)\n",
        "for i in range (0,len(arr)):\n",
        "    print (f\"\\n\\n{headerr[i]} = {arr[i]} \\n\\n\")"
      ]
    },
    {
      "cell_type": "markdown",
      "metadata": {
        "id": "ea1qe7v3jl66"
      },
      "source": [
        "## 3. *Find* the list index values of each automobile having a “price” rating of \"med\". Create a new list object with your result. HINT: you can accomplish this task by searching the list of price values you created earlier. Be sure to print your results."
      ]
    },
    {
      "cell_type": "code",
      "execution_count": 25,
      "metadata": {
        "colab": {
          "base_uri": "https://localhost:8080/"
        },
        "id": "jmdV1Z4ajtRS",
        "outputId": "b216f247-8353-4e15-abff-f766179e2a82"
      },
      "outputs": [
        {
          "name": "stdout",
          "output_type": "stream",
          "text": [
            "[0, 4, 6, 9, 10, 15, 17, 18, 22, 27, 29, 30, 31, 32]\n"
          ]
        }
      ],
      "source": [
        "indexVal = []\n",
        "for i in range (0, len(df['Price'])):\n",
        "  if df ['Luggage capacity'] [i] == 'med':\n",
        "    indexVal.append(i)\n",
        "print (indexVal)\n"
      ]
    },
    {
      "cell_type": "markdown",
      "metadata": {
        "id": "MW9RW0vWlocU"
      },
      "source": [
        "## 4. Find the \"number of passengers\" value for each auto having a \"price\" value of \"med\". Create a new list to store your findings and be sure to print your results."
      ]
    },
    {
      "cell_type": "code",
      "execution_count": 26,
      "metadata": {
        "colab": {
          "base_uri": "https://localhost:8080/"
        },
        "id": "U_fYRJC3lqbV",
        "outputId": "e6549025-b0e2-4853-b9df-c17e9d44dcd9"
      },
      "outputs": [
        {
          "name": "stdout",
          "output_type": "stream",
          "text": [
            "['4', '2', 'more', '4', '2', 'more', '4', 'more', '4', '4', '2', '4', '4', '2']\n"
          ]
        }
      ],
      "source": [
        "indexVal = []\n",
        "for i in range (0, len(df['Price'])):\n",
        "  if df ['Luggage capacity'] [i] == 'med':\n",
        "    indexVal.append(df['Number of passengers'][i])\n",
        "print (indexVal)"
      ]
    },
    {
      "cell_type": "markdown",
      "metadata": {
        "id": "7-cZo2R8Za8W"
      },
      "source": [
        "## 5. Find the index value for each automobile having a “price” value of \"high\" and a “maintenance” value that is not \"low\". Create a new list to store your findings and be sure to print your results."
      ]
    },
    {
      "cell_type": "code",
      "execution_count": 27,
      "metadata": {
        "colab": {
          "base_uri": "https://localhost:8080/"
        },
        "id": "uZi6XDgVZbZi",
        "outputId": "386179c9-cf7a-43f0-a89f-010b7bf33ad2"
      },
      "outputs": [
        {
          "name": "stdout",
          "output_type": "stream",
          "text": [
            "[0, 1, 2, 27, 31]\n"
          ]
        }
      ],
      "source": [
        "newList = []\n",
        "for i in range (0, len (df['Price'])):\n",
        "    if df['Price'][i] == 'high' and df['Maintenance cost'][i] != 'low': \n",
        "        newList.append(i)\n",
        "\n",
        "print (newList)"
      ]
    },
    {
      "cell_type": "markdown",
      "metadata": {
        "id": "u9wMAxDq-NTw"
      },
      "source": [
        "## 6. Find the list index values of each automobile having a price rating of \"med\" using a list comprehension instead of a basic for or while loop. The list comprehension should create a new list containing your result. Be sure to print your results to the screen."
      ]
    },
    {
      "cell_type": "code",
      "execution_count": 28,
      "metadata": {
        "colab": {
          "base_uri": "https://localhost:8080/"
        },
        "id": "CBCG7OaC-OmX",
        "outputId": "8e1e3bff-9de7-4270-d2d3-a6a37353a33e"
      },
      "outputs": [
        {
          "name": "stdout",
          "output_type": "stream",
          "text": [
            "[0, 4, 6, 9, 10, 15, 17, 18, 22, 27, 29, 30, 31, 32]\n"
          ]
        }
      ],
      "source": [
        "indexVal = [x for x in range (0,len(df['Price'])) if df ['Luggage capacity'][x] =='med'] # To retrive val use [col] [row]\n",
        "print (indexVal)"
      ]
    },
    {
      "cell_type": "markdown",
      "metadata": {
        "id": "TwlP6D0sm8AE"
      },
      "source": [
        "## 7. Find the \"number of passengers\" value for each auto having a \"price\" value of \"med\" using a list comprehension instead of a basic for or while loop. The list comprehension should create a new list containing your findings. Be sure to print your results to the screen."
      ]
    },
    {
      "cell_type": "code",
      "execution_count": 29,
      "metadata": {
        "colab": {
          "base_uri": "https://localhost:8080/"
        },
        "id": "rwGHKHP2m8AL",
        "outputId": "e7e2740d-0639-474f-94a8-4a44a2769e34"
      },
      "outputs": [
        {
          "name": "stdout",
          "output_type": "stream",
          "text": [
            "['4', '2', 'more', '4', '2', 'more', '4', 'more', '4', '4', '2', '4', '4', '2']\n"
          ]
        }
      ],
      "source": [
        "indexVal = []\n",
        "indexVal = [ df['Number of passengers'][i] for i in range (0, len(df['Price'])) if df ['Luggage capacity'] [i] == 'med']\n",
        "\n",
        "print (indexVal)"
      ]
    },
    {
      "cell_type": "markdown",
      "metadata": {
        "id": "__qwfg4lbcX-"
      },
      "source": [
        "## 8. Find the index value for each automobile having a price value of \"high\" and a maintenance value that is not \"low\" using a list comprehension. The list comprehension should create a new list containing your findings. Be sure to print your results to the screen."
      ]
    },
    {
      "cell_type": "code",
      "execution_count": 30,
      "metadata": {
        "colab": {
          "base_uri": "https://localhost:8080/"
        },
        "id": "Z2Kgcet8bfUl",
        "outputId": "219dbb9e-3dab-44e2-ccd4-23f0d620bca3"
      },
      "outputs": [
        {
          "name": "stdout",
          "output_type": "stream",
          "text": [
            "[0, 1, 2, 27, 31]\n"
          ]
        }
      ],
      "source": [
        "newList = [i for i in range (0, len (df['Price']))  if df['Price'][i] == 'high' and df['Maintenance cost'][i] != 'low']\n",
        "\n",
        "print (newList)"
      ]
    },
    {
      "cell_type": "markdown",
      "metadata": {
        "id": "RgyShyd5smha"
      },
      "source": [
        "## Nested List Comprehension: \n",
        "\n",
        "<p> nlist = [ [1, 2, 3], ['A', 'B', 'C'], [4, 5], ['D', 'E'] ] </p>\n",
        "\n"
      ]
    },
    {
      "cell_type": "code",
      "execution_count": 31,
      "metadata": {
        "id": "i7TMEzlcsr47"
      },
      "outputs": [],
      "source": [
        "nList = [ [1, 2, 3], ['A', 'B', 'C'], [4, 5], ['D', 'E'] ]"
      ]
    },
    {
      "cell_type": "code",
      "execution_count": 32,
      "metadata": {
        "colab": {
          "base_uri": "https://localhost:8080/"
        },
        "id": "RS-MaLm67awA",
        "outputId": "d76a84e7-a40c-4a77-da51-4da8ed358dde"
      },
      "outputs": [
        {
          "name": "stdout",
          "output_type": "stream",
          "text": [
            "[[1, 2, 3], ['A', 'B', 'C'], [4, 5], ['D', 'E']]\n"
          ]
        }
      ],
      "source": [
        "newList = [i for i in nList]  # copy nlist to newList\n",
        "print (newList)"
      ]
    },
    {
      "cell_type": "code",
      "execution_count": 33,
      "metadata": {
        "colab": {
          "base_uri": "https://localhost:8080/",
          "height": 184
        },
        "id": "h5-eT1Aw62ND",
        "outputId": "d05e784c-2e6e-4969-f647-402c5d197f5c"
      },
      "outputs": [
        {
          "name": "stdout",
          "output_type": "stream",
          "text": [
            "[1, 2, 3, 'A', 'B', 'C', 4, 5, 'D', 'E']\n"
          ]
        }
      ],
      "source": [
        "newList = [j for i in nList for j in i] #Extract each elements and put it in a newList\n",
        "print (newList)"
      ]
    }
  ],
  "metadata": {
    "colab": {
      "collapsed_sections": [
        "NtfKwIWds3Nl",
        "RktBv7SMOnXv",
        "dT7miX3s6qrc",
        "hvKPElpK8sWk",
        "TZ--9wDe7qVJ",
        "KhHRDw7C8Ofm",
        "CeyCmkJU8V4X",
        "1PEKHkNSCDQz",
        "ea1qe7v3jl66",
        "RgyShyd5smha"
      ],
      "name": "Uploading and Processing Data and List Comprehension.ipynb",
      "provenance": []
    },
    "kernelspec": {
      "display_name": "Python 3.10.3 64-bit",
      "language": "python",
      "name": "python3"
    },
    "language_info": {
      "codemirror_mode": {
        "name": "ipython",
        "version": 3
      },
      "file_extension": ".py",
      "mimetype": "text/x-python",
      "name": "python",
      "nbconvert_exporter": "python",
      "pygments_lexer": "ipython3",
      "version": "3.10.3"
    },
    "vscode": {
      "interpreter": {
        "hash": "aee8b7b246df8f9039afb4144a1f6fd8d2ca17a180786b69acc140d282b71a49"
      }
    }
  },
  "nbformat": 4,
  "nbformat_minor": 0
}
